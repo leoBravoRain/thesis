{
 "cells": [
  {
   "cell_type": "markdown",
   "id": "vocational-adventure",
   "metadata": {},
   "source": [
    "# Load libraries"
   ]
  },
  {
   "cell_type": "code",
   "execution_count": 1,
   "id": "increasing-transcription",
   "metadata": {},
   "outputs": [],
   "source": [
    "import pickle\n",
    "import numpy as np\n",
    "from sklearn.metrics import classification_report\n",
    "from sklearn.metrics import confusion_matrix\n",
    "import seaborn as sn\n",
    "import matplotlib.pyplot as plt\n",
    "from joblib import load\n",
    "from treeinterpreter import treeinterpreter as ti\n",
    "from sklearn.inspection import permutation_importance"
   ]
  },
  {
   "cell_type": "markdown",
   "id": "better-columbia",
   "metadata": {},
   "source": [
    "# Define general variables"
   ]
  },
  {
   "cell_type": "code",
   "execution_count": 2,
   "id": "maritime-alfred",
   "metadata": {},
   "outputs": [],
   "source": [
    "seed = 0\n",
    "only_these_labels = [16, 92, 53, 88, 65, 6] "
   ]
  },
  {
   "cell_type": "markdown",
   "id": "aging-alliance",
   "metadata": {},
   "source": [
    "# Get own model predictions"
   ]
  },
  {
   "cell_type": "code",
   "execution_count": 3,
   "id": "imported-blond",
   "metadata": {},
   "outputs": [
    {
     "name": "stdout",
     "output_type": "stream",
     "text": [
      "dict_keys(['testIds', 'testLabels', 'testPredictions'])\n",
      "(6546,)\n"
     ]
    }
   ],
   "source": [
    "# load model\n",
    "a_file = open(\"../../experiments/comparingModels/seed\" + str(seed) + \"/ownModel/testOwnModelPredictions.pkl\", \"rb\")\n",
    "ownModelResults = pickle.load(a_file)\n",
    "print(ownModelResults.keys())\n",
    "print(ownModelResults[\"testIds\"].shape)"
   ]
  },
  {
   "cell_type": "markdown",
   "id": "consolidated-canada",
   "metadata": {},
   "source": [
    "# Get RF predictions"
   ]
  },
  {
   "cell_type": "code",
   "execution_count": 4,
   "id": "practical-therapist",
   "metadata": {},
   "outputs": [
    {
     "name": "stdout",
     "output_type": "stream",
     "text": [
      "dict_keys(['testIds', 'testLabels', 'testPredictions'])\n",
      "(6546,)\n"
     ]
    }
   ],
   "source": [
    "# load files\n",
    "a_file = open(\"../../experiments/comparingModels/seed\" + str(seed) + \"/RF/testPredictionsRF.pkl\", \"rb\")\n",
    "rFResults = pickle.load(a_file)\n",
    "print(rFResults.keys())\n",
    "print(rFResults[\"testIds\"].shape)"
   ]
  },
  {
   "cell_type": "markdown",
   "id": "several-mapping",
   "metadata": {},
   "source": [
    "# Test if test datasets are equals"
   ]
  },
  {
   "cell_type": "code",
   "execution_count": 5,
   "id": "exposed-disorder",
   "metadata": {},
   "outputs": [
    {
     "name": "stdout",
     "output_type": "stream",
     "text": [
      "test ok\n"
     ]
    }
   ],
   "source": [
    "assert np.array_equal(ownModelResults[\"testIds\"], rFResults[\"testIds\"])\n",
    "print(\"test ok\")"
   ]
  },
  {
   "cell_type": "code",
   "execution_count": 6,
   "id": "colonial-cursor",
   "metadata": {},
   "outputs": [
    {
     "name": "stdout",
     "output_type": "stream",
     "text": [
      "test ok\n"
     ]
    }
   ],
   "source": [
    "assert np.array_equal(ownModelResults[\"testLabels\"], rFResults[\"testLabels\"])\n",
    "print(\"test ok\")"
   ]
  },
  {
   "cell_type": "code",
   "execution_count": 7,
   "id": "blank-victim",
   "metadata": {},
   "outputs": [
    {
     "name": "stdout",
     "output_type": "stream",
     "text": [
      "test ok\n"
     ]
    }
   ],
   "source": [
    "assert not np.array_equal(ownModelResults[\"testPredictions\"], rFResults[\"testPredictions\"])\n",
    "print(\"test ok\")"
   ]
  },
  {
   "cell_type": "markdown",
   "id": "undefined-marsh",
   "metadata": {},
   "source": [
    "# Analysis"
   ]
  },
  {
   "cell_type": "markdown",
   "id": "weighted-animation",
   "metadata": {},
   "source": [
    "# get confusion matrix"
   ]
  },
  {
   "cell_type": "code",
   "execution_count": 8,
   "id": "located-benchmark",
   "metadata": {},
   "outputs": [],
   "source": [
    "# [\"true\", \"pred\", \"all\", None]\n",
    "normalize = \"true\""
   ]
  },
  {
   "cell_type": "code",
   "execution_count": 9,
   "id": "photographic-valuable",
   "metadata": {},
   "outputs": [
    {
     "name": "stdout",
     "output_type": "stream",
     "text": [
      "RF model\n"
     ]
    },
    {
     "data": {
      "text/plain": [
       "<AxesSubplot:>"
      ]
     },
     "execution_count": 9,
     "metadata": {},
     "output_type": "execute_result"
    },
    {
     "data": {
      "image/png": "[encoded data removed]",
      "text/plain": [
       "<Figure size 432x288 with 2 Axes>"
      ]
     },
     "metadata": {
      "needs_background": "light"
     },
     "output_type": "display_data"
    }
   ],
   "source": [
    "print(\"RF model\")\n",
    "\n",
    "# get confussion matrix\n",
    "# C_ij such that  is equal to the number of observations known to be in group i and predicted to be in group j\n",
    "rFResultsCM = confusion_matrix(\n",
    "    rFResults[\"testLabels\"], \n",
    "    rFResults[\"testPredictions\"], \n",
    "    normalize = normalize\n",
    ")\n",
    "\n",
    "# print(f\"class 0: {rFResultsCM[0, :]}\")\n",
    "\n",
    "# plot\n",
    "sn.heatmap(rFResultsCM, annot=True)"
   ]
  },
  {
   "cell_type": "code",
   "execution_count": 10,
   "id": "planned-jaguar",
   "metadata": {},
   "outputs": [
    {
     "name": "stdout",
     "output_type": "stream",
     "text": [
      "Own model\n",
      "class 0: [0.77931034 0.04137931 0.         0.08965517 0.06896552 0.02068966]\n"
     ]
    },
    {
     "data": {
      "text/plain": [
       "<AxesSubplot:>"
      ]
     },
     "execution_count": 10,
     "metadata": {},
     "output_type": "execute_result"
    },
    {
     "data": {
      "image/png": "[encoded data removed]",
      "text/plain": [
       "<Figure size 432x288 with 2 Axes>"
      ]
     },
     "metadata": {
      "needs_background": "light"
     },
     "output_type": "display_data"
    }
   ],
   "source": [
    "print(\"Own model\")\n",
    "\n",
    "# get confussion matrix\n",
    "# C_ij such that  is equal to the number of observations known to be in group i and predicted to be in group j\n",
    "ownModelCM = confusion_matrix(ownModelResults[\"testLabels\"], ownModelResults[\"testPredictions\"], normalize = normalize)\n",
    "\n",
    "print(f\"class 0: {ownModelCM[0, :]}\")\n",
    "\n",
    "# plot\n",
    "sn.heatmap(ownModelCM, annot=True)"
   ]
  },
  {
   "cell_type": "markdown",
   "id": "recovered-ethiopia",
   "metadata": {},
   "source": [
    "# Get classification report"
   ]
  },
  {
   "cell_type": "code",
   "execution_count": 11,
   "id": "fifteen-strike",
   "metadata": {},
   "outputs": [
    {
     "name": "stdout",
     "output_type": "stream",
     "text": [
      "RF model\n",
      "              precision    recall  f1-score   support\n",
      "\n",
      "         6.0       0.50      0.94      0.66       145\n",
      "        16.0       0.96      0.94      0.95      1593\n",
      "        53.0       1.00      0.99      1.00       149\n",
      "        65.0       0.94      0.93      0.94      1598\n",
      "        88.0       0.99      0.96      0.97      1537\n",
      "        92.0       0.98      0.96      0.97      1524\n",
      "\n",
      "    accuracy                           0.95      6546\n",
      "   macro avg       0.90      0.95      0.91      6546\n",
      "weighted avg       0.96      0.95      0.95      6546\n",
      "\n"
     ]
    }
   ],
   "source": [
    "print(\"RF model\")\n",
    "print(classification_report(rFResults[\"testLabels\"], rFResults[\"testPredictions\"]))"
   ]
  },
  {
   "cell_type": "code",
   "execution_count": 12,
   "id": "reliable-ending",
   "metadata": {},
   "outputs": [
    {
     "name": "stdout",
     "output_type": "stream",
     "text": [
      "own model\n",
      "              precision    recall  f1-score   support\n",
      "\n",
      "         6.0       0.34      0.78      0.48       145\n",
      "        16.0       0.90      0.80      0.85      1593\n",
      "        53.0       0.93      0.95      0.94       149\n",
      "        65.0       0.92      0.65      0.76      1598\n",
      "        88.0       0.69      0.91      0.78      1537\n",
      "        92.0       0.96      0.94      0.95      1524\n",
      "\n",
      "    accuracy                           0.82      6546\n",
      "   macro avg       0.79      0.84      0.79      6546\n",
      "weighted avg       0.86      0.82      0.83      6546\n",
      "\n"
     ]
    }
   ],
   "source": [
    "print(\"own model\")\n",
    "print(classification_report(ownModelResults[\"testLabels\"], ownModelResults[\"testPredictions\"]))"
   ]
  },
  {
   "cell_type": "markdown",
   "id": "spread-metropolitan",
   "metadata": {},
   "source": []
  },
  {
   "cell_type": "markdown",
   "id": "established-lindsay",
   "metadata": {},
   "source": [
    "# Get how many correct and wrong classifications are done by each model?\n",
    "Add this to the paper"
   ]
  },
  {
   "cell_type": "code",
   "execution_count": 13,
   "id": "fixed-quick",
   "metadata": {},
   "outputs": [],
   "source": [
    "\n",
    "# save correct classifications by each model \n",
    "# shape: (classes, models (2: own and RF))\n",
    "correctClassifications = np.zeros(shape  = (6, 2))\n",
    "\n",
    "wrongClassifications = np.zeros(shape = (6,2))\n",
    "\n",
    "# iterate by each class\n",
    "for i in np.arange(6):\n",
    "    \n",
    "    # RF\n",
    "    correctClassifications[i][0] = rFResultsCM[i][i] / np.sum(rFResultsCM[i])\n",
    "    wrongClassifications[i][0] = np.sum(rFResultsCM[i][np.delete(np.arange(6), i)]) / np.sum(rFResultsCM[i])\n",
    "    \n",
    "    # own model\n",
    "    correctClassifications[i][1] = ownModelCM[i][i] / np.sum(ownModelCM[i])\n",
    "    wrongClassifications[i][1] = np.sum(ownModelCM[i][np.delete(np.arange(6), i)]) / np.sum(ownModelCM[i])"
   ]
  },
  {
   "cell_type": "code",
   "execution_count": 14,
   "id": "hourly-writer",
   "metadata": {},
   "outputs": [
    {
     "name": "stdout",
     "output_type": "stream",
     "text": [
      "Correct classifications. 0: RF\n"
     ]
    },
    {
     "data": {
      "text/plain": [
       "array([[0.94482759, 0.77931034],\n",
       "       [0.94161959, 0.79849341],\n",
       "       [0.99328859, 0.94630872],\n",
       "       [0.93178974, 0.64768461],\n",
       "       [0.95705921, 0.90696161],\n",
       "       [0.96062992, 0.94291339]])"
      ]
     },
     "execution_count": 14,
     "metadata": {},
     "output_type": "execute_result"
    }
   ],
   "source": [
    "print(\"Correct classifications. 0: RF\")\n",
    "correctClassifications"
   ]
  },
  {
   "cell_type": "markdown",
   "id": "embedded-thomas",
   "metadata": {},
   "source": [
    "In all classes, RF is better"
   ]
  },
  {
   "cell_type": "code",
   "execution_count": 15,
   "id": "talented-consumer",
   "metadata": {},
   "outputs": [
    {
     "name": "stdout",
     "output_type": "stream",
     "text": [
      "Wrong classifications. 0: RF\n"
     ]
    },
    {
     "data": {
      "text/plain": [
       "array([[0.05517241, 0.22068966],\n",
       "       [0.05838041, 0.20150659],\n",
       "       [0.00671141, 0.05369128],\n",
       "       [0.06821026, 0.35231539],\n",
       "       [0.04294079, 0.09303839],\n",
       "       [0.03937008, 0.05708661]])"
      ]
     },
     "execution_count": 15,
     "metadata": {},
     "output_type": "execute_result"
    }
   ],
   "source": [
    "print(\"Wrong classifications. 0: RF\")\n",
    "wrongClassifications"
   ]
  },
  {
   "cell_type": "markdown",
   "id": "animal-ebony",
   "metadata": {},
   "source": [
    "In all classes, RF is better"
   ]
  },
  {
   "cell_type": "markdown",
   "id": "other-token",
   "metadata": {},
   "source": [
    "Based on resutls, RF is better in all classes. There is no one class our model is better, so the models are not complementaries. Our model does not add more value to the classification."
   ]
  },
  {
   "cell_type": "markdown",
   "id": "posted-conspiracy",
   "metadata": {},
   "source": [
    "# Get examples wrongly classified by own model but correctly by RF"
   ]
  },
  {
   "cell_type": "code",
   "execution_count": 16,
   "id": "fuzzy-subdivision",
   "metadata": {},
   "outputs": [],
   "source": [
    "# get RF samples who predictions are equals to labels\n",
    "maskRFCorrects = (rFResults[\"testPredictions\"] == ownModelResults[\"testLabels\"])\n",
    "\n",
    "# get OM samples who predictions are not equals to labels\n",
    "maskOwnModelWrong = (ownModelResults[\"testPredictions\"] != ownModelResults[\"testLabels\"])\n",
    "\n",
    "# get ids that 1)RF are corrects 2) ON are wrong\n",
    "finalMask = (maskRFCorrects & maskOwnModelWrong)\n",
    "\n",
    "# get ids samples\n",
    "idsRFCorrectsAndOwnModelWrongs = ownModelResults[\"testIds\"][finalMask]\n",
    "labelsRFCorrectsAndOwnModelWrongs = ownModelResults[\"testLabels\"][finalMask]\n",
    "\n",
    "# # build object\n",
    "# samplesRFCorrectsAndOwnModelWrongs = {\n",
    "#     \"ids\": idsRFCorrectsAndOwnModelWrongs,\n",
    "#     \"labels\": ownModelResults[\"testLabels\"][finalMask]\n",
    "# }"
   ]
  },
  {
   "cell_type": "code",
   "execution_count": 17,
   "id": "classical-piano",
   "metadata": {},
   "outputs": [
    {
     "data": {
      "text/plain": [
       "(979,)"
      ]
     },
     "execution_count": 17,
     "metadata": {},
     "output_type": "execute_result"
    }
   ],
   "source": [
    "idsRFCorrectsAndOwnModelWrongs.shape"
   ]
  },
  {
   "cell_type": "code",
   "execution_count": 18,
   "id": "veterinary-headline",
   "metadata": {},
   "outputs": [],
   "source": [
    "# test if RF is correct classified and Own model is wrong\n",
    "for i in idsRFCorrectsAndOwnModelWrongs:\n",
    "    \n",
    "    index = np.where(ownModelResults[\"testIds\"]  == i)[0][0]\n",
    "    \n",
    "    # test\n",
    "    # 1) if RF is classifiying correctly\n",
    "    # 2) if Own model is classifiying wrongly\n",
    "    assert ownModelResults[\"testLabels\"][index] == rFResults[\"testPredictions\"][index] and ownModelResults[\"testLabels\"][index] != ownModelResults[\"testPredictions\"][index]"
   ]
  },
  {
   "cell_type": "code",
   "execution_count": 19,
   "id": "sitting-template",
   "metadata": {},
   "outputs": [
    {
     "data": {
      "text/plain": [
       "Text(0.5, 1.0, 'Samples correct RF and wrong own model')"
      ]
     },
     "execution_count": 19,
     "metadata": {},
     "output_type": "execute_result"
    },
    {
     "data": {
      "image/png": "[encoded data removed]",
      "text/plain": [
       "<Figure size 432x288 with 1 Axes>"
      ]
     },
     "metadata": {
      "needs_background": "light"
     },
     "output_type": "display_data"
    }
   ],
   "source": [
    "# analyze labels distributions\n",
    "fig, ax = plt.subplots()\n",
    "\n",
    "classes, countClasses = np.unique(labelsRFCorrectsAndOwnModelWrongs, return_counts = True)\n",
    "\n",
    "# countClasses = countClasses / np.sum(countClasses)\n",
    "countClasses = countClasses\n",
    "\n",
    "classes = list(map(str, classes))\n",
    "\n",
    "ax.bar(\n",
    "    classes, \n",
    "    countClasses,\n",
    "#     width = 10,\n",
    ")\n",
    "\n",
    "ax.set_title(\"Samples correct RF and wrong own model\")"
   ]
  },
  {
   "cell_type": "markdown",
   "id": "complete-latin",
   "metadata": {},
   "source": [
    "# Get examples correctly classified by own model but wrongly by RF"
   ]
  },
  {
   "cell_type": "code",
   "execution_count": 20,
   "id": "mediterranean-aerospace",
   "metadata": {},
   "outputs": [],
   "source": [
    "# get RF samples who predictions are equals to labels\n",
    "maskRFWrong = (rFResults[\"testPredictions\"] != ownModelResults[\"testLabels\"])\n",
    "\n",
    "# get OM samples who predictions are not equals to labels\n",
    "maskOwnModelCorrect = (ownModelResults[\"testPredictions\"] == ownModelResults[\"testLabels\"])\n",
    "\n",
    "# get ids that 1)RF are corrects 2) ON are wrong\n",
    "finalMask = (maskRFWrong & maskOwnModelCorrect)\n",
    "\n",
    "# get ids samples\n",
    "idsRFWrongAndOwnModelCorrect = ownModelResults[\"testIds\"][finalMask]\n",
    "labelsRFWrongsAndOwnModelCorrects = ownModelResults[\"testLabels\"][finalMask]\n",
    "\n",
    "# # build object\n",
    "# samplesRFCorrectsAndOwnModelWrongs = {\n",
    "#     \"ids\": idsRFCorrectsAndOwnModelWrongs,\n",
    "#     \"labels\": ownModelResults[\"testLabels\"][finalMask]\n",
    "# }"
   ]
  },
  {
   "cell_type": "code",
   "execution_count": 21,
   "id": "dimensional-ceiling",
   "metadata": {},
   "outputs": [
    {
     "data": {
      "text/plain": [
       "Text(0.5, 1.0, 'Samples wrong RF and correct own model')"
      ]
     },
     "execution_count": 21,
     "metadata": {},
     "output_type": "execute_result"
    },
    {
     "data": {
      "image/png": "[encoded data removed]",
      "text/plain": [
       "<Figure size 432x288 with 1 Axes>"
      ]
     },
     "metadata": {
      "needs_background": "light"
     },
     "output_type": "display_data"
    }
   ],
   "source": [
    "# analyze labels distributions\n",
    "fig, ax = plt.subplots()\n",
    "\n",
    "classes, countClasses = np.unique(labelsRFWrongsAndOwnModelCorrects, return_counts = True)\n",
    "\n",
    "# countClasses = countClasses / np.sum(countClasses)\n",
    "countClasses = countClasses \n",
    "\n",
    "classes = list(map(str, classes))\n",
    "\n",
    "ax.bar(\n",
    "    classes, \n",
    "    countClasses,\n",
    "#     width = 10,\n",
    ")\n",
    "\n",
    "ax.set_title(\"Samples wrong RF and correct own model\")"
   ]
  },
  {
   "cell_type": "markdown",
   "id": "elect-japan",
   "metadata": {},
   "source": [
    "# Get features RF uses to classify them"
   ]
  },
  {
   "cell_type": "code",
   "execution_count": 25,
   "id": "frequent-software",
   "metadata": {},
   "outputs": [],
   "source": [
    "# # get RF model\n",
    "# # # load file\n",
    "# rf = load('../../experiments/comparingModels/seed' + str(seed) + '/RF/trainedRF.joblib') "
   ]
  },
  {
   "cell_type": "code",
   "execution_count": 26,
   "id": "prime-pressure",
   "metadata": {},
   "outputs": [],
   "source": [
    "# # loading features names\n",
    "# seed = 0\n",
    "# with open(f\"../random_forest/ids/seed{seed}/maxClass15k/dataset_ids_before_balancing.pkl\", \"rb\") as f:\n",
    "#     lc_ids = pickle.load(f)\n",
    "\n",
    "# with open(\"../random_forest/features/fats\"+str(int(lc_ids[\"train\"][0]))+\".pkl\", \"rb\") as f:\n",
    "#     tmp = load(f)\n",
    "    \n",
    "#     # get features names\n",
    "#     featuresNames = tmp.columns.values"
   ]
  },
  {
   "cell_type": "code",
   "execution_count": 22,
   "id": "concerned-vertical",
   "metadata": {},
   "outputs": [],
   "source": [
    "# # FATS computing: https://github.com/isadoranun/FATS/blob/master/FATS/FeatureFunctionLib.py\n",
    "\n",
    "# # get the most important features\n",
    "# featuresByImportance, importance = featuresNames[np.argsort(rf.feature_importances_)[::-1]], rf.feature_importances_[np.argsort(rf.feature_importances_)[::-1]]\n",
    "\n",
    "# featuresToDisplay = 20\n",
    "\n",
    "# fig, ax = plt.subplots(figsize = (10, 10), tight_layout = True)\n",
    "\n",
    "# ax.set_title(f\"Top {featuresToDisplay} feature importances on Random Forest\")\n",
    "# ax.barh(featuresByImportance[:featuresToDisplay], importance[:featuresToDisplay])\n",
    "# # ax.set_xticklabels(rotation = (45), fontsize = 10, va='bottom', ha='left')\n",
    "# ax.set_yticklabels(featuresByImportance[:featuresToDisplay],fontsize=10, rotation=45)"
   ]
  },
  {
   "cell_type": "markdown",
   "id": "welcome-album",
   "metadata": {},
   "source": [
    "# Get decomposition of predictions on correct RF and wrong OM"
   ]
  },
  {
   "cell_type": "code",
   "execution_count": 28,
   "id": "christian-timer",
   "metadata": {
    "scrolled": false
   },
   "outputs": [],
   "source": [
    "# # (node_indicator, _) = rf.decision_path(instances)\n",
    "\n",
    "# # node_indicator\n",
    "\n",
    "# # Extract single tree\n",
    "# estimator = rf.estimators_\n",
    "# estimatorIndex = 0\n",
    "# print(f\"number of trees: {len(estimator)}\")\n",
    "\n",
    "# from sklearn.tree import export_graphviz\n",
    "# # Export as dot file\n",
    "# export_graphviz(estimator[estimatorIndex], \n",
    "#                 out_file='tree' + str(estimatorIndex) + '.dot', \n",
    "#                 feature_names = featuresNames,\n",
    "#                 class_names = True,\n",
    "#                 rounded = True, \n",
    "#                 proportion = False, \n",
    "#                 precision = 2, \n",
    "#                 filled = True,\n",
    "#                 rotate = True,\n",
    "# )\n",
    "\n",
    "# # Convert to png\n",
    "# estimatorIndex = str(estimatorIndex)\n",
    "# from subprocess import call\n",
    "# call(['dot', '-Tpng', 'tree' + estimatorIndex + '.dot', '-o', 'tree'  + estimatorIndex + '.png', '-Gdpi=600'])\n",
    "\n",
    "# # Display in jupyter notebook\n",
    "# from IPython.display import Image\n",
    "# Image(filename = 'tree' + estimatorIndex + '.png')"
   ]
  },
  {
   "cell_type": "code",
   "execution_count": 23,
   "id": "political-diploma",
   "metadata": {},
   "outputs": [],
   "source": [
    "# # get data\n",
    "# id_ = idsRFCorrectsAndOwnModelWrongs[1]\n",
    "\n",
    "# index = np.where(ownModelResults[\"testIds\"]  == id_)[0][0]\n",
    "\n",
    "# print(f\"label: {ownModelResults['testLabels'][index]}\")\n",
    "\n",
    "# print(f\"RF prediction: {rFResults['testPredictions'][index]}\")\n",
    "\n",
    "# with open(\"../random_forest/features/fats\"+ str(round(id_)) +\".pkl\", \"rb\") as f:\n",
    "#     instances = load(f)\n",
    "\n",
    "# #get predictions\n",
    "# prediction, bias, contributions = ti.predict(rf, instances)\n",
    "\n",
    "# # prediction = rf.predict(instances)\n",
    "\n",
    "# only_these_labels = [16, 92, 53, 88, 65, 6]\n",
    "\n",
    "# print(only_these_labels[np.argmax(prediction)])"
   ]
  },
  {
   "cell_type": "code",
   "execution_count": 30,
   "id": "breathing-strength",
   "metadata": {},
   "outputs": [
    {
     "name": "stdout",
     "output_type": "stream",
     "text": [
      "[[0.20052328 0.09406491 0.00284883 0.02324763 0.670528   0.00878735]]\n",
      "4\n"
     ]
    }
   ],
   "source": [
    "# print(prediction)\n",
    "\n",
    "# print(np.argmax(prediction))"
   ]
  },
  {
   "cell_type": "code",
   "execution_count": 24,
   "id": "driven-today",
   "metadata": {},
   "outputs": [],
   "source": [
    "# # get decomposition\n",
    "# for i in range(len(instances)):\n",
    "    \n",
    "#     print(\"Instance\", i)\n",
    "#     print(\"Bias (trainset mean\", bias[i])\n",
    "#     print(\"Feature contributions:\")\n",
    "# #     for c, feature in sorted(zip(contributions[i], featuresNames), key=lambda x: -abs(x[0])):\n",
    "# #         print(feature, round(c, 2))\n",
    "#     for c, feature in zip(contributions[0], \n",
    "#                              featuresNames):\n",
    "#         print(feature)\n",
    "#         print(c)\n",
    "        \n",
    "#     print(\"-\"*20)"
   ]
  },
  {
   "cell_type": "code",
   "execution_count": 32,
   "id": "white-context",
   "metadata": {},
   "outputs": [],
   "source": [
    "# ti.predict?"
   ]
  },
  {
   "cell_type": "markdown",
   "id": "vital-shanghai",
   "metadata": {},
   "source": [
    "# Feature importance permutation analysis"
   ]
  },
  {
   "cell_type": "code",
   "execution_count": 29,
   "id": "coordinate-georgia",
   "metadata": {},
   "outputs": [],
   "source": [
    "# get RF model\n",
    "# # load file\n",
    "rf = load('../../experiments/comparingModels/seed' + str(seed) + '/RF/trainedRF.joblib') "
   ]
  },
  {
   "cell_type": "code",
   "execution_count": 64,
   "id": "liked-uniform",
   "metadata": {},
   "outputs": [],
   "source": [
    "# loading features names\n",
    "seed = 0\n",
    "with open(f\"../random_forest/ids/seed{seed}/maxClass15k/dataset_ids_before_balancing.pkl\", \"rb\") as f:\n",
    "    lc_ids = pickle.load(f)\n",
    "\n",
    "with open(\"../random_forest/features/fats\"+str(int(lc_ids[\"train\"][0]))+\".pkl\", \"rb\") as f:\n",
    "    tmp = load(f)\n",
    "    \n",
    "    # get features names\n",
    "    featuresNames = tmp.columns.values"
   ]
  },
  {
   "cell_type": "markdown",
   "id": "southeast-reflection",
   "metadata": {},
   "source": [
    "# by classes"
   ]
  },
  {
   "cell_type": "code",
   "execution_count": 25,
   "id": "distinct-award",
   "metadata": {},
   "outputs": [
    {
     "data": {
      "text/plain": [
       "(979,)"
      ]
     },
     "execution_count": 25,
     "metadata": {},
     "output_type": "execute_result"
    }
   ],
   "source": [
    "idsRFCorrectsAndOwnModelWrongs.shape"
   ]
  },
  {
   "cell_type": "code",
   "execution_count": 41,
   "id": "young-squad",
   "metadata": {},
   "outputs": [
    {
     "name": "stdout",
     "output_type": "stream",
     "text": [
      "(243, 288)\n",
      "(243,)\n",
      "(41, 288)\n",
      "(41,)\n",
      "(7, 288)\n",
      "(7,)\n",
      "(121, 288)\n",
      "(121,)\n",
      "(511, 288)\n",
      "(511,)\n",
      "(25, 288)\n",
      "(25,)\n"
     ]
    }
   ],
   "source": [
    "# get features\n",
    "features = {}\n",
    "labels = {}\n",
    "\n",
    "# get ids to analyze\n",
    "\n",
    "# get all classes\n",
    "classesToAnalyze = only_these_labels\n",
    "\n",
    "for classToAnalyze in classesToAnalyze:\n",
    "    \n",
    "    # 1) ids with RF correct and RF wrong\n",
    "    selectedIds = idsRFCorrectsAndOwnModelWrongs[labelsRFCorrectsAndOwnModelWrongs == classToAnalyze]\n",
    "    \n",
    "    tmp = []\n",
    "    \n",
    "    # get data\n",
    "    for lc_id in selectedIds:\n",
    "\n",
    "        with open(\"../random_forest/features/fats\"+str(int(lc_id))+\".pkl\", \"rb\") as f:\n",
    "            tmp.append(load(f))\n",
    "\n",
    "    tmp = np.array(tmp, dtype = \"float\").reshape(len(tmp),-1)\n",
    "    \n",
    "    # clean data\n",
    "    \n",
    "    # get rows without inf values\n",
    "    mask = ~(np.isinf(tmp).any(axis=1))\n",
    "\n",
    "    mask2 = ~(np.isnan(tmp).any(axis = 1))\n",
    "\n",
    "    # print(mask2.shape)\n",
    "    # print(mask.shape)\n",
    "\n",
    "    features_ = tmp[mask & mask2]\n",
    "    labels_ = labelsRFCorrectsAndOwnModelWrongs[labelsRFCorrectsAndOwnModelWrongs == classToAnalyze][mask & mask2]\n",
    "\n",
    "    print(features_.shape)\n",
    "    print(labels_.shape)\n",
    "\n",
    "\n",
    "    # transform list into array\n",
    "    features[classToAnalyze] = features_\n",
    "    labels[classToAnalyze] = labels_"
   ]
  },
  {
   "cell_type": "code",
   "execution_count": 54,
   "id": "metallic-renaissance",
   "metadata": {},
   "outputs": [
    {
     "name": "stdout",
     "output_type": "stream",
     "text": [
      "class: 65\n",
      "features: (511,)\n",
      "class: 16\n",
      "features: (243,)\n",
      "class: 88\n",
      "features: (121,)\n",
      "class: 92\n",
      "features: (41,)\n",
      "class: 6\n",
      "features: (25,)\n",
      "class: 53\n",
      "features: (7,)\n"
     ]
    }
   ],
   "source": [
    "# save permutation by class\n",
    "permutationImportancesClasses = {}\n",
    "\n",
    "for classToAnalyze in classesToAnalyze:\n",
    "    \n",
    "    print(f\"class: {classToAnalyze}\")\n",
    "    print(f\"features: {labels[classToAnalyze].shape}\")\n",
    "    \n",
    "    # get permutation importances\n",
    "    r = permutation_importance(\n",
    "                        rf, \n",
    "                        features[classToAnalyze], \n",
    "                        labels[classToAnalyze],\n",
    "                        n_repeats=10,\n",
    "                        random_state=0,\n",
    "                        n_jobs = 4,\n",
    "    )\n",
    "    \n",
    "    # save permutation by class\n",
    "    permutationImportancesClasses[classToAnalyze] = r"
   ]
  },
  {
   "cell_type": "code",
   "execution_count": 61,
   "id": "divine-harris",
   "metadata": {},
   "outputs": [],
   "source": [
    "# # save file\n",
    "# a_file = open(\"./importancePermutationTestByClass.pkl\", \"wb\")\n",
    "# pickle.dump(permutationImportancesClasses, a_file)\n",
    "# a_file.close()"
   ]
  },
  {
   "cell_type": "code",
   "execution_count": 62,
   "id": "southern-papua",
   "metadata": {},
   "outputs": [],
   "source": [
    "# save permutations results\n",
    "# save object\n",
    "a_file = open(\"./importancePermutationTestByClass.pkl\", \"rb\")\n",
    "permutationImportancesClasses = pickle.load(a_file)"
   ]
  },
  {
   "cell_type": "code",
   "execution_count": null,
   "id": "proud-husband",
   "metadata": {},
   "outputs": [],
   "source": [
    "# a_file = open(\"../../experiments/comparingModels/seed\" + str(seed) + \"/ownModel/testOwnModelPredictions.pkl\", \"rb\")\n",
    "# ownModelResults = pickle.load(a_file)"
   ]
  },
  {
   "cell_type": "code",
   "execution_count": 65,
   "id": "refined-plaintiff",
   "metadata": {},
   "outputs": [
    {
     "data": {
      "image/png": "[encoded data removed]",
      "text/plain": [
       "<Figure size 720x1440 with 6 Axes>"
      ]
     },
     "metadata": {
      "needs_background": "light"
     },
     "output_type": "display_data"
    }
   ],
   "source": [
    "# do plot\n",
    "fig, ax = plt.subplots(len(classesToAnalyze), 1, figsize = (10, 20), tight_layout = True)\n",
    "\n",
    "maxIndex = 10\n",
    "\n",
    "classesToAnalyze = [65, 16, 88, 92, 6, 53]\n",
    "\n",
    "# each class\n",
    "for i, class_ in enumerate(classesToAnalyze):\n",
    "    \n",
    "    # get sorted feautres\n",
    "    idxFeatures = permutationImportancesClasses[class_].importances_mean.argsort()[::-1][:maxIndex]\n",
    "    \n",
    "#     print(idxFeatures.shape)\n",
    "#     print(permutationImportancesClasses[class_].importances_mean[idxFeatures])\n",
    "    \n",
    "    ax[i].set_title(f\"Feature permutation with class {class_}\")\n",
    "    ax[i].barh(\n",
    "        featuresNames[idxFeatures], \n",
    "        permutationImportancesClasses[class_].importances_mean[idxFeatures],\n",
    "    )\n",
    "#     # ax.set_xticklabels(rotation = (45), fontsize = 10, va='bottom', ha='left')\n",
    "#     ax[i].set_yticklabels(featuresNames[:maxIndex],fontsize=10, rotation=45)\n"
   ]
  },
  {
   "cell_type": "markdown",
   "id": "accomplished-founder",
   "metadata": {},
   "source": [
    "# full dataset"
   ]
  },
  {
   "cell_type": "code",
   "execution_count": 68,
   "id": "august-zealand",
   "metadata": {},
   "outputs": [
    {
     "name": "stdout",
     "output_type": "stream",
     "text": [
      "(948, 288)\n",
      "(948,)\n"
     ]
    }
   ],
   "source": [
    "# 1) ids with RF correct and RF wrong\n",
    "features_ = []\n",
    "\n",
    "# get data\n",
    "for lc_id in idsRFCorrectsAndOwnModelWrongs:\n",
    "\n",
    "    with open(\"../random_forest/features/fats\"+str(int(lc_id))+\".pkl\", \"rb\") as f:\n",
    "        features_.append(load(f))\n",
    "\n",
    "features_ = np.array(features_, dtype = \"float\").reshape(len(features_),-1)\n",
    "\n",
    "# print(features_.shape)\n",
    "\n",
    "# clean data\n",
    "\n",
    "# get rows without inf values\n",
    "mask = ~(np.isinf(features_).any(axis=1))\n",
    "\n",
    "mask2 = ~(np.isnan(features_).any(axis = 1))\n",
    "\n",
    "# print(mask2.shape)\n",
    "# print(mask.shape)\n",
    "\n",
    "features = features_[mask & mask2]\n",
    "labels = labelsRFCorrectsAndOwnModelWrongs[mask & mask2]\n",
    "\n",
    "print(features.shape)\n",
    "print(labels.shape)"
   ]
  },
  {
   "cell_type": "code",
   "execution_count": 69,
   "id": "instructional-franklin",
   "metadata": {},
   "outputs": [],
   "source": [
    " # get permutation importances\n",
    "r = permutation_importance(\n",
    "                    rf, \n",
    "                    features, \n",
    "                    labels,\n",
    "                    n_repeats=10,\n",
    "                    random_state=0,\n",
    "                    n_jobs = 4,\n",
    ")\n",
    "\n",
    "# save file\n",
    "a_file = open(\"./importancePermutationTestAllClasses.pkl\", \"wb\")\n",
    "pickle.dump(r, a_file)\n",
    "a_file.close()"
   ]
  },
  {
   "cell_type": "code",
   "execution_count": 70,
   "id": "geographic-capability",
   "metadata": {},
   "outputs": [
    {
     "data": {
      "text/plain": [
       "<BarContainer object of 10 artists>"
      ]
     },
     "execution_count": 70,
     "metadata": {},
     "output_type": "execute_result"
    },
    {
     "data": {
      "image/png": "[encoded data removed]",
      "text/plain": [
       "<Figure size 360x360 with 1 Axes>"
      ]
     },
     "metadata": {
      "needs_background": "light"
     },
     "output_type": "display_data"
    }
   ],
   "source": [
    "# do plot\n",
    "fig, ax = plt.subplots(figsize = (5, 5), tight_layout = True)\n",
    "\n",
    "maxIndex = 10\n",
    "\n",
    "# get sorted feautres\n",
    "idxFeatures = r.importances_mean.argsort()[::-1][:maxIndex]\n",
    "\n",
    "ax.set_title(f\"Feature permutation with all class\")\n",
    "ax.barh(\n",
    "    featuresNames[idxFeatures], \n",
    "    r.importances_mean[idxFeatures],\n",
    ")\n",
    "#     # ax.set_xticklabels(rotation = (45), fontsize = 10, va='bottom', ha='left')\n",
    "#     ax[i].set_yticklabels(featuresNames[:maxIndex],fontsize=10, rotation=45)\n"
   ]
  }
 ],
 "metadata": {
  "kernelspec": {
   "display_name": "Python 3",
   "language": "python",
   "name": "python3"
  },
  "language_info": {
   "codemirror_mode": {
    "name": "ipython",
    "version": 3
   },
   "file_extension": ".py",
   "mimetype": "text/x-python",
   "name": "python",
   "nbconvert_exporter": "python",
   "pygments_lexer": "ipython3",
   "version": "3.7.6"
  }
 },
 "nbformat": 4,
 "nbformat_minor": 5
}
