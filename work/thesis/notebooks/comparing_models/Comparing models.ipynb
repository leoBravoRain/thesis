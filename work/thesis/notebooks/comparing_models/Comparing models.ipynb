{
 "cells": [
  {
   "cell_type": "markdown",
   "id": "vocational-adventure",
   "metadata": {},
   "source": [
    "# Load libraries"
   ]
  },
  {
   "cell_type": "code",
   "execution_count": 1,
   "id": "increasing-transcription",
   "metadata": {},
   "outputs": [],
   "source": [
    "import pickle\n",
    "import numpy as np\n",
    "from sklearn.metrics import classification_report\n",
    "from sklearn.metrics import confusion_matrix\n",
    "import seaborn as sn\n",
    "import matplotlib.pyplot as plt\n",
    "from joblib import load\n",
    "from treeinterpreter import treeinterpreter as ti\n",
    "from sklearn.inspection import permutation_importance\n",
    "import pandas as pd\n",
    "from sklearn.metrics import accuracy_score, recall_score, f1_score, precision_score"
   ]
  },
  {
   "cell_type": "markdown",
   "id": "better-columbia",
   "metadata": {},
   "source": [
    "# Define general variables"
   ]
  },
  {
   "cell_type": "code",
   "execution_count": 2,
   "id": "maritime-alfred",
   "metadata": {},
   "outputs": [],
   "source": [
    "seed = 0\n",
    "only_these_labels = [16, 92, 53, 88, 65, 6] \n",
    "number_experiment = 18\n",
    "tmpLocal = \"/home/leo/Desktop/thesis/work/thesis/\"\n",
    "max_elements_per_class = 15000"
   ]
  },
  {
   "cell_type": "markdown",
   "id": "aging-alliance",
   "metadata": {},
   "source": [
    "# Get own model predictions"
   ]
  },
  {
   "cell_type": "code",
   "execution_count": 3,
   "id": "imported-blond",
   "metadata": {},
   "outputs": [
    {
     "name": "stdout",
     "output_type": "stream",
     "text": [
      "dict_keys(['trainIds', 'trainLabels', 'trainPredictions', 'validIds', 'validLabels', 'validPredictions', 'testIds', 'testLabels', 'testPredictions'])\n",
      "(52360,)\n"
     ]
    }
   ],
   "source": [
    "# load model\n",
    "a_file = open(\"../../experiments/comparingModels/seed\" + str(seed) + \"/ownModel/OwnModel\" + str(number_experiment) +\"Predictions.pkl\", \"rb\")\n",
    "ownModelResults = pickle.load(a_file)\n",
    "print(ownModelResults.keys())\n",
    "print(ownModelResults[\"trainIds\"].shape)"
   ]
  },
  {
   "cell_type": "markdown",
   "id": "consolidated-canada",
   "metadata": {},
   "source": [
    "# Get RF predictions"
   ]
  },
  {
   "cell_type": "code",
   "execution_count": 4,
   "id": "practical-therapist",
   "metadata": {},
   "outputs": [
    {
     "name": "stdout",
     "output_type": "stream",
     "text": [
      "dict_keys(['trainIds', 'trainLabels', 'trainPredictions', 'validIds', 'validLabels', 'validPredictions', 'testIds', 'testLabels', 'testPredictions'])\n",
      "(52360,)\n"
     ]
    }
   ],
   "source": [
    "# load files\n",
    "a_file = open(\"../../experiments/comparingModels/seed\" + str(seed) + \"/RF/predictionsRF.pkl\", \"rb\")\n",
    "rFResults = pickle.load(a_file)\n",
    "print(rFResults.keys())\n",
    "print(rFResults[\"trainPredictions\"].shape)"
   ]
  },
  {
   "cell_type": "markdown",
   "id": "several-mapping",
   "metadata": {},
   "source": [
    "# Test if test datasets are equals"
   ]
  },
  {
   "cell_type": "code",
   "execution_count": 5,
   "id": "exposed-disorder",
   "metadata": {},
   "outputs": [
    {
     "name": "stdout",
     "output_type": "stream",
     "text": [
      "test ok: ids in train dataset used in own model are the same in RF\n"
     ]
    }
   ],
   "source": [
    "assert np.array_equal(ownModelResults[\"testIds\"], rFResults[\"testIds\"])\n",
    "print(\"test ok: ids in train dataset used in own model are the same in RF\")"
   ]
  },
  {
   "cell_type": "code",
   "execution_count": 6,
   "id": "documented-invite",
   "metadata": {},
   "outputs": [
    {
     "name": "stdout",
     "output_type": "stream",
     "text": [
      "test ok: labels in train dataset used in own model are the same in RF\n"
     ]
    }
   ],
   "source": [
    "assert np.array_equal(ownModelResults[\"testLabels\"], rFResults[\"testLabels\"])\n",
    "print(\"test ok: labels in train dataset used in own model are the same in RF\")"
   ]
  },
  {
   "cell_type": "code",
   "execution_count": 7,
   "id": "blank-victim",
   "metadata": {},
   "outputs": [
    {
     "name": "stdout",
     "output_type": "stream",
     "text": [
      "test ok: predictions of own model and RF are differente in test\n"
     ]
    }
   ],
   "source": [
    "assert not np.array_equal(ownModelResults[\"testPredictions\"], rFResults[\"testPredictions\"])\n",
    "print(\"test ok: predictions of own model and RF are differente in test\")"
   ]
  },
  {
   "cell_type": "markdown",
   "id": "undefined-marsh",
   "metadata": {},
   "source": [
    "# Analysis"
   ]
  },
  {
   "cell_type": "markdown",
   "id": "weighted-animation",
   "metadata": {},
   "source": [
    "# get confusion matrix"
   ]
  },
  {
   "cell_type": "code",
   "execution_count": 19,
   "id": "located-benchmark",
   "metadata": {},
   "outputs": [],
   "source": [
    "# [\"true\", \"pred\", \"all\", None]\n",
    "normalize = \"true\"\n",
    "# normalize = None\n",
    "\n"
   ]
  },
  {
   "cell_type": "code",
   "execution_count": 20,
   "id": "photographic-valuable",
   "metadata": {},
   "outputs": [
    {
     "name": "stdout",
     "output_type": "stream",
     "text": [
      "RF model\n"
     ]
    },
    {
     "data": {
      "text/plain": [
       "<AxesSubplot:>"
      ]
     },
     "execution_count": 20,
     "metadata": {},
     "output_type": "execute_result"
    },
    {
     "data": {
      "image/png": "[encoded data removed]",
      "text/plain": [
       "<Figure size 504x360 with 2 Axes>"
      ]
     },
     "metadata": {
      "needs_background": "light"
     },
     "output_type": "display_data"
    }
   ],
   "source": [
    "print(\"RF model\")\n",
    "\n",
    "# get confussion matrix\n",
    "# C_ij such that  is equal to the number of observations known to be in group i and predicted to be in group j\n",
    "rFResultsCM = confusion_matrix(\n",
    "    rFResults[\"testLabels\"], \n",
    "    rFResults[\"testPredictions\"], \n",
    "    normalize = normalize\n",
    ")\n",
    "\n",
    "# print(f\"class 0: {rFResultsCM[0, :]}\")\n",
    "\n",
    "fig0, ax = plt.subplots(figsize = (7,5))\n",
    "\n",
    "# plot\n",
    "sn.heatmap(\n",
    "    rFResultsCM, \n",
    "    annot=True, \n",
    "    ax = ax,\n",
    "    yticklabels=only_these_labels,\n",
    "    xticklabels=only_these_labels,\n",
    "    cmap=plt.cm.Blues,\n",
    ")"
   ]
  },
  {
   "cell_type": "code",
   "execution_count": 35,
   "id": "transsexual-geography",
   "metadata": {},
   "outputs": [],
   "source": [
    "# fig0.savefig(\"confussionMatrixRF.pdf\", bbox_inches='tight')"
   ]
  },
  {
   "cell_type": "code",
   "execution_count": 33,
   "id": "planned-jaguar",
   "metadata": {},
   "outputs": [
    {
     "name": "stdout",
     "output_type": "stream",
     "text": [
      "Own model\n",
      "class 0: [0.72413793 0.04827586 0.06896552 0.06206897 0.07586207 0.02068966]\n"
     ]
    },
    {
     "data": {
      "text/plain": [
       "<AxesSubplot:>"
      ]
     },
     "execution_count": 33,
     "metadata": {},
     "output_type": "execute_result"
    },
    {
     "data": {
      "image/png": "[encoded data removed]",
      "text/plain": [
       "<Figure size 504x360 with 2 Axes>"
      ]
     },
     "metadata": {
      "needs_background": "light"
     },
     "output_type": "display_data"
    }
   ],
   "source": [
    "print(\"Own model\")\n",
    "\n",
    "# get confussion matrix\n",
    "# C_ij such that  is equal to the number of observations known to be in group i and predicted to be in group j\n",
    "ownModelCM = confusion_matrix(ownModelResults[\"testLabels\"], ownModelResults[\"testPredictions\"], normalize = normalize)\n",
    "\n",
    "print(f\"class 0: {ownModelCM[0, :]}\")\n",
    "\n",
    "fig1, ax = plt.subplots(figsize = (7,5))\n",
    "\n",
    "# plot\n",
    "sn.heatmap(\n",
    "    ownModelCM, \n",
    "    annot=True,\n",
    "    ax = ax,\n",
    "    yticklabels=only_these_labels,\n",
    "    xticklabels=only_these_labels,\n",
    "    cmap=plt.cm.Blues,\n",
    ")"
   ]
  },
  {
   "cell_type": "code",
   "execution_count": 34,
   "id": "chief-teaching",
   "metadata": {},
   "outputs": [],
   "source": [
    "# fig1.savefig(\"confussionMatrixOM.pdf\", bbox_inches='tight')"
   ]
  },
  {
   "cell_type": "code",
   "execution_count": 11,
   "id": "prescription-evans",
   "metadata": {},
   "outputs": [
    {
     "data": {
      "text/plain": [
       "Text(0.5, 1.0, 'Modelo propuesto')"
      ]
     },
     "execution_count": 11,
     "metadata": {},
     "output_type": "execute_result"
    },
    {
     "data": {
      "image/png": "[encoded data removed]",
      "text/plain": [
       "<Figure size 864x360 with 4 Axes>"
      ]
     },
     "metadata": {
      "needs_background": "light"
     },
     "output_type": "display_data"
    }
   ],
   "source": [
    "fig, axs = plt.subplots(ncols=2, tight_layout = True, figsize = (12,5))\n",
    "sn.heatmap(rFResultsCM, annot=True, ax=axs[0], yticklabels=only_these_labels,xticklabels=only_these_labels)\n",
    "axs[0].set_title(\"Random Forest\")\n",
    "sn.heatmap(ownModelCM, annot=True, ax=axs[1],  yticklabels=only_these_labels,xticklabels=only_these_labels)\n",
    "axs[1].set_title(\"Modelo propuesto\")"
   ]
  },
  {
   "cell_type": "code",
   "execution_count": 12,
   "id": "brave-boutique",
   "metadata": {},
   "outputs": [],
   "source": [
    "# fig.savefig(\"confussionMatrixRFOM.pdf\", bbox_inches='tight')"
   ]
  },
  {
   "cell_type": "markdown",
   "id": "recovered-ethiopia",
   "metadata": {},
   "source": [
    "# Get classification report"
   ]
  },
  {
   "cell_type": "code",
   "execution_count": 13,
   "id": "fifteen-strike",
   "metadata": {},
   "outputs": [
    {
     "name": "stdout",
     "output_type": "stream",
     "text": [
      "RF model\n",
      "              precision    recall  f1-score   support\n",
      "\n",
      "         6.0       0.49      0.95      0.65       145\n",
      "        16.0       0.96      0.94      0.95      1593\n",
      "        53.0       0.99      0.99      0.99       149\n",
      "        65.0       0.94      0.93      0.93      1598\n",
      "        88.0       0.99      0.96      0.97      1537\n",
      "        92.0       0.98      0.96      0.97      1524\n",
      "\n",
      "    accuracy                           0.95      6546\n",
      "   macro avg       0.89      0.95      0.91      6546\n",
      "weighted avg       0.96      0.95      0.95      6546\n",
      "\n"
     ]
    }
   ],
   "source": [
    "print(\"RF model\")\n",
    "print(classification_report(rFResults[\"testLabels\"], rFResults[\"testPredictions\"]))"
   ]
  },
  {
   "cell_type": "code",
   "execution_count": 14,
   "id": "reliable-ending",
   "metadata": {},
   "outputs": [
    {
     "name": "stdout",
     "output_type": "stream",
     "text": [
      "own model\n",
      "              precision    recall  f1-score   support\n",
      "\n",
      "         6.0       0.40      0.71      0.51       145\n",
      "        16.0       0.83      0.90      0.86      1593\n",
      "        53.0       0.95      0.93      0.94       149\n",
      "        65.0       0.84      0.74      0.79      1598\n",
      "        88.0       0.76      0.74      0.75      1537\n",
      "        92.0       0.95      0.95      0.95      1524\n",
      "\n",
      "    accuracy                           0.83      6546\n",
      "   macro avg       0.79      0.83      0.80      6546\n",
      "weighted avg       0.84      0.83      0.83      6546\n",
      "\n"
     ]
    }
   ],
   "source": [
    "print(\"own model\")\n",
    "print(classification_report(ownModelResults[\"testLabels\"], ownModelResults[\"testPredictions\"]))"
   ]
  },
  {
   "cell_type": "markdown",
   "id": "spread-metropolitan",
   "metadata": {},
   "source": []
  },
  {
   "cell_type": "markdown",
   "id": "established-lindsay",
   "metadata": {},
   "source": [
    "# Get how many correct and wrong classifications are done by each model?\n",
    "Add this to the paper"
   ]
  },
  {
   "cell_type": "code",
   "execution_count": 9,
   "id": "fixed-quick",
   "metadata": {},
   "outputs": [
    {
     "ename": "NameError",
     "evalue": "name 'rFResultsCM' is not defined",
     "output_type": "error",
     "traceback": [
      "\u001b[0;31m---------------------------------------------------------------------------\u001b[0m",
      "\u001b[0;31mNameError\u001b[0m                                 Traceback (most recent call last)",
      "\u001b[0;32m<ipython-input-9-0a7bb1b32abb>\u001b[0m in \u001b[0;36m<module>\u001b[0;34m\u001b[0m\n\u001b[1;32m      9\u001b[0m \u001b[0;34m\u001b[0m\u001b[0m\n\u001b[1;32m     10\u001b[0m     \u001b[0;31m# RF\u001b[0m\u001b[0;34m\u001b[0m\u001b[0;34m\u001b[0m\u001b[0;34m\u001b[0m\u001b[0m\n\u001b[0;32m---> 11\u001b[0;31m     \u001b[0mcorrectClassifications\u001b[0m\u001b[0;34m[\u001b[0m\u001b[0mi\u001b[0m\u001b[0;34m]\u001b[0m\u001b[0;34m[\u001b[0m\u001b[0;36m0\u001b[0m\u001b[0;34m]\u001b[0m \u001b[0;34m=\u001b[0m \u001b[0mrFResultsCM\u001b[0m\u001b[0;34m[\u001b[0m\u001b[0mi\u001b[0m\u001b[0;34m]\u001b[0m\u001b[0;34m[\u001b[0m\u001b[0mi\u001b[0m\u001b[0;34m]\u001b[0m \u001b[0;34m/\u001b[0m \u001b[0mnp\u001b[0m\u001b[0;34m.\u001b[0m\u001b[0msum\u001b[0m\u001b[0;34m(\u001b[0m\u001b[0mrFResultsCM\u001b[0m\u001b[0;34m[\u001b[0m\u001b[0mi\u001b[0m\u001b[0;34m]\u001b[0m\u001b[0;34m)\u001b[0m\u001b[0;34m\u001b[0m\u001b[0;34m\u001b[0m\u001b[0m\n\u001b[0m\u001b[1;32m     12\u001b[0m     \u001b[0mwrongClassifications\u001b[0m\u001b[0;34m[\u001b[0m\u001b[0mi\u001b[0m\u001b[0;34m]\u001b[0m\u001b[0;34m[\u001b[0m\u001b[0;36m0\u001b[0m\u001b[0;34m]\u001b[0m \u001b[0;34m=\u001b[0m \u001b[0mnp\u001b[0m\u001b[0;34m.\u001b[0m\u001b[0msum\u001b[0m\u001b[0;34m(\u001b[0m\u001b[0mrFResultsCM\u001b[0m\u001b[0;34m[\u001b[0m\u001b[0mi\u001b[0m\u001b[0;34m]\u001b[0m\u001b[0;34m[\u001b[0m\u001b[0mnp\u001b[0m\u001b[0;34m.\u001b[0m\u001b[0mdelete\u001b[0m\u001b[0;34m(\u001b[0m\u001b[0mnp\u001b[0m\u001b[0;34m.\u001b[0m\u001b[0marange\u001b[0m\u001b[0;34m(\u001b[0m\u001b[0;36m6\u001b[0m\u001b[0;34m)\u001b[0m\u001b[0;34m,\u001b[0m \u001b[0mi\u001b[0m\u001b[0;34m)\u001b[0m\u001b[0;34m]\u001b[0m\u001b[0;34m)\u001b[0m \u001b[0;34m/\u001b[0m \u001b[0mnp\u001b[0m\u001b[0;34m.\u001b[0m\u001b[0msum\u001b[0m\u001b[0;34m(\u001b[0m\u001b[0mrFResultsCM\u001b[0m\u001b[0;34m[\u001b[0m\u001b[0mi\u001b[0m\u001b[0;34m]\u001b[0m\u001b[0;34m)\u001b[0m\u001b[0;34m\u001b[0m\u001b[0;34m\u001b[0m\u001b[0m\n\u001b[1;32m     13\u001b[0m \u001b[0;34m\u001b[0m\u001b[0m\n",
      "\u001b[0;31mNameError\u001b[0m: name 'rFResultsCM' is not defined"
     ]
    }
   ],
   "source": [
    "\n",
    "# save correct classifications by each model \n",
    "# shape: (classes, models (2: own and RF))\n",
    "correctClassifications = np.zeros(shape  = (6, 2))\n",
    "\n",
    "wrongClassifications = np.zeros(shape = (6,2))\n",
    "\n",
    "# iterate by each class\n",
    "for i in np.arange(6):\n",
    "    \n",
    "    # RF\n",
    "    correctClassifications[i][0] = rFResultsCM[i][i] / np.sum(rFResultsCM[i])\n",
    "    wrongClassifications[i][0] = np.sum(rFResultsCM[i][np.delete(np.arange(6), i)]) / np.sum(rFResultsCM[i])\n",
    "    \n",
    "    # own model\n",
    "    correctClassifications[i][1] = ownModelCM[i][i] / np.sum(ownModelCM[i])\n",
    "    wrongClassifications[i][1] = np.sum(ownModelCM[i][np.delete(np.arange(6), i)]) / np.sum(ownModelCM[i])"
   ]
  },
  {
   "cell_type": "code",
   "execution_count": 44,
   "id": "hourly-writer",
   "metadata": {},
   "outputs": [
    {
     "name": "stdout",
     "output_type": "stream",
     "text": [
      "Correct classifications. 0: RF\n"
     ]
    },
    {
     "data": {
      "text/plain": [
       "array([[0.95172414, 0.72413793],\n",
       "       [0.9391086 , 0.88826114],\n",
       "       [0.99328859, 0.91275168],\n",
       "       [0.9261577 , 0.80851064],\n",
       "       [0.95770982, 0.84059857],\n",
       "       [0.95931759, 0.92913386]])"
      ]
     },
     "execution_count": 44,
     "metadata": {},
     "output_type": "execute_result"
    }
   ],
   "source": [
    "print(\"Correct classifications. 0: RF\")\n",
    "correctClassifications"
   ]
  },
  {
   "cell_type": "markdown",
   "id": "embedded-thomas",
   "metadata": {},
   "source": [
    "In all classes, RF is better"
   ]
  },
  {
   "cell_type": "code",
   "execution_count": 45,
   "id": "talented-consumer",
   "metadata": {},
   "outputs": [
    {
     "name": "stdout",
     "output_type": "stream",
     "text": [
      "Wrong classifications. 0: RF\n"
     ]
    },
    {
     "data": {
      "text/plain": [
       "array([[0.04827586, 0.27586207],\n",
       "       [0.0608914 , 0.11173886],\n",
       "       [0.00671141, 0.08724832],\n",
       "       [0.0738423 , 0.19148936],\n",
       "       [0.04229018, 0.15940143],\n",
       "       [0.04068241, 0.07086614]])"
      ]
     },
     "execution_count": 45,
     "metadata": {},
     "output_type": "execute_result"
    }
   ],
   "source": [
    "print(\"Wrong classifications. 0: RF\")\n",
    "wrongClassifications"
   ]
  },
  {
   "cell_type": "markdown",
   "id": "animal-ebony",
   "metadata": {},
   "source": [
    "In all classes, RF is better"
   ]
  },
  {
   "cell_type": "markdown",
   "id": "other-token",
   "metadata": {},
   "source": [
    "Based on resutls, RF is better in all classes. There is no one class our model is better, so the models are not complementaries. Our model does not add more value to the classification."
   ]
  },
  {
   "cell_type": "markdown",
   "id": "posted-conspiracy",
   "metadata": {},
   "source": [
    "# Get examples wrongly classified by own model but correctly by RF"
   ]
  },
  {
   "cell_type": "code",
   "execution_count": 8,
   "id": "fuzzy-subdivision",
   "metadata": {},
   "outputs": [],
   "source": [
    "# get RF samples who predictions are equals to labels\n",
    "maskRFCorrects = (rFResults[\"testPredictions\"] == rFResults[\"testLabels\"])\n",
    "\n",
    "# get OM samples who predictions are not equals to labels\n",
    "maskOwnModelWrong = (ownModelResults[\"testPredictions\"] != ownModelResults[\"testLabels\"])\n",
    "\n",
    "# get ids that 1)RF are corrects 2) ON are wrong\n",
    "finalMask = (maskRFCorrects & maskOwnModelWrong)\n",
    "\n",
    "# get ids samples\n",
    "idsRFCorrectsAndOwnModelWrongs = ownModelResults[\"testIds\"][finalMask]\n",
    "labelsRFCorrectsAndOwnModelWrongs = ownModelResults[\"testLabels\"][finalMask]\n",
    "\n",
    "# # build object\n",
    "# samplesRFCorrectsAndOwnModelWrongs = {\n",
    "#     \"ids\": idsRFCorrectsAndOwnModelWrongs,\n",
    "#     \"labels\": ownModelResults[\"testLabels\"][finalMask]\n",
    "# }"
   ]
  },
  {
   "cell_type": "code",
   "execution_count": 9,
   "id": "classical-piano",
   "metadata": {},
   "outputs": [
    {
     "data": {
      "text/plain": [
       "(740,)"
      ]
     },
     "execution_count": 9,
     "metadata": {},
     "output_type": "execute_result"
    }
   ],
   "source": [
    "labelsRFCorrectsAndOwnModelWrongs.shape"
   ]
  },
  {
   "cell_type": "code",
   "execution_count": 10,
   "id": "veterinary-headline",
   "metadata": {},
   "outputs": [],
   "source": [
    "# test if RF is correct classified and Own model is wrong\n",
    "for i in idsRFCorrectsAndOwnModelWrongs:\n",
    "    \n",
    "    index = np.where(ownModelResults[\"testIds\"]  == i)[0][0]\n",
    "    \n",
    "#     print(index)\n",
    "    \n",
    "    # test\n",
    "    # 1) if RF is classifiying correctly\n",
    "    # 2) if Own model is classifiying wrongly\n",
    "    assert ownModelResults[\"testLabels\"][index] == rFResults[\"testPredictions\"][index] and ownModelResults[\"testLabels\"][index] != ownModelResults[\"testPredictions\"][index]"
   ]
  },
  {
   "cell_type": "code",
   "execution_count": 11,
   "id": "sitting-template",
   "metadata": {},
   "outputs": [
    {
     "name": "stdout",
     "output_type": "stream",
     "text": [
      "[ 35 132  12 277 220  64]\n"
     ]
    },
    {
     "data": {
      "text/plain": [
       "Text(0.5, 0, 'Clases')"
      ]
     },
     "execution_count": 11,
     "metadata": {},
     "output_type": "execute_result"
    },
    {
     "data": {
      "image/png": "[encoded data removed]",
      "text/plain": [
       "<Figure size 432x288 with 1 Axes>"
      ]
     },
     "metadata": {
      "needs_background": "light"
     },
     "output_type": "display_data"
    }
   ],
   "source": [
    "# analyze labels distributions\n",
    "fig, ax = plt.subplots()\n",
    "\n",
    "classesOMWCRF, countClassesOMWCRF = np.unique(labelsRFCorrectsAndOwnModelWrongs, return_counts = True)\n",
    "\n",
    "print(countClassesOMWCRF)\n",
    "\n",
    "# countClasses = countClasses / np.sum(countClasses)\n",
    "# countClasses = countClassesOMWCRF\n",
    "\n",
    "classes = list(map(str, classesOMWCRF))\n",
    "\n",
    "ax.bar(\n",
    "    classes, \n",
    "    countClassesOMWCRF,\n",
    "    tick_label = only_these_labels\n",
    "#     width = 10,\n",
    ")\n",
    "\n",
    "# ax.set_title(\"Samples correct RF and wrong own model\")\n",
    "\n",
    "ax.set_title(\"Clasificaciones correctas por RF e incorrectas por modelo propio\", fontsize = 15)\n",
    "ax.set_xlabel(\"Clases\", fontsize = 15)"
   ]
  },
  {
   "cell_type": "code",
   "execution_count": 12,
   "id": "consistent-warren",
   "metadata": {},
   "outputs": [],
   "source": [
    "# fig.savefig(\"classesDistributionRFCorrectOMWrong.pdf\", bbox_inches='tight')"
   ]
  },
  {
   "cell_type": "markdown",
   "id": "complete-latin",
   "metadata": {},
   "source": [
    "# Get examples correctly classified by own model but wrongly by RF"
   ]
  },
  {
   "cell_type": "code",
   "execution_count": 13,
   "id": "mediterranean-aerospace",
   "metadata": {},
   "outputs": [],
   "source": [
    "# get RF samples who predictions are not equals to labels\n",
    "maskRFWrong = rFResults[\"testPredictions\"] != rFResults[\"testLabels\"]\n",
    "\n",
    "# get OM samples who predictions are equals to labels\n",
    "maskOwnModelCorrect = ownModelResults[\"testPredictions\"] == ownModelResults[\"testLabels\"]\n",
    "\n",
    "# get ids that 1)RF are corrects 2) ON are wrong\n",
    "finalMask = (maskRFWrong & maskOwnModelCorrect)\n",
    "\n",
    "# get ids samples\n",
    "idsRFWrongAndOwnModelCorrect = ownModelResults[\"testIds\"][finalMask]\n",
    "labelsRFWrongsAndOwnModelCorrects = ownModelResults[\"testLabels\"][finalMask]\n",
    "\n",
    "# # build object\n",
    "# samplesRFCorrectsAndOwnModelWrongs = {\n",
    "#     \"ids\": idsRFCorrectsAndOwnModelWrongs,\n",
    "#     \"labels\": ownModelResults[\"testLabels\"][finalMask]\n",
    "# }"
   ]
  },
  {
   "cell_type": "code",
   "execution_count": 14,
   "id": "dimensional-ceiling",
   "metadata": {},
   "outputs": [
    {
     "name": "stdout",
     "output_type": "stream",
     "text": [
      "[ 2 51 89 40 18]\n"
     ]
    },
    {
     "data": {
      "text/plain": [
       "Text(0.5, 0, 'Clases')"
      ]
     },
     "execution_count": 14,
     "metadata": {},
     "output_type": "execute_result"
    },
    {
     "data": {
      "image/png": "[encoded data removed]",
      "text/plain": [
       "<Figure size 432x288 with 1 Axes>"
      ]
     },
     "metadata": {
      "needs_background": "light"
     },
     "output_type": "display_data"
    }
   ],
   "source": [
    "# analyze labels distributions\n",
    "fig, ax = plt.subplots()\n",
    "\n",
    "classesOMCWRF, countClassesOMCWRF = np.unique(labelsRFWrongsAndOwnModelCorrects, return_counts = True)\n",
    "\n",
    "print(countClassesOMCWRF)\n",
    "\n",
    "# countClasses = countClasses / np.sum(countClasses)\n",
    "# countClasses = countClasses \n",
    "\n",
    "classes = list(map(str, classesOMCWRF))\n",
    "\n",
    "ax.bar(\n",
    "    classes, \n",
    "    countClassesOMCWRF,\n",
    "#     tick_label = only_these_labels,\n",
    "#     width = 10,\n",
    ")\n",
    "\n",
    "# ax.set_title(\"Samples wrong RF and correct own model\")\n",
    "ax.set_title(\"Clasificaciones incorrectas por RF y correctas por modelo propio\", fontsize = 15)\n",
    "ax.set_xlabel(\"Clases\", fontsize = 15)"
   ]
  },
  {
   "cell_type": "markdown",
   "id": "arabic-deployment",
   "metadata": {},
   "source": [
    "# Get examples wrongly classified by own model and wrongly by RF"
   ]
  },
  {
   "cell_type": "code",
   "execution_count": 15,
   "id": "flying-combat",
   "metadata": {},
   "outputs": [],
   "source": [
    "# get RF samples who predictions are not equals to labels\n",
    "maskRFWrong = rFResults[\"testPredictions\"] != rFResults[\"testLabels\"]\n",
    "\n",
    "# get OM samples who predictions are not equals to labels\n",
    "maskOwnModelWrong = ownModelResults[\"testPredictions\"] != ownModelResults[\"testLabels\"]\n",
    "\n",
    "# get ids that 1)RF are wrong 2) ON are wrong\n",
    "finalMask = (maskRFWrong & maskOwnModelWrong)\n",
    "\n",
    "# get ids samples\n",
    "idsRFWrongAndOwnModelWrong = ownModelResults[\"testIds\"][finalMask]\n",
    "labelsRFWrongsAndOwnModelWrong = ownModelResults[\"testLabels\"][finalMask]\n",
    "\n",
    "# # build object\n",
    "# samplesRFCorrectsAndOwnModelWrongs = {\n",
    "#     \"ids\": idsRFCorrectsAndOwnModelWrongs,\n",
    "#     \"labels\": ownModelResults[\"testLabels\"][finalMask]\n",
    "# }"
   ]
  },
  {
   "cell_type": "code",
   "execution_count": 16,
   "id": "isolated-reading",
   "metadata": {},
   "outputs": [
    {
     "name": "stdout",
     "output_type": "stream",
     "text": [
      "[ 5 46  1 29 25 44]\n"
     ]
    },
    {
     "data": {
      "text/plain": [
       "Text(0.5, 0, 'Clases')"
      ]
     },
     "execution_count": 16,
     "metadata": {},
     "output_type": "execute_result"
    },
    {
     "data": {
      "image/png": "[encoded data removed]",
      "text/plain": [
       "<Figure size 432x288 with 1 Axes>"
      ]
     },
     "metadata": {
      "needs_background": "light"
     },
     "output_type": "display_data"
    }
   ],
   "source": [
    "# analyze labels distributions\n",
    "fig, ax = plt.subplots()\n",
    "\n",
    "classesOMWWRF, countClassesOMWWRF = np.unique(labelsRFWrongsAndOwnModelWrong, return_counts = True)\n",
    "\n",
    "print(countClassesOMWWRF)\n",
    "\n",
    "# countClasses = countClasses / np.sum(countClasses)\n",
    "# countClasses = countClasses \n",
    "\n",
    "classes = list(map(str, classesOMWWRF))\n",
    "\n",
    "ax.bar(\n",
    "    classes, \n",
    "    countClassesOMWWRF,\n",
    "#     tick_label = only_these_labels,\n",
    "#     width = 10,\n",
    ")\n",
    "\n",
    "# ax.set_title(\"Samples wrong RF and correct own model\")\n",
    "ax.set_title(\"Clasificaciones incorrectas por RF y por modelo propio\", fontsize = 15)\n",
    "ax.set_xlabel(\"Clases\", fontsize = 15)"
   ]
  },
  {
   "cell_type": "markdown",
   "id": "modular-adrian",
   "metadata": {},
   "source": [
    "# Get samples correctly by RF and own model"
   ]
  },
  {
   "cell_type": "code",
   "execution_count": 17,
   "id": "speaking-reform",
   "metadata": {},
   "outputs": [],
   "source": [
    "# get RF samples who predictions are equals to labels\n",
    "maskRFCorrect = rFResults[\"testPredictions\"] == rFResults[\"testLabels\"]\n",
    "\n",
    "# get OM samples who predictions are equals to labels\n",
    "maskOwnModelCorrect = ownModelResults[\"testPredictions\"] == ownModelResults[\"testLabels\"]\n",
    "\n",
    "# get ids that 1)RF are wrong 2) ON are wrong\n",
    "finalMask = (maskRFCorrect & maskOwnModelCorrect)\n",
    "\n",
    "# get ids samples\n",
    "idsRFCorrectAndOwnModelCorrect = ownModelResults[\"testIds\"][finalMask]\n",
    "labelsRFCorrectAndOwnModelCorrect = ownModelResults[\"testLabels\"][finalMask]\n",
    "\n",
    "# # build object\n",
    "# samplesRFCorrectsAndOwnModelWrongs = {\n",
    "#     \"ids\": idsRFCorrectsAndOwnModelWrongs,\n",
    "#     \"labels\": ownModelResults[\"testLabels\"][finalMask]\n",
    "# }"
   ]
  },
  {
   "cell_type": "code",
   "execution_count": 18,
   "id": "extreme-routine",
   "metadata": {},
   "outputs": [
    {
     "name": "stdout",
     "output_type": "stream",
     "text": [
      "[ 103 1364  136 1203 1252 1398]\n"
     ]
    },
    {
     "data": {
      "text/plain": [
       "Text(0.5, 0, 'Clases')"
      ]
     },
     "execution_count": 18,
     "metadata": {},
     "output_type": "execute_result"
    },
    {
     "data": {
      "image/png": "[encoded data removed]",
      "text/plain": [
       "<Figure size 432x288 with 1 Axes>"
      ]
     },
     "metadata": {
      "needs_background": "light"
     },
     "output_type": "display_data"
    }
   ],
   "source": [
    "# analyze labels distributions\n",
    "fig, ax = plt.subplots()\n",
    "\n",
    "classesOMCCRF, countClassesOMCCRF = np.unique(labelsRFCorrectAndOwnModelCorrect, return_counts = True)\n",
    "\n",
    "print(countClassesOMCCRF)\n",
    "\n",
    "# countClasses = countClasses / np.sum(countClasses)\n",
    "# countClasses = countClasses \n",
    "\n",
    "classes = list(map(str, classesOMCCRF))\n",
    "\n",
    "ax.bar(\n",
    "    classes, \n",
    "    countClassesOMCCRF,\n",
    "#     tick_label = only_these_labels,\n",
    "#     width = 10,\n",
    ")\n",
    "\n",
    "# ax.set_title(\"Samples wrong RF and correct own model\")\n",
    "ax.set_title(\"Clasificaciones correctas por RF y por modelo propio\", fontsize = 15)\n",
    "ax.set_xlabel(\"Clases\", fontsize = 15)"
   ]
  },
  {
   "cell_type": "markdown",
   "id": "intimate-radius",
   "metadata": {},
   "source": [
    "# Get samples correctly by own model"
   ]
  },
  {
   "cell_type": "code",
   "execution_count": 19,
   "id": "major-membrane",
   "metadata": {},
   "outputs": [],
   "source": [
    "# get OM samples who predictions are equals to labels\n",
    "maskOwnModelCorrect = ownModelResults[\"testPredictions\"] == ownModelResults[\"testLabels\"]\n",
    "\n",
    "# get ids that 1)RF are wrong 2) ON are wrong\n",
    "finalMask = (maskOwnModelCorrect)\n",
    "\n",
    "# get ids samples\n",
    "idsOwnModelCorrect = ownModelResults[\"testIds\"][finalMask]\n",
    "labelsOwnModelCorrect = ownModelResults[\"testLabels\"][finalMask]\n",
    "\n",
    "# # build object\n",
    "# samplesRFCorrectsAndOwnModelWrongs = {\n",
    "#     \"ids\": idsRFCorrectsAndOwnModelWrongs,\n",
    "#     \"labels\": ownModelResults[\"testLabels\"][finalMask]\n",
    "# }"
   ]
  },
  {
   "cell_type": "code",
   "execution_count": 20,
   "id": "detailed-equation",
   "metadata": {},
   "outputs": [
    {
     "name": "stdout",
     "output_type": "stream",
     "text": [
      "[ 105 1415  136 1292 1292 1416]\n"
     ]
    },
    {
     "data": {
      "text/plain": [
       "Text(0.5, 0, 'Clases')"
      ]
     },
     "execution_count": 20,
     "metadata": {},
     "output_type": "execute_result"
    },
    {
     "data": {
      "image/png": "[encoded data removed]",
      "text/plain": [
       "<Figure size 432x288 with 1 Axes>"
      ]
     },
     "metadata": {
      "needs_background": "light"
     },
     "output_type": "display_data"
    }
   ],
   "source": [
    "# analyze labels distributions\n",
    "fig, ax = plt.subplots()\n",
    "\n",
    "classesOMC, countClassesOMC = np.unique(labelsOwnModelCorrect, return_counts = True)\n",
    "\n",
    "print(countClassesOMC)\n",
    "\n",
    "# countClasses = countClasses / np.sum(countClasses)\n",
    "# countClasses = countClasses \n",
    "\n",
    "classes = list(map(str, classesOMC))\n",
    "\n",
    "ax.bar(\n",
    "    classes, \n",
    "    countClassesOMC,\n",
    "#     tick_label = only_these_labels,\n",
    "#     width = 10,\n",
    ")\n",
    "\n",
    "# ax.set_title(\"Samples wrong RF and correct own model\")\n",
    "ax.set_title(\"Clasificaciones correctas por modelo propio\", fontsize = 15)\n",
    "ax.set_xlabel(\"Clases\", fontsize = 15)"
   ]
  },
  {
   "cell_type": "markdown",
   "id": "closing-powder",
   "metadata": {},
   "source": [
    "# Get analysis of errors by models"
   ]
  },
  {
   "cell_type": "code",
   "execution_count": 21,
   "id": "extensive-fortune",
   "metadata": {},
   "outputs": [
    {
     "name": "stdout",
     "output_type": "stream",
     "text": [
      "[ 6. 16. 53. 65. 88. 92.]\n",
      "[ 145 1593  149 1598 1537 1524]\n",
      "\n",
      "\n",
      "Rf correct - om wrong\n",
      "[ 6. 16. 53. 65. 88. 92.]\n",
      "[ 35 132  12 277 220  64]\n",
      "[24.1  8.3  8.1 17.3 14.3  4.2]\n",
      "\n",
      "\n",
      "Rf wrong - om correct\n",
      "[ 6. 16. 65. 88. 92.]\n",
      "[ 2 51 89 40 18]\n",
      "[1.4 3.2 5.6 2.6 1.2]\n",
      "\n",
      "\n",
      "Rf wrong - om wrong\n",
      "[ 6. 16. 53. 65. 88. 92.]\n",
      "[ 5 46  1 29 25 44]\n",
      "[3.4 2.9 0.7 1.8 1.6 2.9]\n",
      "\n",
      "\n",
      "Rf correct - om correct\n",
      "[ 6. 16. 53. 65. 88. 92.]\n",
      "[ 103 1364  136 1203 1252 1398]\n",
      "[71.  85.6 91.3 75.3 81.5 91.7]\n",
      "\n",
      "\n",
      "om correct\n",
      "[ 6. 16. 53. 65. 88. 92.]\n",
      "[ 105 1415  136 1292 1292 1416]\n",
      "[72.4 88.8 91.3 80.9 84.1 92.9]\n",
      "\n",
      "\n"
     ]
    }
   ],
   "source": [
    "# count label instaces in dataset to make percentages\n",
    "labelsTmp, totalLabels = np.unique(ownModelResults[\"testLabels\"], return_counts = True)\n",
    "print(labelsTmp)\n",
    "print(totalLabels)\n",
    "print(\"\\n\")\n",
    "\n",
    "\n",
    "print(\"Rf correct - om wrong\")\n",
    "print(classesOMWCRF)\n",
    "print(countClassesOMWCRF)\n",
    "print(np.round(100 * countClassesOMWCRF / totalLabels, 1))\n",
    "print(\"\\n\")\n",
    "\n",
    "\n",
    "print(\"Rf wrong - om correct\")\n",
    "print(classesOMCWRF)\n",
    "print(countClassesOMCWRF)\n",
    "print(np.round(100 * countClassesOMCWRF / [145, 1593, 1598, 1537, 1524], 1))\n",
    "print(\"\\n\")\n",
    "\n",
    "\n",
    "print(\"Rf wrong - om wrong\")\n",
    "print(classesOMWWRF)\n",
    "print(countClassesOMWWRF)\n",
    "print(np.round(100 * countClassesOMWWRF / totalLabels, 1))\n",
    "print(\"\\n\")\n",
    "\n",
    "\n",
    "print(\"Rf correct - om correct\")\n",
    "print(classesOMCCRF)\n",
    "print(countClassesOMCCRF)\n",
    "print(np.round(100 * countClassesOMCCRF / totalLabels, 1))\n",
    "print(\"\\n\")\n",
    "\n",
    "\n",
    "print(\"om correct\")\n",
    "print(classesOMC)\n",
    "print(countClassesOMC)\n",
    "print(np.round(100 * countClassesOMC / totalLabels, 1))\n",
    "print(\"\\n\")"
   ]
  },
  {
   "cell_type": "markdown",
   "id": "elect-japan",
   "metadata": {},
   "source": [
    "# Get features RF uses to classify them"
   ]
  },
  {
   "cell_type": "code",
   "execution_count": 25,
   "id": "frequent-software",
   "metadata": {},
   "outputs": [],
   "source": [
    "# # get RF model\n",
    "# # # load file\n",
    "# rf = load('../../experiments/comparingModels/seed' + str(seed) + '/RF/trainedRF.joblib') "
   ]
  },
  {
   "cell_type": "code",
   "execution_count": 26,
   "id": "prime-pressure",
   "metadata": {},
   "outputs": [],
   "source": [
    "# # loading features names\n",
    "# seed = 0\n",
    "# with open(f\"../random_forest/ids/seed{seed}/maxClass15k/dataset_ids_before_balancing.pkl\", \"rb\") as f:\n",
    "#     lc_ids = pickle.load(f)\n",
    "\n",
    "# with open(\"../random_forest/features/fats\"+str(int(lc_ids[\"train\"][0]))+\".pkl\", \"rb\") as f:\n",
    "#     tmp = load(f)\n",
    "    \n",
    "#     # get features names\n",
    "#     featuresNames = tmp.columns.values"
   ]
  },
  {
   "cell_type": "code",
   "execution_count": 22,
   "id": "concerned-vertical",
   "metadata": {},
   "outputs": [],
   "source": [
    "# # FATS computing: https://github.com/isadoranun/FATS/blob/master/FATS/FeatureFunctionLib.py\n",
    "\n",
    "# # get the most important features\n",
    "# featuresByImportance, importance = featuresNames[np.argsort(rf.feature_importances_)[::-1]], rf.feature_importances_[np.argsort(rf.feature_importances_)[::-1]]\n",
    "\n",
    "# featuresToDisplay = 20\n",
    "\n",
    "# fig, ax = plt.subplots(figsize = (10, 10), tight_layout = True)\n",
    "\n",
    "# ax.set_title(f\"Top {featuresToDisplay} feature importances on Random Forest\")\n",
    "# ax.barh(featuresByImportance[:featuresToDisplay], importance[:featuresToDisplay])\n",
    "# # ax.set_xticklabels(rotation = (45), fontsize = 10, va='bottom', ha='left')\n",
    "# ax.set_yticklabels(featuresByImportance[:featuresToDisplay],fontsize=10, rotation=45)"
   ]
  },
  {
   "cell_type": "markdown",
   "id": "welcome-album",
   "metadata": {},
   "source": [
    "# Get decomposition of predictions on correct RF and wrong OM"
   ]
  },
  {
   "cell_type": "code",
   "execution_count": 28,
   "id": "christian-timer",
   "metadata": {
    "scrolled": false
   },
   "outputs": [],
   "source": [
    "# # (node_indicator, _) = rf.decision_path(instances)\n",
    "\n",
    "# # node_indicator\n",
    "\n",
    "# # Extract single tree\n",
    "# estimator = rf.estimators_\n",
    "# estimatorIndex = 0\n",
    "# print(f\"number of trees: {len(estimator)}\")\n",
    "\n",
    "# from sklearn.tree import export_graphviz\n",
    "# # Export as dot file\n",
    "# export_graphviz(estimator[estimatorIndex], \n",
    "#                 out_file='tree' + str(estimatorIndex) + '.dot', \n",
    "#                 feature_names = featuresNames,\n",
    "#                 class_names = True,\n",
    "#                 rounded = True, \n",
    "#                 proportion = False, \n",
    "#                 precision = 2, \n",
    "#                 filled = True,\n",
    "#                 rotate = True,\n",
    "# )\n",
    "\n",
    "# # Convert to png\n",
    "# estimatorIndex = str(estimatorIndex)\n",
    "# from subprocess import call\n",
    "# call(['dot', '-Tpng', 'tree' + estimatorIndex + '.dot', '-o', 'tree'  + estimatorIndex + '.png', '-Gdpi=600'])\n",
    "\n",
    "# # Display in jupyter notebook\n",
    "# from IPython.display import Image\n",
    "# Image(filename = 'tree' + estimatorIndex + '.png')"
   ]
  },
  {
   "cell_type": "code",
   "execution_count": 23,
   "id": "political-diploma",
   "metadata": {},
   "outputs": [],
   "source": [
    "# # get data\n",
    "# id_ = idsRFCorrectsAndOwnModelWrongs[1]\n",
    "\n",
    "# index = np.where(ownModelResults[\"testIds\"]  == id_)[0][0]\n",
    "\n",
    "# print(f\"label: {ownModelResults['testLabels'][index]}\")\n",
    "\n",
    "# print(f\"RF prediction: {rFResults['testPredictions'][index]}\")\n",
    "\n",
    "# with open(\"../random_forest/features/fats\"+ str(round(id_)) +\".pkl\", \"rb\") as f:\n",
    "#     instances = load(f)\n",
    "\n",
    "# #get predictions\n",
    "# prediction, bias, contributions = ti.predict(rf, instances)\n",
    "\n",
    "# # prediction = rf.predict(instances)\n",
    "\n",
    "# only_these_labels = [16, 92, 53, 88, 65, 6]\n",
    "\n",
    "# print(only_these_labels[np.argmax(prediction)])"
   ]
  },
  {
   "cell_type": "code",
   "execution_count": 30,
   "id": "breathing-strength",
   "metadata": {},
   "outputs": [
    {
     "name": "stdout",
     "output_type": "stream",
     "text": [
      "[[0.20052328 0.09406491 0.00284883 0.02324763 0.670528   0.00878735]]\n",
      "4\n"
     ]
    }
   ],
   "source": [
    "# print(prediction)\n",
    "\n",
    "# print(np.argmax(prediction))"
   ]
  },
  {
   "cell_type": "code",
   "execution_count": 24,
   "id": "driven-today",
   "metadata": {},
   "outputs": [],
   "source": [
    "# # get decomposition\n",
    "# for i in range(len(instances)):\n",
    "    \n",
    "#     print(\"Instance\", i)\n",
    "#     print(\"Bias (trainset mean\", bias[i])\n",
    "#     print(\"Feature contributions:\")\n",
    "# #     for c, feature in sorted(zip(contributions[i], featuresNames), key=lambda x: -abs(x[0])):\n",
    "# #         print(feature, round(c, 2))\n",
    "#     for c, feature in zip(contributions[0], \n",
    "#                              featuresNames):\n",
    "#         print(feature)\n",
    "#         print(c)\n",
    "        \n",
    "#     print(\"-\"*20)"
   ]
  },
  {
   "cell_type": "code",
   "execution_count": 32,
   "id": "white-context",
   "metadata": {},
   "outputs": [],
   "source": [
    "# ti.predict?"
   ]
  },
  {
   "cell_type": "markdown",
   "id": "vital-shanghai",
   "metadata": {},
   "source": [
    "# Feature importance permutation analysis"
   ]
  },
  {
   "cell_type": "code",
   "execution_count": 51,
   "id": "coordinate-georgia",
   "metadata": {},
   "outputs": [],
   "source": [
    "# get RF model\n",
    "# # load file\n",
    "rf = load('../../experiments/comparingModels/seed' + str(seed) + '/RF/trainedRF.joblib') "
   ]
  },
  {
   "cell_type": "code",
   "execution_count": 52,
   "id": "liked-uniform",
   "metadata": {},
   "outputs": [],
   "source": [
    "# loading features names\n",
    "seed = 0\n",
    "with open(f\"../random_forest/ids/seed{seed}/maxClass15k/dataset_ids_before_balancing.pkl\", \"rb\") as f:\n",
    "    lc_ids = pickle.load(f)\n",
    "\n",
    "with open(\"../random_forest/features/fats\"+str(int(lc_ids[\"train\"][0]))+\".pkl\", \"rb\") as f:\n",
    "    tmp = load(f)\n",
    "    \n",
    "    # get features names\n",
    "    featuresNames = tmp.columns.values"
   ]
  },
  {
   "cell_type": "markdown",
   "id": "southeast-reflection",
   "metadata": {},
   "source": [
    "# by classes"
   ]
  },
  {
   "cell_type": "code",
   "execution_count": 53,
   "id": "distinct-award",
   "metadata": {},
   "outputs": [
    {
     "data": {
      "text/plain": [
       "(740,)"
      ]
     },
     "execution_count": 53,
     "metadata": {},
     "output_type": "execute_result"
    }
   ],
   "source": [
    "idsRFCorrectsAndOwnModelWrongs.shape"
   ]
  },
  {
   "cell_type": "code",
   "execution_count": 59,
   "id": "young-squad",
   "metadata": {},
   "outputs": [
    {
     "name": "stdout",
     "output_type": "stream",
     "text": [
      "class 16\n",
      "features shape (# light curves, features): (126, 288)\n",
      "(126,)\n",
      "class 92\n",
      "features shape (# light curves, features): (55, 288)\n",
      "(55,)\n",
      "class 53\n",
      "features shape (# light curves, features): (11, 288)\n",
      "(11,)\n",
      "class 88\n",
      "features shape (# light curves, features): (209, 288)\n",
      "(209,)\n",
      "class 65\n",
      "features shape (# light curves, features): (273, 288)\n",
      "(273,)\n",
      "class 6\n",
      "features shape (# light curves, features): (33, 288)\n",
      "(33,)\n"
     ]
    }
   ],
   "source": [
    "# get features of RF corrects and own modelo wrong.\n",
    "\n",
    "# get features\n",
    "features = {}\n",
    "labels = {}\n",
    "\n",
    "# get ids to analyze\n",
    "\n",
    "# get all classes\n",
    "classesToAnalyze = only_these_labels\n",
    "\n",
    "for classToAnalyze in classesToAnalyze:\n",
    "    \n",
    "    print(f\"class {classToAnalyze}\")\n",
    "    \n",
    "    # 1) ids with RF correct and RF wrong\n",
    "    # get ids of class\n",
    "    selectedIds = idsRFCorrectsAndOwnModelWrongs[labelsRFCorrectsAndOwnModelWrongs == classToAnalyze]\n",
    "    \n",
    "    # save features of selected ids\n",
    "    tmp = []\n",
    "    \n",
    "    # get data\n",
    "    for lc_id in selectedIds:\n",
    "\n",
    "        with open(\"../random_forest/features/fats\"+str(int(lc_id))+\".pkl\", \"rb\") as f:\n",
    "            tmp.append(load(f))\n",
    "\n",
    "    # transform list to numpy array\n",
    "    tmp = np.array(tmp, dtype = \"float\").reshape(len(tmp),-1)\n",
    "    \n",
    "    # clean data\n",
    "    \n",
    "    # get rows without inf values\n",
    "    mask = ~(np.isinf(tmp).any(axis=1))\n",
    "    \n",
    "    # get rows without nan values\n",
    "    mask2 = ~(np.isnan(tmp).any(axis = 1))\n",
    "\n",
    "    # print(mask2.shape)\n",
    "    # print(mask.shape)\n",
    "\n",
    "    # get clean features data\n",
    "    features_ = tmp[mask & mask2]\n",
    "    \n",
    "    # get clean labels\n",
    "    labels_ = labelsRFCorrectsAndOwnModelWrongs[labelsRFCorrectsAndOwnModelWrongs == classToAnalyze][mask & mask2]\n",
    "\n",
    "    print(f\"features shape (# light curves, features): {features_.shape}\")\n",
    "    print(labels_.shape)\n",
    "\n",
    "\n",
    "    # save class arrays into final dict (class: arrays) \n",
    "    features[classToAnalyze] = features_\n",
    "    labels[classToAnalyze] = labels_"
   ]
  },
  {
   "cell_type": "code",
   "execution_count": 60,
   "id": "weird-giant",
   "metadata": {},
   "outputs": [
    {
     "name": "stdout",
     "output_type": "stream",
     "text": [
      "dict_keys([16, 92, 53, 88, 65, 6])\n"
     ]
    }
   ],
   "source": [
    "print(features.keys())"
   ]
  },
  {
   "cell_type": "code",
   "execution_count": 61,
   "id": "metallic-renaissance",
   "metadata": {},
   "outputs": [
    {
     "name": "stdout",
     "output_type": "stream",
     "text": [
      "class: 16\n",
      "features: (126,)\n",
      "class: 92\n",
      "features: (55,)\n",
      "class: 53\n",
      "features: (11,)\n",
      "class: 88\n",
      "features: (209,)\n",
      "class: 65\n",
      "features: (273,)\n",
      "class: 6\n",
      "features: (33,)\n"
     ]
    }
   ],
   "source": [
    "# this is doing a permutation analisis by class.\n",
    "# It receives all the features of the RF correct and OM incorrect and compute the importance in the trained model\n",
    "\n",
    "# save permutation by class\n",
    "permutationImportancesClasses = {}\n",
    "\n",
    "for classToAnalyze in classesToAnalyze:\n",
    "    \n",
    "    print(f\"class: {classToAnalyze}\")\n",
    "    print(f\"features: {labels[classToAnalyze].shape}\")\n",
    "    \n",
    "    # get permutation importances\n",
    "    # this receives the rf trained model, features (dic by class) and its labels (dic by class)\n",
    "    r = permutation_importance(\n",
    "                        rf, \n",
    "                        features[classToAnalyze], \n",
    "                        labels[classToAnalyze],\n",
    "                        n_repeats=10,\n",
    "                        random_state=0,\n",
    "                        n_jobs = 4,\n",
    "    )\n",
    "    \n",
    "    # save permutation by class\n",
    "    permutationImportancesClasses[classToAnalyze] = r"
   ]
  },
  {
   "cell_type": "code",
   "execution_count": 62,
   "id": "divine-harris",
   "metadata": {},
   "outputs": [],
   "source": [
    "# # save file\n",
    "# a_file = open(\"./importancePermutationTestByClass.pkl\", \"wb\")\n",
    "# pickle.dump(permutationImportancesClasses, a_file)\n",
    "# a_file.close()"
   ]
  },
  {
   "cell_type": "code",
   "execution_count": 63,
   "id": "southern-papua",
   "metadata": {},
   "outputs": [],
   "source": [
    "# save permutations results\n",
    "# save object\n",
    "a_file = open(\"./importancePermutationTestByClass.pkl\", \"rb\")\n",
    "permutationImportancesClasses = pickle.load(a_file)"
   ]
  },
  {
   "cell_type": "code",
   "execution_count": 64,
   "id": "proud-husband",
   "metadata": {},
   "outputs": [],
   "source": [
    "# a_file = open(\"../../experiments/comparingModels/seed\" + str(seed) + \"/ownModel/testOwnModelPredictions.pkl\", \"rb\")\n",
    "# ownModelResults = pickle.load(a_file)"
   ]
  },
  {
   "cell_type": "code",
   "execution_count": 68,
   "id": "refined-plaintiff",
   "metadata": {},
   "outputs": [
    {
     "data": {
      "image/png": "[encoded data removed]",
      "text/plain": [
       "<Figure size 720x1440 with 6 Axes>"
      ]
     },
     "metadata": {
      "needs_background": "light"
     },
     "output_type": "display_data"
    }
   ],
   "source": [
    "# do plot\n",
    "fig, ax = plt.subplots(len(classesToAnalyze), 1, figsize = (10, 20), tight_layout = True)\n",
    "\n",
    "maxIndex = 5\n",
    "\n",
    "# classesToAnalyze = [65, 16, 88, 92, 6, 53]\n",
    "classesToAnalyze = [88, 65, 92, 6, 16, 53]\n",
    "\n",
    "# each class\n",
    "for i, class_ in enumerate(classesToAnalyze):\n",
    "    \n",
    "    # get sorted feautres\n",
    "    idxFeatures = permutationImportancesClasses[class_].importances_mean.argsort()[::-1][:maxIndex]\n",
    "    \n",
    "#     print(idxFeatures.shape)\n",
    "#     print(permutationImportancesClasses[class_].importances_mean[idxFeatures])\n",
    "    \n",
    "    ax[i].set_title(f\"Feature permutation with class {class_}\")\n",
    "    ax[i].barh(\n",
    "        featuresNames[idxFeatures], \n",
    "        permutationImportancesClasses[class_].importances_mean[idxFeatures],\n",
    "    )\n",
    "#     # ax.set_xticklabels(rotation = (45), fontsize = 10, va='bottom', ha='left')\n",
    "#     ax[i].set_yticklabels(featuresNames[:maxIndex],fontsize=10, rotation=45)\n"
   ]
  },
  {
   "cell_type": "code",
   "execution_count": 69,
   "id": "departmental-thirty",
   "metadata": {},
   "outputs": [],
   "source": [
    "fig.savefig(\"featureImportancePermutation.pdf\", bbox_inches='tight')"
   ]
  },
  {
   "cell_type": "markdown",
   "id": "accomplished-founder",
   "metadata": {},
   "source": [
    "# full dataset"
   ]
  },
  {
   "cell_type": "code",
   "execution_count": 68,
   "id": "august-zealand",
   "metadata": {},
   "outputs": [
    {
     "name": "stdout",
     "output_type": "stream",
     "text": [
      "(948, 288)\n",
      "(948,)\n"
     ]
    }
   ],
   "source": [
    "# 1) ids with RF correct and RF wrong\n",
    "features_ = []\n",
    "\n",
    "# get data\n",
    "for lc_id in idsRFCorrectsAndOwnModelWrongs:\n",
    "\n",
    "    with open(\"../random_forest/features/fats\"+str(int(lc_id))+\".pkl\", \"rb\") as f:\n",
    "        features_.append(load(f))\n",
    "\n",
    "features_ = np.array(features_, dtype = \"float\").reshape(len(features_),-1)\n",
    "\n",
    "# print(features_.shape)\n",
    "\n",
    "# clean data\n",
    "\n",
    "# get rows without inf values\n",
    "mask = ~(np.isinf(features_).any(axis=1))\n",
    "\n",
    "mask2 = ~(np.isnan(features_).any(axis = 1))\n",
    "\n",
    "# print(mask2.shape)\n",
    "# print(mask.shape)\n",
    "\n",
    "features = features_[mask & mask2]\n",
    "labels = labelsRFCorrectsAndOwnModelWrongs[mask & mask2]\n",
    "\n",
    "print(features.shape)\n",
    "print(labels.shape)"
   ]
  },
  {
   "cell_type": "code",
   "execution_count": 69,
   "id": "instructional-franklin",
   "metadata": {},
   "outputs": [],
   "source": [
    " # get permutation importances\n",
    "r = permutation_importance(\n",
    "                    rf, \n",
    "                    features, \n",
    "                    labels,\n",
    "                    n_repeats=10,\n",
    "                    random_state=0,\n",
    "                    n_jobs = 4,\n",
    ")\n",
    "\n",
    "# save file\n",
    "a_file = open(\"./importancePermutationTestAllClasses.pkl\", \"wb\")\n",
    "pickle.dump(r, a_file)\n",
    "a_file.close()"
   ]
  },
  {
   "cell_type": "code",
   "execution_count": 70,
   "id": "geographic-capability",
   "metadata": {},
   "outputs": [
    {
     "data": {
      "text/plain": [
       "<BarContainer object of 10 artists>"
      ]
     },
     "execution_count": 70,
     "metadata": {},
     "output_type": "execute_result"
    },
    {
     "data": {
      "image/png": "[encoded data removed]",
      "text/plain": [
       "<Figure size 360x360 with 1 Axes>"
      ]
     },
     "metadata": {
      "needs_background": "light"
     },
     "output_type": "display_data"
    }
   ],
   "source": [
    "# do plot\n",
    "fig, ax = plt.subplots(figsize = (5, 5), tight_layout = True)\n",
    "\n",
    "maxIndex = 10\n",
    "\n",
    "# get sorted feautres\n",
    "idxFeatures = r.importances_mean.argsort()[::-1][:maxIndex]\n",
    "\n",
    "ax.set_title(f\"Feature permutation with all class\")\n",
    "ax.barh(\n",
    "    featuresNames[idxFeatures], \n",
    "    r.importances_mean[idxFeatures],\n",
    ")\n",
    "#     # ax.set_xticklabels(rotation = (45), fontsize = 10, va='bottom', ha='left')\n",
    "#     ax[i].set_yticklabels(featuresNames[:maxIndex],fontsize=10, rotation=45)\n"
   ]
  },
  {
   "cell_type": "markdown",
   "id": "demonstrated-amazon",
   "metadata": {},
   "source": [
    "# Analizing what model is the best one"
   ]
  },
  {
   "cell_type": "code",
   "execution_count": 8,
   "id": "rising-penalty",
   "metadata": {},
   "outputs": [],
   "source": [
    "plt.rcParams.update({\n",
    "    \"text.usetex\": True,\n",
    "})"
   ]
  },
  {
   "cell_type": "code",
   "execution_count": 19,
   "id": "young-brunei",
   "metadata": {},
   "outputs": [
    {
     "name": "stdout",
     "output_type": "stream",
     "text": [
      "18\n",
      "test\n",
      "acc: 0.88 +/- 0.014\n",
      "f1 macro: 0.84 +/- 0.014\n",
      "recall: 0.87 +/- 0.014\n",
      "precision: 0.83 +/- 0.0139\n",
      "f1 macro:\n",
      "[16, 92, 53, 88, 65, 6]\n",
      "[0.9  0.94 0.94 0.85 0.87 0.55]\n",
      "[0.007 0.005 0.022 0.023 0.021 0.041]\n",
      "\n",
      "\n",
      "rf\n",
      "test\n",
      "acc: 0.95 +/- 0.001\n",
      "f1 macro: 0.91 +/- 0.001\n",
      "recall: 0.95 +/- 0.002\n",
      "precision: 0.89 +/- 0.00164\n",
      "f1 macro:\n",
      "[16, 92, 53, 88, 65, 6]\n",
      "[0.95 0.97 0.99 0.97 0.93 0.64]\n",
      "[0.002 0.002 0.003 0.001 0.001 0.008]\n",
      "\n",
      "\n"
     ]
    },
    {
     "data": {
      "image/png": "[encoded data removed]",
      "text/plain": [
       "<Figure size 1080x720 with 2 Axes>"
      ]
     },
     "metadata": {},
     "output_type": "display_data"
    },
    {
     "data": {
      "image/png": "[encoded data removed]",
      "text/plain": [
       "<Figure size 1080x720 with 2 Axes>"
      ]
     },
     "metadata": {},
     "output_type": "display_data"
    }
   ],
   "source": [
    "# modelsToAnalize = [17, 18, 19, 20]\n",
    "# modelsToAnalize = [22, 23, 24, 25, 26, 20, 18]\n",
    "modelsToAnalize = [18, \"rf\"]\n",
    "seeds = [0,1,2, 3]\n",
    "# seeds = [0, 1,2,3,4]\n",
    "# seeds = [0, 1, 2, 3, 4, 5, 6, 7, 8]\n",
    "\n",
    "\n",
    "tmpLocal = \"/home/leo/Desktop/thesis/work/thesis/\"\n",
    "max_elements_per_class = 15000\n",
    "\n",
    "accArray = np.zeros(shape = (len(modelsToAnalize), len(seeds)))\n",
    "f1MacroArray = np.zeros(shape = (len(modelsToAnalize), len(seeds)))\n",
    "f1WeightedArray = np.zeros(shape = (len(modelsToAnalize), len(seeds)))\n",
    "f1Array = np.zeros(shape = (len(modelsToAnalize), len(seeds), len(only_these_labels), ))\n",
    "recallArray = np.zeros(shape = (len(modelsToAnalize), len(seeds)))\n",
    "precisionArray = np.zeros(shape = (len(modelsToAnalize), len(seeds)))\n",
    "cmArray = np.zeros(shape = (len(modelsToAnalize), len(only_these_labels), len(only_these_labels), len(seeds)))\n",
    "\n",
    "for idxExp, number_experiment in enumerate(modelsToAnalize):\n",
    "    \n",
    "#     accTmp = 0\n",
    "#     f1Macro = 0\n",
    "#     f1Weighted = 0\n",
    "    \n",
    "#     accArray = np.zeros(shape = (len(seeds), ))\n",
    "#     f1MacroArray = np.zeros(shape = (len(seeds), ))\n",
    "#     f1WeightedArray = np.zeros(shape = (len(seeds), ))\n",
    "\n",
    "#     f1Array = np.zeros(shape = (len(seeds), len(only_these_labels), ))\n",
    "    \n",
    "    print(number_experiment)\n",
    "    \n",
    "#     for subset in [\"train\", \"valid\", \"test\"]:\n",
    "\n",
    "#     for subset in [\"valid\"]:\n",
    "    for subset in [\"test\"]:\n",
    "        \n",
    "        print(subset)\n",
    "        \n",
    "        for idxSeed, seed in enumerate(seeds):\n",
    "\n",
    "#             print(f\"{number_experiment} + seed + {seed}\n",
    "\n",
    "\n",
    "            \n",
    "            \n",
    "            ######## plot training loss and f1 score\n",
    "\n",
    "            \n",
    "            \n",
    "\n",
    "            # path to load data\n",
    "#             expPath = \"experiments/\" + str(number_experiment) + \"/seed\" + str(seed) + \"/maxClass\" + str(int(max_elements_per_class/1000)) + \"k\"\n",
    "#             folder_path = (tmpLocal + expPath)\n",
    "\n",
    "\n",
    "#             losses = pd.read_csv(folder_path + \"/training_losses.csv\")\n",
    "\n",
    "#             # f1 scores\n",
    "#             # f1Scores = pd.read_csv(\"/home/leo/Desktop/thesis/work/thesis/experiments/\" + number_experiment + \"/seed\" + str(seed) + \"/maxClass15k\" + \"/f1Scores.csv\")\n",
    "#             f1Scores = pd.read_csv(folder_path + \"/f1Scores.csv\")\n",
    "\n",
    "#             # plot losses\n",
    "#             fig, ax = plt.subplots(1, 2, figsize = (10,4), tight_layout = True)\n",
    "\n",
    "#             maxPlot = 3000\n",
    "\n",
    "#             # loss\n",
    "#             ax[0].set_xlabel(\"N° epoch\")\n",
    "#             ax[0].set_ylabel(\"Loss\")\n",
    "#             ax[0].plot(losses.iloc[:maxPlot, 0], label = \"train\")\n",
    "#             ax[0].plot(losses.iloc[:maxPlot, 1], label = \"validation\")\n",
    "#             ax[0].legend()\n",
    "#             ax[0].set_title(f\"exp:{number_experiment} \")\n",
    "\n",
    "#             # f1 scores\n",
    "#             ax[1].set_xlabel(\"N° epoch\")\n",
    "#             ax[1].set_ylabel(\"F1 score\")\n",
    "#             ax[1].plot(f1Scores.iloc[:maxPlot])\n",
    "\n",
    "\n",
    "\n",
    "\n",
    "\n",
    "             ############ load results\n",
    "\n",
    "            if number_experiment != \"rf\":\n",
    "\n",
    "#                 a_file = open(\"../../experiments/comparingModels/seed\" + str(seed) + \"/ownModel/OwnModel\" + str(number_experiment) +\"Predictions.pkl\", \"rb\")\n",
    "                \n",
    "                \n",
    "                try:\n",
    "                    \n",
    "                    a_file = open(\"../../experiments/comparingModels/seed\" + str(seed) + \"/ownModel/OwnModel\" + str(number_experiment) +\"Predictions.pkl\", \"rb\")\n",
    "#                     print(\"ok\")\n",
    "                except:\n",
    "                       \n",
    "                    print(f\"no file seed {seed}, exp {number_experiment}\")\n",
    "                    \n",
    "                    seed_ = 0\n",
    "                        \n",
    "                    a_file = open(\"../../experiments/comparingModels/seed\" + str(seed_) + \"/ownModel/OwnModel\" + str(number_experiment) +\"Predictions.pkl\", \"rb\")\n",
    "                    \n",
    "#                     continue\n",
    "             \n",
    "            # RF\n",
    "            else:\n",
    "                \n",
    "#                 try:\n",
    "                    \n",
    "                a_file = open(\"../../experiments/comparingModels/seed\" + str(seed) + \"/RF/predictionsRF.pkl\", \"rb\")\n",
    "#                 except:\n",
    "                       \n",
    "#                     print(\"no file\")\n",
    "                    \n",
    "#                     pass\n",
    "                    \n",
    "            ownModelResultsTmp = pickle.load(a_file)\n",
    "\n",
    "\n",
    "\n",
    "            \n",
    "            ################# confussion matrix\n",
    "    \n",
    "    \n",
    "    \n",
    "    \n",
    "            # get confussion matrix\n",
    "            # C_ij such that  is equal to the number of observations known to be in group i and predicted to be in group j\n",
    "            cmResults = confusion_matrix(\n",
    "                ownModelResultsTmp[subset + \"Labels\"], \n",
    "                ownModelResultsTmp[subset + \"Predictions\"], \n",
    "                labels = only_these_labels,\n",
    "#                 normalize = \"pred\",\n",
    "                normalize = \"true\",\n",
    "#                 normalize = \"all\",\n",
    "            )\n",
    "    \n",
    "#             print(rFResultsCM)\n",
    "#             print(f\"class 0: {rFResultsCM[0, :]}\")\n",
    "            cmArray[idxExp, :, :, idxSeed] = cmResults\n",
    "        \n",
    "#             fig0, ax = plt.subplots(figsize = (7,5))\n",
    "\n",
    "# #             # plot\n",
    "#             sn.heatmap(\n",
    "#                 cmArray, \n",
    "#                 annot=True, \n",
    "#                 ax = ax,\n",
    "#                 yticklabels=only_these_labels,\n",
    "#                 xticklabels=only_these_labels,\n",
    "#                 cmap=plt.cm.Blues,\n",
    "#             )\n",
    "            \n",
    "    \n",
    "    \n",
    "\n",
    "            ############ get classification report\n",
    "\n",
    "\n",
    "    #         print(classification_report(\n",
    "    #             ownModelResultsTmp[\"validLabels\"], \n",
    "    #             ownModelResultsTmp[\"validPredictions\"],\n",
    "    #             labels = only_these_labels,\n",
    "    #         ))\n",
    "\n",
    "\n",
    "\n",
    "\n",
    "\n",
    "            ############### compute metrics\n",
    "\n",
    "\n",
    "            # to compute mean accuracy (by seeds)\n",
    "            accArray[idxExp, idxSeed] = accuracy_score(\n",
    "                ownModelResultsTmp[subset + \"Labels\"], \n",
    "                ownModelResultsTmp[subset + \"Predictions\"]\n",
    "            )\n",
    "\n",
    "            f1MacroArray[idxExp, idxSeed] = f1_score(\n",
    "                ownModelResultsTmp[subset + \"Labels\"], \n",
    "                ownModelResultsTmp[subset + \"Predictions\"], \n",
    "                average='macro',\n",
    "            )\n",
    "\n",
    "            f1Array[idxExp, idxSeed, :] = f1_score(\n",
    "                ownModelResultsTmp[subset + \"Labels\"], \n",
    "                ownModelResultsTmp[subset + \"Predictions\"], \n",
    "                average=None,\n",
    "                labels = only_these_labels,\n",
    "            )\n",
    "\n",
    "\n",
    "    #         f1WeightedArray[idxExp, idxSeed] += f1_score(\n",
    "    #             ownModelResultsTmp[\"validLabels\"], \n",
    "    #             ownModelResultsTmp[\"validPredictions\"], \n",
    "    #             average='weighted'\n",
    "    #         )\n",
    "\n",
    "\n",
    "\n",
    "            # to compute mean recall (by seeds)\n",
    "            recallArray[idxExp, idxSeed] = recall_score(\n",
    "                ownModelResultsTmp[subset + \"Labels\"], \n",
    "                ownModelResultsTmp[subset + \"Predictions\"],\n",
    "                average='macro',\n",
    "            )\n",
    "\n",
    "            # to compute mean precision (by seeds)\n",
    "            precisionArray[idxExp, idxSeed] = precision_score(\n",
    "                ownModelResultsTmp[subset + \"Labels\"], \n",
    "                ownModelResultsTmp[subset + \"Predictions\"],\n",
    "                average='macro',\n",
    "            )\n",
    "\n",
    "\n",
    "\n",
    "\n",
    "\n",
    "        ######################## average metrics by seed\n",
    "        \n",
    "        print(f\"acc: {np.mean(accArray[idxExp, :]):.2f} +/- {np.std(accArray[idxExp, :]):.3f}\")\n",
    "\n",
    "        print(f\"f1 macro: {np.mean(f1MacroArray[idxExp, :]):.2f} +/- {np.std(f1MacroArray[idxExp, :]):.3f}\")\n",
    "\n",
    "        print(f\"recall: {np.mean(recallArray[idxExp, :]):.2f} +/- {np.std(recallArray[idxExp, :]):.3f}\")\n",
    "\n",
    "        print(f\"precision: {np.mean(precisionArray[idxExp, :]):.2f} +/- {np.std(precisionArray[idxExp, :]):.3}\")\n",
    "\n",
    "    #     print(f\"f1 macro: {np.mean(f1MacroArray):.2f} +/- {np.std(f1MacroArray):.2f}\")\n",
    "\n",
    "    #     print(f\"f1 weighted: {np.mean(f1WeightedArray):.2f} +/- {np.std(f1WeightedArray):.2f} \")\n",
    "\n",
    "        print(\"f1 macro:\")\n",
    "        print(only_these_labels)\n",
    "        print(np.around(np.mean(f1Array[idxExp, :], axis = 0) , 2))\n",
    "        print(np.round(np.std(f1Array[idxExp, :], axis = 0), 3))\n",
    "\n",
    "        \n",
    "        # confussion matrix\n",
    "#         print(\"confussion matrix building\")\n",
    "#         print(np.around(np.mean(cmArray[idxExp, :, :, :], axis = -1), 2))\n",
    "#         print(np.around(np.std(cmArray[idxExp, :, :, :], axis = -1), 3))\n",
    "#         print(np.around(np.mean(cmArray[idxExp, :], axis = 0) , 2))\n",
    "#         print(cmArray)\n",
    "        \n",
    "        mtmp = np.mean(cmArray[idxExp, :, :, :], axis = -1)\n",
    "        mtmpStd = np.std(cmArray[idxExp, :, :, :], axis = -1)\n",
    "        \n",
    "#         print(mtmp.shape)\n",
    "        \n",
    "        mtmpC = np.chararray(shape = (6, 6), itemsize = 16)\n",
    "        \n",
    "        for i in np.arange(6):\n",
    "            \n",
    "            for j in np.arange(6):\n",
    "                \n",
    "                mtmpC[i, j] = \"%.2f\" % mtmp[i, j] + \" $\\pm$ \" + \"%.3f\" % mtmpStd[i, j]\n",
    "#                 mtmpC[i, j] = r'val $\\pm$ std'\n",
    "#                 mtmpC[i, j] = str(\"%f\" % mtmp[i, j])\n",
    "#                 mtmpC[i, j] = \"hola\"\n",
    "                \n",
    "#         print(\"CHARACTERS\")\n",
    "#         print(mtmpC)\n",
    "                \n",
    "#         confussion matrix plot\n",
    "        fig0, ax = plt.subplots(figsize = (15, 10))\n",
    "               \n",
    "        sn.set(font_scale = 1.2)\n",
    "        \n",
    "        sn.heatmap(\n",
    "            mtmp, \n",
    "            annot= mtmpC.decode(\"utf-8\"), \n",
    "#             fmt=\"s\",\n",
    "            fmt=\"s\",\n",
    "            ax = ax,\n",
    "            yticklabels=only_these_labels,\n",
    "            xticklabels=only_these_labels,\n",
    "            cmap=plt.cm.Blues,\n",
    "            annot_kws = {\"size\": 15}\n",
    "        )\n",
    "                \n",
    "        fig0.savefig(\"confMatrix\" + str(number_experiment) + \".pdf\", bbox_inches='tight')\n",
    "        \n",
    "        \n",
    "        print(\"\\n\")\n",
    "\n",
    "\n",
    "    \n",
    "# print(accArray.shape)    \n",
    "\n",
    "# ######################## box plots\n",
    "\n",
    "\n",
    "# fig, ax = plt.subplots(4, 1, tight_layout = True, figsize = (7, 10))\n",
    "\n",
    "# labels = [0, 1, 2, 3, 4, 5, \"Todos\"]\n",
    "\n",
    "# # accuracy\n",
    "# ax[0].boxplot(\n",
    "#     np.transpose(accArray), \n",
    "# #     labels = [\"Incluye error\", \"Sin error\"],\n",
    "#     labels = labels,\n",
    "#     showmeans = True,\n",
    "# #     notch = True,\n",
    "# #     autorange = True,\n",
    "# #     manage_ticks = True,\n",
    "# ) \n",
    "# ax[0].set_title(\"Precisión por experimento\", fontsize = 20)\n",
    "\n",
    "# # f1 macro\n",
    "# ax[1].boxplot(\n",
    "#     np.transpose(f1MacroArray), \n",
    "#     labels = labels,\n",
    "# #     labels = [\"Incluye error\", \"Sin error\"],\n",
    "#     showmeans = True,\n",
    "# ) \n",
    "# ax[1].set_title(\"F1 macro por experimento\", fontsize = 20)\n",
    "\n",
    "# # # f1 weighted\n",
    "# # ax[2].boxplot(\n",
    "# #     np.transpose(f1WeightedArray), \n",
    "# #     labels = [\"Incluye error\", \"Sin error\"],\n",
    "# #     showmeans = True,\n",
    "# # ) \n",
    "\n",
    "# # ax[2].set_title(\"F1 weighted por experimento\", fontsize = 20)\n",
    "\n",
    "# # recall macro\n",
    "# ax[2].boxplot(\n",
    "#     np.transpose(recallArray), \n",
    "#     labels = labels,\n",
    "# #     labels = [\"Incluye error\", \"Sin error\"],\n",
    "#     showmeans = True,\n",
    "# ) \n",
    "# ax[2].set_title(\"Recall macro por experimento\", fontsize = 20)\n",
    "\n",
    "# # precision macro\n",
    "# ax[3].boxplot(\n",
    "#     np.transpose(precisionArray), \n",
    "#     labels = labels,\n",
    "# #     labels = [\"Incluye error\", \"Sin error\"],\n",
    "#     showmeans = True,\n",
    "# ) \n",
    "# ax[3].set_title(\"Precision macro por experimento\", fontsize = 20)"
   ]
  },
  {
   "cell_type": "code",
   "execution_count": 23,
   "id": "dynamic-insulation",
   "metadata": {},
   "outputs": [],
   "source": [
    "#fig.savefig(\"metricsErrorAnalis.pdf\", bbox_inches='tight')"
   ]
  },
  {
   "cell_type": "code",
   "execution_count": 47,
   "id": "russian-mineral",
   "metadata": {},
   "outputs": [
    {
     "data": {
      "text/plain": [
       "array([[0.5526356 , 0.55110772, 0.52880061],\n",
       "       [0.78915202, 0.77616501, 0.78044309],\n",
       "       [0.82826585, 0.85668449, 0.84950344],\n",
       "       [0.80809778, 0.80336134, 0.81191749],\n",
       "       [0.77922078, 0.78166539, 0.77524828],\n",
       "       [0.68770053, 0.71000764, 0.70343774],\n",
       "       [0.85240642, 0.8921314 , 0.86676853]])"
      ]
     },
     "execution_count": 47,
     "metadata": {},
     "output_type": "execute_result"
    }
   ],
   "source": [
    "accArray"
   ]
  },
  {
   "cell_type": "code",
   "execution_count": 51,
   "id": "minute-receiver",
   "metadata": {},
   "outputs": [
    {
     "data": {
      "text/plain": [
       "(7, 3)"
      ]
     },
     "execution_count": 51,
     "metadata": {},
     "output_type": "execute_result"
    }
   ],
   "source": [
    "accArray.shape"
   ]
  },
  {
   "cell_type": "code",
   "execution_count": 48,
   "id": "operating-straight",
   "metadata": {},
   "outputs": [
    {
     "data": {
      "text/plain": [
       "array([[0.43715823, 0.45177202, 0.43234657],\n",
       "       [0.65816874, 0.65203607, 0.65499021],\n",
       "       [0.73841477, 0.77324097, 0.76165282],\n",
       "       [0.75493628, 0.75362935, 0.75881546],\n",
       "       [0.76247641, 0.75559827, 0.75433566],\n",
       "       [0.68483228, 0.70221701, 0.69022705],\n",
       "       [0.8203399 , 0.8478227 , 0.82230447]])"
      ]
     },
     "execution_count": 48,
     "metadata": {},
     "output_type": "execute_result"
    }
   ],
   "source": [
    "f1MacroArray"
   ]
  },
  {
   "cell_type": "code",
   "execution_count": 49,
   "id": "meaning-commissioner",
   "metadata": {},
   "outputs": [
    {
     "data": {
      "text/plain": [
       "array([[0.45299448, 0.49203175, 0.46868868],\n",
       "       [0.70402821, 0.70379479, 0.70613816],\n",
       "       [0.78326742, 0.7986637 , 0.80610921],\n",
       "       [0.78883592, 0.78283503, 0.80344201],\n",
       "       [0.7775039 , 0.7930775 , 0.78863709],\n",
       "       [0.71344513, 0.72507104, 0.73290258],\n",
       "       [0.84062524, 0.85975475, 0.84926101]])"
      ]
     },
     "execution_count": 49,
     "metadata": {},
     "output_type": "execute_result"
    }
   ],
   "source": [
    "recallArray"
   ]
  },
  {
   "cell_type": "code",
   "execution_count": 50,
   "id": "dimensional-intake",
   "metadata": {},
   "outputs": [
    {
     "data": {
      "text/plain": [
       "array([[0.46138006, 0.4898954 , 0.47495919],\n",
       "       [0.64846808, 0.64572953, 0.65014564],\n",
       "       [0.723644  , 0.759547  , 0.74635384],\n",
       "       [0.74315874, 0.73902123, 0.7428534 ],\n",
       "       [0.75117799, 0.7407549 , 0.73921014],\n",
       "       [0.67071923, 0.694885  , 0.67637496],\n",
       "       [0.80751785, 0.83971678, 0.80785136]])"
      ]
     },
     "execution_count": 50,
     "metadata": {},
     "output_type": "execute_result"
    }
   ],
   "source": [
    "precisionArray"
   ]
  },
  {
   "cell_type": "code",
   "execution_count": 46,
   "id": "manufactured-portable",
   "metadata": {},
   "outputs": [
    {
     "name": "stdout",
     "output_type": "stream",
     "text": [
      "acc\n",
      "(7, 3)\n",
      "0.125\n",
      "Statistics=6.000, p=0.125\n",
      "Same distribution (fail to reject H0)\n",
      "\n",
      "\n",
      "f1 macro\n",
      "(7, 3)\n",
      "0.125\n",
      "Statistics=6.000, p=0.125\n",
      "Same distribution (fail to reject H0)\n",
      "\n",
      "\n",
      "recall macro\n",
      "(7, 3)\n",
      "0.125\n",
      "Statistics=6.000, p=0.125\n",
      "Same distribution (fail to reject H0)\n",
      "\n",
      "\n",
      "prec macro\n",
      "(7, 3)\n",
      "0.125\n",
      "Statistics=6.000, p=0.125\n",
      "Same distribution (fail to reject H0)\n",
      "\n",
      "\n"
     ]
    }
   ],
   "source": [
    "from scipy.stats import wilcoxon\n",
    "\n",
    "for name, array in zip([\"acc\", \"f1 macro\", \"recall macro\", \"prec macro\"], [accArray, f1MacroArray, recallArray, precisionArray]):\n",
    "    \n",
    "    print(name)\n",
    "    \n",
    "    print(array.shape)\n",
    "    \n",
    "    # based on this example: https://towardsdatascience.com/wilcoxon-test-in-r-how-to-compare-2-groups-under-the-non-normality-assumption-6fb7f9e92400\n",
    "    stat, p = wilcoxon(\n",
    "        array[6,:], \n",
    "        array[0,:], \n",
    "#         alternative =\"less\",\n",
    "        alternative =\"greater\",\n",
    "    )\n",
    "\n",
    "    print(p)\n",
    "    \n",
    "    print('Statistics=%.3f, p=%.3f' % (stat, p))\n",
    "    \n",
    "    # interpret\n",
    "    alpha = 0.05\n",
    "    if p > alpha:\n",
    "        print('Same distribution (fail to reject H0)')\n",
    "    else:\n",
    "        print('Different distribution (reject H0)')\n",
    "    \n",
    "    print(\"\\n\")"
   ]
  },
  {
   "cell_type": "code",
   "execution_count": 11,
   "id": "smooth-welsh",
   "metadata": {},
   "outputs": [
    {
     "data": {
      "image/png": "[encoded data removed]",
      "text/plain": [
       "<Figure size 720x576 with 6 Axes>"
      ]
     },
     "metadata": {
      "needs_background": "light"
     },
     "output_type": "display_data"
    }
   ],
   "source": [
    "fig, ax = plt.subplots(3, 2,  tight_layout = True, figsize = (10, 8))\n",
    "\n",
    "index = 0\n",
    "\n",
    "for i in np.arange(len(only_these_labels)):\n",
    "# for k in np.arange(2):\n",
    "    \n",
    "#     for j in np.arange(3):\n",
    "        \n",
    "#         print(f\"j: {j}\")\n",
    "#         print(f\"k: {k}\")\n",
    "        \n",
    "#         i = j + k\n",
    "        # I don't know how to do it better\n",
    "        if i == 0:\n",
    "            j,k = 0, 0\n",
    "        elif i == 1:\n",
    "            j,k = 0, 1\n",
    "        elif i == 2:\n",
    "            j,k = 1, 0\n",
    "        elif i == 3:\n",
    "            j,k = 1, 1\n",
    "        elif i == 4:\n",
    "            j,k = 2, 0\n",
    "        elif i == 5:\n",
    "            j,k = 2, 1\n",
    "        \n",
    "#         print(f\"i: {i}\")\n",
    "        \n",
    "#         print(k + 2*j)\n",
    "#         ax[i].boxplot(\n",
    "            \n",
    "        ax[j, k].boxplot(\n",
    "            np.transpose(f1Array[:, :, i]), \n",
    "            labels = [\"Incluye error\", \"Sin error\"],\n",
    "            showmeans = True,\n",
    "        ) \n",
    "\n",
    "#         ax[i].set_title(f\"F1 clase {only_these_labels[i]}\", fontsize = 15)\n",
    "        ax[j, k].set_title(f\"F1 clase {only_these_labels[i]}\", fontsize = 15)"
   ]
  },
  {
   "cell_type": "code",
   "execution_count": 12,
   "id": "lined-subscriber",
   "metadata": {},
   "outputs": [],
   "source": [
    "fig.savefig(\"metricsErrorAnalisByClass.pdf\", bbox_inches='tight')"
   ]
  },
  {
   "cell_type": "code",
   "execution_count": 7,
   "id": "cloudy-positive",
   "metadata": {},
   "outputs": [
    {
     "data": {
      "text/plain": [
       "Text(0.5, 1.0, 'Valores de F1 en validación')"
      ]
     },
     "execution_count": 7,
     "metadata": {},
     "output_type": "execute_result"
    },
    {
     "data": {
      "image/png": "[encoded data removed]",
      "text/plain": [
       "<Figure size 720x288 with 2 Axes>"
      ]
     },
     "metadata": {
      "needs_background": "light"
     },
     "output_type": "display_data"
    }
   ],
   "source": [
    "# training plotb\n",
    "\n",
    "number_experiment = 17\n",
    "seed = 0\n",
    "\n",
    "# path to load data\n",
    "expPath = \"experiments/\" + str(number_experiment) + \"/seed\" + str(seed) + \"/maxClass\" + str(int(max_elements_per_class/1000)) + \"k\"\n",
    "folder_path = (tmpLocal + expPath)\n",
    "\n",
    "\n",
    "######## plot training loss and f1 score\n",
    "\n",
    "losses = pd.read_csv(folder_path + \"/training_losses.csv\")\n",
    "\n",
    "# f1 scores\n",
    "# f1Scores = pd.read_csv(\"/home/leo/Desktop/thesis/work/thesis/experiments/\" + number_experiment + \"/seed\" + str(seed) + \"/maxClass15k\" + \"/f1Scores.csv\")\n",
    "f1Scores = pd.read_csv(folder_path + \"/f1Scores.csv\")\n",
    "\n",
    "# plot losses\n",
    "fig, ax = plt.subplots(1, 2, figsize = (10,4), tight_layout = True)\n",
    "\n",
    "maxPlot = 1800\n",
    "\n",
    "# loss\n",
    "ax[0].set_xlabel(\"N° epoca\",  fontsize = 15)\n",
    "ax[0].set_ylabel(\"Pérdida\",  fontsize = 15)\n",
    "ax[0].plot(losses.iloc[:maxPlot, 0], label = \"entrenamiento\")\n",
    "ax[0].plot(losses.iloc[:maxPlot, 1], label = \"validación\")\n",
    "ax[0].legend()\n",
    "ax[0].set_title(f\"Valores de función costo\", fontsize = 15)\n",
    "\n",
    "# f1 scores\n",
    "ax[1].set_xlabel(\"N° epoca\",  fontsize = 15)\n",
    "ax[1].set_ylabel(\"F1\",  fontsize = 15)\n",
    "ax[1].plot(f1Scores.iloc[:maxPlot])\n",
    "ax[1].set_title(f\"Valores de F1 en validación\", fontsize = 15)"
   ]
  },
  {
   "cell_type": "code",
   "execution_count": 21,
   "id": "packed-disposition",
   "metadata": {},
   "outputs": [],
   "source": [
    "fig.savefig(\"trainingBestModel.pdf\", bbox_inches='tight')"
   ]
  },
  {
   "cell_type": "markdown",
   "id": "straight-constitution",
   "metadata": {},
   "source": [
    "# test to analize statistically differenciate between metrics"
   ]
  },
  {
   "cell_type": "code",
   "execution_count": 49,
   "id": "upset-owner",
   "metadata": {},
   "outputs": [],
   "source": [
    "# from scipy.stats import wilcoxon"
   ]
  },
  {
   "cell_type": "code",
   "execution_count": null,
   "id": "related-organizer",
   "metadata": {},
   "outputs": [],
   "source": [
    "# wilcoxon()"
   ]
  },
  {
   "cell_type": "markdown",
   "id": "ancient-string",
   "metadata": {},
   "source": [
    "# Get metrics own model and RF on train, validation and test"
   ]
  },
  {
   "cell_type": "code",
   "execution_count": 8,
   "id": "billion-anthony",
   "metadata": {},
   "outputs": [],
   "source": [
    "seed = 0\n",
    "number_experiment = 17"
   ]
  },
  {
   "cell_type": "code",
   "execution_count": 9,
   "id": "synthetic-screening",
   "metadata": {},
   "outputs": [
    {
     "name": "stdout",
     "output_type": "stream",
     "text": [
      "dict_keys(['trainIds', 'trainLabels', 'trainPredictions', 'validIds', 'validLabels', 'validPredictions', 'testIds', 'testLabels', 'testPredictions'])\n",
      "(52360,)\n"
     ]
    }
   ],
   "source": [
    "# load model\n",
    "a_file = open(\"../../experiments/comparingModels/seed\" + str(seed) + \"/ownModel/OwnModel\" + str(number_experiment) +\"Predictions.pkl\", \"rb\")\n",
    "ownModelResults = pickle.load(a_file)\n",
    "print(ownModelResults.keys())\n",
    "print(ownModelResults[\"trainIds\"].shape)"
   ]
  },
  {
   "cell_type": "code",
   "execution_count": 12,
   "id": "empirical-albert",
   "metadata": {},
   "outputs": [
    {
     "name": "stdout",
     "output_type": "stream",
     "text": [
      "train\n",
      "RF\n",
      "              precision    recall  f1-score   support\n",
      "\n",
      "          16       0.96      0.95      0.96     12739\n",
      "          92       0.98      0.96      0.97     12191\n",
      "          53       0.99      1.00      1.00      1186\n",
      "          88       0.99      0.97      0.98     12296\n",
      "          65       0.96      0.93      0.94     12785\n",
      "           6       0.53      1.00      0.69      1163\n",
      "\n",
      "    accuracy                           0.96     52360\n",
      "   macro avg       0.90      0.97      0.92     52360\n",
      "weighted avg       0.96      0.96      0.96     52360\n",
      "\n",
      "\n",
      "\n",
      "Own model\n",
      "              precision    recall  f1-score   support\n",
      "\n",
      "          16       0.82      0.83      0.82      8776\n",
      "          92       0.95      0.95      0.95      8703\n",
      "          53       1.00      0.99      0.99      8609\n",
      "          88       0.68      0.77      0.72      8751\n",
      "          65       0.76      0.67      0.71      8730\n",
      "           6       0.82      0.79      0.80      8791\n",
      "\n",
      "    accuracy                           0.83     52360\n",
      "   macro avg       0.84      0.83      0.83     52360\n",
      "weighted avg       0.84      0.83      0.83     52360\n",
      "\n",
      "\n",
      "\n",
      "\n",
      "\n",
      "valid\n",
      "RF\n",
      "              precision    recall  f1-score   support\n",
      "\n",
      "          16       0.95      0.93      0.94      1592\n",
      "          92       0.98      0.95      0.96      1524\n",
      "          53       1.00      0.99      1.00       148\n",
      "          88       0.99      0.96      0.97      1537\n",
      "          65       0.93      0.92      0.93      1598\n",
      "           6       0.47      0.93      0.62       146\n",
      "\n",
      "    accuracy                           0.94      6545\n",
      "   macro avg       0.89      0.95      0.90      6545\n",
      "weighted avg       0.95      0.94      0.94      6545\n",
      "\n",
      "\n",
      "\n",
      "Own model\n",
      "              precision    recall  f1-score   support\n",
      "\n",
      "          16       0.92      0.51      0.66      1592\n",
      "          92       0.91      0.91      0.91      1524\n",
      "          53       0.58      0.98      0.73       148\n",
      "          88       0.70      0.66      0.68      1537\n",
      "          65       0.75      0.59      0.66      1598\n",
      "           6       0.11      0.89      0.19       146\n",
      "\n",
      "    accuracy                           0.68      6545\n",
      "   macro avg       0.66      0.76      0.64      6545\n",
      "weighted avg       0.80      0.68      0.71      6545\n",
      "\n",
      "\n",
      "\n",
      "\n",
      "\n",
      "test\n",
      "RF\n",
      "              precision    recall  f1-score   support\n",
      "\n",
      "          16       0.96      0.94      0.95      1593\n",
      "          92       0.98      0.96      0.97      1524\n",
      "          53       0.99      0.99      0.99       149\n",
      "          88       0.99      0.96      0.97      1537\n",
      "          65       0.94      0.93      0.93      1598\n",
      "           6       0.49      0.95      0.65       145\n",
      "\n",
      "    accuracy                           0.95      6546\n",
      "   macro avg       0.89      0.95      0.91      6546\n",
      "weighted avg       0.96      0.95      0.95      6546\n",
      "\n",
      "\n",
      "\n",
      "Own model\n",
      "              precision    recall  f1-score   support\n",
      "\n",
      "          16       0.90      0.76      0.82      1593\n",
      "          92       0.96      0.91      0.93      1524\n",
      "          53       0.56      0.99      0.72       149\n",
      "          88       0.85      0.23      0.36      1537\n",
      "          65       0.56      0.92      0.69      1598\n",
      "           6       0.23      0.72      0.35       145\n",
      "\n",
      "    accuracy                           0.71      6546\n",
      "   macro avg       0.68      0.75      0.65      6546\n",
      "weighted avg       0.80      0.71      0.70      6546\n",
      "\n",
      "\n",
      "\n",
      "\n",
      "\n"
     ]
    }
   ],
   "source": [
    "from sklearn.metrics import accuracy_score\n",
    "from sklearn.metrics import f1_score\n",
    "\n",
    "subsets = [\"train\", \"valid\", \"test\"]\n",
    "\n",
    "for subset in subsets:\n",
    "    \n",
    "    print(subset)\n",
    "    \n",
    "    # RF\n",
    "    print(\"RF\")\n",
    "    print(\n",
    "        classification_report(\n",
    "            rFResults[subset + \"Labels\"], \n",
    "            rFResults[subset + \"Predictions\"],\n",
    "            labels = only_these_labels\n",
    "        )\n",
    "    )\n",
    "    \n",
    "    print(\"\\n\")\n",
    "    \n",
    "    # own Model\n",
    "    print(\"Own model\")\n",
    "    print(\n",
    "        classification_report(\n",
    "            ownModelResults[subset + \"Labels\"], \n",
    "            ownModelResults[subset + \"Predictions\"],\n",
    "            labels = only_these_labels\n",
    "        )\n",
    "    )\n",
    "    \n",
    "    \n",
    "#     # get accuracy\n",
    "#     accuracyRF = accuracy_score(\n",
    "#         rFResults[subset + \"Labels\"], \n",
    "#         rFResults[subset + \"Predictions\"]\n",
    "#     )\n",
    "    \n",
    "    \n",
    "#     accuracyOwnModel = accuracy_score(\n",
    "#         ownModelResults[subset + \"Labels\"], \n",
    "#         ownModelResults[subset + \"Predictions\"]\n",
    "#     )\n",
    "    \n",
    "\n",
    "#     print(f\"RF accuracy: {accuracyRF:.2f}\")\n",
    "#     print(f\"own model accuracy: {accuracyOwnModel:.2f}\")\n",
    "\n",
    "#     # get f1 score\n",
    "#     f1OwnModelMacro = f1_score(\n",
    "#         ownModelResults[subset + \"Labels\"], \n",
    "#         ownModelResults[subset + \"Predictions\"], \n",
    "#         average='macro'\n",
    "#     )\n",
    "    \n",
    "#     f1RFMacro = f1_score(\n",
    "#         rFResults[subset + \"Labels\"], \n",
    "#         rFResults[subset + \"Predictions\"], \n",
    "#         average='macro'\n",
    "#     )\n",
    "    \n",
    "#     f1OwnModelWeighted = f1_score(\n",
    "#         ownModelResults[subset + \"Labels\"], \n",
    "#         ownModelResults[subset + \"Predictions\"], \n",
    "#         average='weighted'\n",
    "#     )\n",
    "    \n",
    "#     f1RFWeighted = f1_score(\n",
    "#         rFResults[subset + \"Labels\"], \n",
    "#         rFResults[subset + \"Predictions\"], \n",
    "#         average='weighted'\n",
    "#     )\n",
    "    \n",
    "#     print(f\"RF f1 macro: {f1RFMacro:.2f}\")\n",
    "#     print(f\"own model f1 macro: {f1OwnModelMacro:.2f}\")\n",
    "    \n",
    "#     print(f\"RF f1 weighted: {f1RFWeighted:.2f}\")\n",
    "#     print(f\"own model f1 weighted: {f1OwnModelWeighted:.2f}\")\n",
    "    \n",
    "    \n",
    "    print(\"\\n\\n\\n\")\n",
    "# f1 macro\n",
    "\n",
    "# f1 weighted"
   ]
  },
  {
   "cell_type": "markdown",
   "id": "authorized-fleet",
   "metadata": {},
   "source": [
    "# f1 scores by class"
   ]
  },
  {
   "cell_type": "code",
   "execution_count": 14,
   "id": "lovely-anger",
   "metadata": {},
   "outputs": [
    {
     "name": "stdout",
     "output_type": "stream",
     "text": [
      "RF f1:\n"
     ]
    },
    {
     "data": {
      "text/plain": [
       "array([0.64637002, 0.94953983, 0.99328859, 0.93169657, 0.97386702,\n",
       "       0.96949602])"
      ]
     },
     "execution_count": 14,
     "metadata": {},
     "output_type": "execute_result"
    }
   ],
   "source": [
    "print(\"RF f1:\")\n",
    "f1_score(\n",
    "    rFResults[\"testLabels\"], \n",
    "    rFResults[\"testPredictions\"],\n",
    "    average = None,\n",
    ")"
   ]
  },
  {
   "cell_type": "code",
   "execution_count": 22,
   "id": "spanish-candidate",
   "metadata": {},
   "outputs": [
    {
     "name": "stdout",
     "output_type": "stream",
     "text": [
      "Own model f1:\n"
     ]
    },
    {
     "data": {
      "text/plain": [
       "0.6462574161286242"
      ]
     },
     "execution_count": 22,
     "metadata": {},
     "output_type": "execute_result"
    }
   ],
   "source": [
    "print(\"Own model f1:\")\n",
    "f1_score(\n",
    "    ownModelResults[\"testLabels\"], \n",
    "    ownModelResults[\"testPredictions\"],\n",
    "#     average = None,\n",
    "    average = \"macro\"\n",
    ")"
   ]
  },
  {
   "cell_type": "code",
   "execution_count": 20,
   "id": "floating-illinois",
   "metadata": {},
   "outputs": [
    {
     "name": "stdout",
     "output_type": "stream",
     "text": [
      "RF model\n",
      "              precision    recall  f1-score   support\n",
      "\n",
      "         6.0       0.49      0.95      0.65       145\n",
      "        16.0       0.96      0.94      0.95      1593\n",
      "        53.0       0.99      0.99      0.99       149\n",
      "        65.0       0.94      0.93      0.93      1598\n",
      "        88.0       0.99      0.96      0.97      1537\n",
      "        92.0       0.98      0.96      0.97      1524\n",
      "\n",
      "    accuracy                           0.95      6546\n",
      "   macro avg       0.89      0.95      0.91      6546\n",
      "weighted avg       0.96      0.95      0.95      6546\n",
      "\n"
     ]
    }
   ],
   "source": [
    "print(\"RF model\")\n",
    "print(classification_report(rFResults[\"testLabels\"], rFResults[\"testPredictions\"]))"
   ]
  },
  {
   "cell_type": "code",
   "execution_count": 21,
   "id": "sound-optimum",
   "metadata": {},
   "outputs": [
    {
     "name": "stdout",
     "output_type": "stream",
     "text": [
      "own model\n",
      "              precision    recall  f1-score   support\n",
      "\n",
      "         6.0       0.23      0.72      0.35       145\n",
      "        16.0       0.90      0.76      0.82      1593\n",
      "        53.0       0.56      0.99      0.72       149\n",
      "        65.0       0.56      0.92      0.69      1598\n",
      "        88.0       0.85      0.23      0.36      1537\n",
      "        92.0       0.96      0.91      0.93      1524\n",
      "\n",
      "    accuracy                           0.71      6546\n",
      "   macro avg       0.68      0.75      0.65      6546\n",
      "weighted avg       0.80      0.71      0.70      6546\n",
      "\n"
     ]
    }
   ],
   "source": [
    "print(\"own model\")\n",
    "print(classification_report(ownModelResults[\"testLabels\"], ownModelResults[\"testPredictions\"]))"
   ]
  }
 ],
 "metadata": {
  "kernelspec": {
   "display_name": "Python 3",
   "language": "python",
   "name": "python3"
  },
  "language_info": {
   "codemirror_mode": {
    "name": "ipython",
    "version": 3
   },
   "file_extension": ".py",
   "mimetype": "text/x-python",
   "name": "python",
   "nbconvert_exporter": "python",
   "pygments_lexer": "ipython3",
   "version": "3.7.6"
  }
 },
 "nbformat": 4,
 "nbformat_minor": 5
}
