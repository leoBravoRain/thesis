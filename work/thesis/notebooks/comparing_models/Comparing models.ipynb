{
 "cells": [
  {
   "cell_type": "markdown",
   "id": "vocational-adventure",
   "metadata": {},
   "source": [
    "# Load libraries"
   ]
  },
  {
   "cell_type": "code",
   "execution_count": 1,
   "id": "increasing-transcription",
   "metadata": {},
   "outputs": [],
   "source": [
    "import pickle\n",
    "import numpy as np\n",
    "from sklearn.metrics import classification_report\n",
    "from sklearn.metrics import confusion_matrix\n",
    "import seaborn as sn\n",
    "import matplotlib.pyplot as plt\n",
    "from joblib import load\n",
    "from treeinterpreter import treeinterpreter as ti\n",
    "from sklearn.inspection import permutation_importance"
   ]
  },
  {
   "cell_type": "markdown",
   "id": "better-columbia",
   "metadata": {},
   "source": [
    "# Define general variables"
   ]
  },
  {
   "cell_type": "code",
   "execution_count": 2,
   "id": "maritime-alfred",
   "metadata": {},
   "outputs": [],
   "source": [
    "seed = 0"
   ]
  },
  {
   "cell_type": "markdown",
   "id": "aging-alliance",
   "metadata": {},
   "source": [
    "# Get own model predictions"
   ]
  },
  {
   "cell_type": "code",
   "execution_count": 3,
   "id": "imported-blond",
   "metadata": {},
   "outputs": [
    {
     "name": "stdout",
     "output_type": "stream",
     "text": [
      "dict_keys(['testIds', 'testLabels', 'testPredictions'])\n",
      "(6546,)\n"
     ]
    }
   ],
   "source": [
    "# load model\n",
    "a_file = open(\"../../experiments/comparingModels/seed\" + str(seed) + \"/ownModel/testOwnModelPredictions.pkl\", \"rb\")\n",
    "ownModelResults = pickle.load(a_file)\n",
    "print(ownModelResults.keys())\n",
    "print(ownModelResults[\"testIds\"].shape)"
   ]
  },
  {
   "cell_type": "markdown",
   "id": "consolidated-canada",
   "metadata": {},
   "source": [
    "# Get RF predictions"
   ]
  },
  {
   "cell_type": "code",
   "execution_count": 4,
   "id": "practical-therapist",
   "metadata": {},
   "outputs": [
    {
     "name": "stdout",
     "output_type": "stream",
     "text": [
      "dict_keys(['testIds', 'testLabels', 'testPredictions'])\n",
      "(6546,)\n"
     ]
    }
   ],
   "source": [
    "# load files\n",
    "a_file = open(\"../../experiments/comparingModels/seed\" + str(seed) + \"/RF/testPredictionsRF.pkl\", \"rb\")\n",
    "rFResults = pickle.load(a_file)\n",
    "print(rFResults.keys())\n",
    "print(rFResults[\"testIds\"].shape)"
   ]
  },
  {
   "cell_type": "markdown",
   "id": "several-mapping",
   "metadata": {},
   "source": [
    "# Test if test datasets are equals"
   ]
  },
  {
   "cell_type": "code",
   "execution_count": 5,
   "id": "exposed-disorder",
   "metadata": {},
   "outputs": [
    {
     "name": "stdout",
     "output_type": "stream",
     "text": [
      "test ok\n"
     ]
    }
   ],
   "source": [
    "assert np.array_equal(ownModelResults[\"testIds\"], rFResults[\"testIds\"])\n",
    "print(\"test ok\")"
   ]
  },
  {
   "cell_type": "code",
   "execution_count": 6,
   "id": "colonial-cursor",
   "metadata": {},
   "outputs": [
    {
     "name": "stdout",
     "output_type": "stream",
     "text": [
      "test ok\n"
     ]
    }
   ],
   "source": [
    "assert np.array_equal(ownModelResults[\"testLabels\"], rFResults[\"testLabels\"])\n",
    "print(\"test ok\")"
   ]
  },
  {
   "cell_type": "code",
   "execution_count": 7,
   "id": "blank-victim",
   "metadata": {},
   "outputs": [
    {
     "name": "stdout",
     "output_type": "stream",
     "text": [
      "test ok\n"
     ]
    }
   ],
   "source": [
    "assert not np.array_equal(ownModelResults[\"testPredictions\"], rFResults[\"testPredictions\"])\n",
    "print(\"test ok\")"
   ]
  },
  {
   "cell_type": "markdown",
   "id": "undefined-marsh",
   "metadata": {},
   "source": [
    "# Analysis"
   ]
  },
  {
   "cell_type": "markdown",
   "id": "weighted-animation",
   "metadata": {},
   "source": [
    "# get confusion matrix"
   ]
  },
  {
   "cell_type": "code",
   "execution_count": 8,
   "id": "located-benchmark",
   "metadata": {},
   "outputs": [],
   "source": [
    "# [\"true\", \"pred\", \"all\", None]\n",
    "normalize = \"true\""
   ]
  },
  {
   "cell_type": "code",
   "execution_count": 9,
   "id": "photographic-valuable",
   "metadata": {},
   "outputs": [
    {
     "name": "stdout",
     "output_type": "stream",
     "text": [
      "RF model\n"
     ]
    },
    {
     "data": {
      "text/plain": [
       "<AxesSubplot:>"
      ]
     },
     "execution_count": 9,
     "metadata": {},
     "output_type": "execute_result"
    },
    {
     "data": {
      "image/png": "[encoded data removed]",
      "text/plain": [
       "<Figure size 432x288 with 2 Axes>"
      ]
     },
     "metadata": {
      "needs_background": "light"
     },
     "output_type": "display_data"
    }
   ],
   "source": [
    "print(\"RF model\")\n",
    "\n",
    "# get confussion matrix\n",
    "# C_ij such that  is equal to the number of observations known to be in group i and predicted to be in group j\n",
    "rFResultsCM = confusion_matrix(\n",
    "    rFResults[\"testLabels\"], \n",
    "    rFResults[\"testPredictions\"], \n",
    "    normalize = normalize\n",
    ")\n",
    "\n",
    "# print(f\"class 0: {rFResultsCM[0, :]}\")\n",
    "\n",
    "# plot\n",
    "sn.heatmap(rFResultsCM, annot=True)"
   ]
  },
  {
   "cell_type": "code",
   "execution_count": 10,
   "id": "planned-jaguar",
   "metadata": {},
   "outputs": [
    {
     "name": "stdout",
     "output_type": "stream",
     "text": [
      "Own model\n",
      "class 0: [0.77931034 0.04137931 0.         0.08965517 0.06896552 0.02068966]\n"
     ]
    },
    {
     "data": {
      "text/plain": [
       "<AxesSubplot:>"
      ]
     },
     "execution_count": 10,
     "metadata": {},
     "output_type": "execute_result"
    },
    {
     "data": {
      "image/png": "[encoded data removed]",
      "text/plain": [
       "<Figure size 432x288 with 2 Axes>"
      ]
     },
     "metadata": {
      "needs_background": "light"
     },
     "output_type": "display_data"
    }
   ],
   "source": [
    "print(\"Own model\")\n",
    "\n",
    "# get confussion matrix\n",
    "# C_ij such that  is equal to the number of observations known to be in group i and predicted to be in group j\n",
    "ownModelCM = confusion_matrix(ownModelResults[\"testLabels\"], ownModelResults[\"testPredictions\"], normalize = normalize)\n",
    "\n",
    "print(f\"class 0: {ownModelCM[0, :]}\")\n",
    "\n",
    "# plot\n",
    "sn.heatmap(ownModelCM, annot=True)"
   ]
  },
  {
   "cell_type": "markdown",
   "id": "recovered-ethiopia",
   "metadata": {},
   "source": [
    "# Get classification report"
   ]
  },
  {
   "cell_type": "code",
   "execution_count": 11,
   "id": "fifteen-strike",
   "metadata": {},
   "outputs": [
    {
     "name": "stdout",
     "output_type": "stream",
     "text": [
      "RF model\n",
      "              precision    recall  f1-score   support\n",
      "\n",
      "         6.0       0.50      0.94      0.66       145\n",
      "        16.0       0.96      0.94      0.95      1593\n",
      "        53.0       1.00      0.99      1.00       149\n",
      "        65.0       0.94      0.93      0.94      1598\n",
      "        88.0       0.99      0.96      0.97      1537\n",
      "        92.0       0.98      0.96      0.97      1524\n",
      "\n",
      "    accuracy                           0.95      6546\n",
      "   macro avg       0.90      0.95      0.91      6546\n",
      "weighted avg       0.96      0.95      0.95      6546\n",
      "\n"
     ]
    }
   ],
   "source": [
    "print(\"RF model\")\n",
    "print(classification_report(rFResults[\"testLabels\"], rFResults[\"testPredictions\"]))"
   ]
  },
  {
   "cell_type": "code",
   "execution_count": 12,
   "id": "reliable-ending",
   "metadata": {},
   "outputs": [
    {
     "name": "stdout",
     "output_type": "stream",
     "text": [
      "own model\n",
      "              precision    recall  f1-score   support\n",
      "\n",
      "         6.0       0.34      0.78      0.48       145\n",
      "        16.0       0.90      0.80      0.85      1593\n",
      "        53.0       0.93      0.95      0.94       149\n",
      "        65.0       0.92      0.65      0.76      1598\n",
      "        88.0       0.69      0.91      0.78      1537\n",
      "        92.0       0.96      0.94      0.95      1524\n",
      "\n",
      "    accuracy                           0.82      6546\n",
      "   macro avg       0.79      0.84      0.79      6546\n",
      "weighted avg       0.86      0.82      0.83      6546\n",
      "\n"
     ]
    }
   ],
   "source": [
    "print(\"own model\")\n",
    "print(classification_report(ownModelResults[\"testLabels\"], ownModelResults[\"testPredictions\"]))"
   ]
  },
  {
   "cell_type": "markdown",
   "id": "spread-metropolitan",
   "metadata": {},
   "source": []
  },
  {
   "cell_type": "markdown",
   "id": "established-lindsay",
   "metadata": {},
   "source": [
    "# Get how many correct and wrong classifications are done by each model?\n",
    "Add this to the paper"
   ]
  },
  {
   "cell_type": "code",
   "execution_count": 13,
   "id": "fixed-quick",
   "metadata": {},
   "outputs": [],
   "source": [
    "\n",
    "# save correct classifications by each model \n",
    "# shape: (classes, models (2: own and RF))\n",
    "correctClassifications = np.zeros(shape  = (6, 2))\n",
    "\n",
    "wrongClassifications = np.zeros(shape = (6,2))\n",
    "\n",
    "# iterate by each class\n",
    "for i in np.arange(6):\n",
    "    \n",
    "    # RF\n",
    "    correctClassifications[i][0] = rFResultsCM[i][i] / np.sum(rFResultsCM[i])\n",
    "    wrongClassifications[i][0] = np.sum(rFResultsCM[i][np.delete(np.arange(6), i)]) / np.sum(rFResultsCM[i])\n",
    "    \n",
    "    # own model\n",
    "    correctClassifications[i][1] = ownModelCM[i][i] / np.sum(ownModelCM[i])\n",
    "    wrongClassifications[i][1] = np.sum(ownModelCM[i][np.delete(np.arange(6), i)]) / np.sum(ownModelCM[i])"
   ]
  },
  {
   "cell_type": "code",
   "execution_count": 14,
   "id": "hourly-writer",
   "metadata": {},
   "outputs": [
    {
     "name": "stdout",
     "output_type": "stream",
     "text": [
      "Correct classifications. 0: RF\n"
     ]
    },
    {
     "data": {
      "text/plain": [
       "array([[0.94482759, 0.77931034],\n",
       "       [0.94161959, 0.79849341],\n",
       "       [0.99328859, 0.94630872],\n",
       "       [0.93178974, 0.64768461],\n",
       "       [0.95705921, 0.90696161],\n",
       "       [0.96062992, 0.94291339]])"
      ]
     },
     "execution_count": 14,
     "metadata": {},
     "output_type": "execute_result"
    }
   ],
   "source": [
    "print(\"Correct classifications. 0: RF\")\n",
    "correctClassifications"
   ]
  },
  {
   "cell_type": "markdown",
   "id": "embedded-thomas",
   "metadata": {},
   "source": [
    "In all classes, RF is better"
   ]
  },
  {
   "cell_type": "code",
   "execution_count": 15,
   "id": "talented-consumer",
   "metadata": {},
   "outputs": [
    {
     "name": "stdout",
     "output_type": "stream",
     "text": [
      "Wrong classifications. 0: RF\n"
     ]
    },
    {
     "data": {
      "text/plain": [
       "array([[0.05517241, 0.22068966],\n",
       "       [0.05838041, 0.20150659],\n",
       "       [0.00671141, 0.05369128],\n",
       "       [0.06821026, 0.35231539],\n",
       "       [0.04294079, 0.09303839],\n",
       "       [0.03937008, 0.05708661]])"
      ]
     },
     "execution_count": 15,
     "metadata": {},
     "output_type": "execute_result"
    }
   ],
   "source": [
    "print(\"Wrong classifications. 0: RF\")\n",
    "wrongClassifications"
   ]
  },
  {
   "cell_type": "markdown",
   "id": "animal-ebony",
   "metadata": {},
   "source": [
    "In all classes, RF is better"
   ]
  },
  {
   "cell_type": "markdown",
   "id": "other-token",
   "metadata": {},
   "source": [
    "Based on resutls, RF is better in all classes. There is no one class our model is better, so the models are not complementaries. Our model does not add more value to the classification."
   ]
  },
  {
   "cell_type": "markdown",
   "id": "posted-conspiracy",
   "metadata": {},
   "source": [
    "# Get examples wrongly classified by own model but correctly by RF"
   ]
  },
  {
   "cell_type": "code",
   "execution_count": 16,
   "id": "fuzzy-subdivision",
   "metadata": {},
   "outputs": [],
   "source": [
    "# get RF samples who predictions are equals to labels\n",
    "maskRFCorrects = (rFResults[\"testPredictions\"] == ownModelResults[\"testLabels\"])\n",
    "\n",
    "# get OM samples who predictions are not equals to labels\n",
    "maskOwnModelWrong = (ownModelResults[\"testPredictions\"] != ownModelResults[\"testLabels\"])\n",
    "\n",
    "# get ids that 1)RF are corrects 2) ON are wrong\n",
    "finalMask = (maskRFCorrects & maskOwnModelWrong)\n",
    "\n",
    "# get ids samples\n",
    "idsRFCorrectsAndOwnModelWrongs = ownModelResults[\"testIds\"][finalMask]\n",
    "labelsRFCorrectsAndOwnModelWrongs = ownModelResults[\"testLabels\"][finalMask]\n",
    "\n",
    "# # build object\n",
    "# samplesRFCorrectsAndOwnModelWrongs = {\n",
    "#     \"ids\": idsRFCorrectsAndOwnModelWrongs,\n",
    "#     \"labels\": ownModelResults[\"testLabels\"][finalMask]\n",
    "# }"
   ]
  },
  {
   "cell_type": "code",
   "execution_count": 17,
   "id": "classical-piano",
   "metadata": {},
   "outputs": [
    {
     "data": {
      "text/plain": [
       "(979,)"
      ]
     },
     "execution_count": 17,
     "metadata": {},
     "output_type": "execute_result"
    }
   ],
   "source": [
    "idsRFCorrectsAndOwnModelWrongs.shape"
   ]
  },
  {
   "cell_type": "code",
   "execution_count": 18,
   "id": "veterinary-headline",
   "metadata": {},
   "outputs": [],
   "source": [
    "# test if RF is correct classified and Own model is wrong\n",
    "for i in idsRFCorrectsAndOwnModelWrongs:\n",
    "    \n",
    "    index = np.where(ownModelResults[\"testIds\"]  == i)[0][0]\n",
    "    \n",
    "    # test\n",
    "    # 1) if RF is classifiying correctly\n",
    "    # 2) if Own model is classifiying wrongly\n",
    "    assert ownModelResults[\"testLabels\"][index] == rFResults[\"testPredictions\"][index] and ownModelResults[\"testLabels\"][index] != ownModelResults[\"testPredictions\"][index]"
   ]
  },
  {
   "cell_type": "code",
   "execution_count": 19,
   "id": "sitting-template",
   "metadata": {},
   "outputs": [
    {
     "data": {
      "text/plain": [
       "Text(0.5, 1.0, 'Samples correct RF and wrong own model')"
      ]
     },
     "execution_count": 19,
     "metadata": {},
     "output_type": "execute_result"
    },
    {
     "data": {
      "image/png": "[encoded data removed]",
      "text/plain": [
       "<Figure size 432x288 with 1 Axes>"
      ]
     },
     "metadata": {
      "needs_background": "light"
     },
     "output_type": "display_data"
    }
   ],
   "source": [
    "# analyze labels distributions\n",
    "fig, ax = plt.subplots()\n",
    "\n",
    "classes, countClasses = np.unique(labelsRFCorrectsAndOwnModelWrongs, return_counts = True)\n",
    "\n",
    "# countClasses = countClasses / np.sum(countClasses)\n",
    "countClasses = countClasses\n",
    "\n",
    "classes = list(map(str, classes))\n",
    "\n",
    "ax.bar(\n",
    "    classes, \n",
    "    countClasses,\n",
    "#     width = 10,\n",
    ")\n",
    "\n",
    "ax.set_title(\"Samples correct RF and wrong own model\")"
   ]
  },
  {
   "cell_type": "markdown",
   "id": "complete-latin",
   "metadata": {},
   "source": [
    "# Get examples correctly classified by own model but wrongly by RF"
   ]
  },
  {
   "cell_type": "code",
   "execution_count": 20,
   "id": "mediterranean-aerospace",
   "metadata": {},
   "outputs": [],
   "source": [
    "# get RF samples who predictions are equals to labels\n",
    "maskRFWrong = (rFResults[\"testPredictions\"] != ownModelResults[\"testLabels\"])\n",
    "\n",
    "# get OM samples who predictions are not equals to labels\n",
    "maskOwnModelCorrect = (ownModelResults[\"testPredictions\"] == ownModelResults[\"testLabels\"])\n",
    "\n",
    "# get ids that 1)RF are corrects 2) ON are wrong\n",
    "finalMask = (maskRFWrong & maskOwnModelCorrect)\n",
    "\n",
    "# get ids samples\n",
    "idsRFWrongAndOwnModelCorrect = ownModelResults[\"testIds\"][finalMask]\n",
    "labelsRFWrongsAndOwnModelCorrects = ownModelResults[\"testLabels\"][finalMask]\n",
    "\n",
    "# # build object\n",
    "# samplesRFCorrectsAndOwnModelWrongs = {\n",
    "#     \"ids\": idsRFCorrectsAndOwnModelWrongs,\n",
    "#     \"labels\": ownModelResults[\"testLabels\"][finalMask]\n",
    "# }"
   ]
  },
  {
   "cell_type": "code",
   "execution_count": 21,
   "id": "dimensional-ceiling",
   "metadata": {},
   "outputs": [
    {
     "data": {
      "text/plain": [
       "Text(0.5, 1.0, 'Samples wrong RF and correct own model')"
      ]
     },
     "execution_count": 21,
     "metadata": {},
     "output_type": "execute_result"
    },
    {
     "data": {
      "image/png": "[encoded data removed]",
      "text/plain": [
       "<Figure size 432x288 with 1 Axes>"
      ]
     },
     "metadata": {
      "needs_background": "light"
     },
     "output_type": "display_data"
    }
   ],
   "source": [
    "# analyze labels distributions\n",
    "fig, ax = plt.subplots()\n",
    "\n",
    "classes, countClasses = np.unique(labelsRFWrongsAndOwnModelCorrects, return_counts = True)\n",
    "\n",
    "# countClasses = countClasses / np.sum(countClasses)\n",
    "countClasses = countClasses \n",
    "\n",
    "classes = list(map(str, classes))\n",
    "\n",
    "ax.bar(\n",
    "    classes, \n",
    "    countClasses,\n",
    "#     width = 10,\n",
    ")\n",
    "\n",
    "ax.set_title(\"Samples wrong RF and correct own model\")"
   ]
  },
  {
   "cell_type": "markdown",
   "id": "elect-japan",
   "metadata": {},
   "source": [
    "# Get features RF uses to classify them"
   ]
  },
  {
   "cell_type": "code",
   "execution_count": 22,
   "id": "frequent-software",
   "metadata": {},
   "outputs": [],
   "source": [
    "# get RF model\n",
    "# # load file\n",
    "rf = load('../../experiments/comparingModels/seed' + str(seed) + '/RF/trainedRF.joblib') "
   ]
  },
  {
   "cell_type": "code",
   "execution_count": 23,
   "id": "prime-pressure",
   "metadata": {},
   "outputs": [],
   "source": [
    "# loading features names\n",
    "seed = 0\n",
    "with open(f\"../random_forest/ids/seed{seed}/maxClass15k/dataset_ids_before_balancing.pkl\", \"rb\") as f:\n",
    "    lc_ids = pickle.load(f)\n",
    "\n",
    "with open(\"../random_forest/features/fats\"+str(int(lc_ids[\"train\"][0]))+\".pkl\", \"rb\") as f:\n",
    "    tmp = load(f)\n",
    "    \n",
    "    # get features names\n",
    "    featuresNames = tmp.columns.values"
   ]
  },
  {
   "cell_type": "code",
   "execution_count": 24,
   "id": "concerned-vertical",
   "metadata": {},
   "outputs": [
    {
     "name": "stderr",
     "output_type": "stream",
     "text": [
      "/home/leo/anaconda3/lib/python3.7/site-packages/ipykernel_launcher.py:13: UserWarning: FixedFormatter should only be used together with FixedLocator\n",
      "  del sys.path[0]\n"
     ]
    },
    {
     "data": {
      "text/plain": [
       "[Text(0, 0, 'MedianAbsDev_5'),\n",
       " Text(0, 1, 'MedianAbsDev_4'),\n",
       " Text(0, 2, 'Q31_5'),\n",
       " Text(0, 3, 'Q31_4'),\n",
       " Text(0, 4, 'Std_5'),\n",
       " Text(0, 5, 'Eta_e_5'),\n",
       " Text(0, 6, 'MedianAbsDev_3'),\n",
       " Text(0, 7, 'IAR_phi_4'),\n",
       " Text(0, 8, 'PeriodLS_v2_5'),\n",
       " Text(0, 9, 'Amplitude_4'),\n",
       " Text(0, 10, 'IAR_phi_5'),\n",
       " Text(0, 11, 'Std_4'),\n",
       " Text(0, 12, 'Q31_3'),\n",
       " Text(0, 13, 'IAR_phi_3'),\n",
       " Text(0, 14, 'Amplitude_5'),\n",
       " Text(0, 15, 'StetsonK_5'),\n",
       " Text(0, 16, 'Eta_e_4'),\n",
       " Text(0, 17, 'IAR_phi_2'),\n",
       " Text(0, 18, 'StetsonK_4'),\n",
       " Text(0, 19, 'Std_3')]"
      ]
     },
     "execution_count": 24,
     "metadata": {},
     "output_type": "execute_result"
    },
    {
     "data": {
      "image/png": "[encoded data removed]",
      "text/plain": [
       "<Figure size 720x720 with 1 Axes>"
      ]
     },
     "metadata": {
      "needs_background": "light"
     },
     "output_type": "display_data"
    }
   ],
   "source": [
    "# FATS computing: https://github.com/isadoranun/FATS/blob/master/FATS/FeatureFunctionLib.py\n",
    "\n",
    "# get the most important features\n",
    "featuresByImportance, importance = featuresNames[np.argsort(rf.feature_importances_)[::-1]], rf.feature_importances_[np.argsort(rf.feature_importances_)[::-1]]\n",
    "\n",
    "featuresToDisplay = 20\n",
    "\n",
    "fig, ax = plt.subplots(figsize = (10, 10), tight_layout = True)\n",
    "\n",
    "ax.set_title(f\"Top {featuresToDisplay} feature importances on Random Forest\")\n",
    "ax.barh(featuresByImportance[:featuresToDisplay], importance[:featuresToDisplay])\n",
    "# ax.set_xticklabels(rotation = (45), fontsize = 10, va='bottom', ha='left')\n",
    "ax.set_yticklabels(featuresByImportance[:featuresToDisplay],fontsize=10, rotation=45)"
   ]
  },
  {
   "cell_type": "markdown",
   "id": "welcome-album",
   "metadata": {},
   "source": [
    "# Get decomposition of predictions on correct RF and wrong OM"
   ]
  },
  {
   "cell_type": "code",
   "execution_count": 25,
   "id": "christian-timer",
   "metadata": {
    "scrolled": false
   },
   "outputs": [],
   "source": [
    "# # (node_indicator, _) = rf.decision_path(instances)\n",
    "\n",
    "# # node_indicator\n",
    "\n",
    "# # Extract single tree\n",
    "# estimator = rf.estimators_\n",
    "# estimatorIndex = 0\n",
    "# print(f\"number of trees: {len(estimator)}\")\n",
    "\n",
    "# from sklearn.tree import export_graphviz\n",
    "# # Export as dot file\n",
    "# export_graphviz(estimator[estimatorIndex], \n",
    "#                 out_file='tree' + str(estimatorIndex) + '.dot', \n",
    "#                 feature_names = featuresNames,\n",
    "#                 class_names = True,\n",
    "#                 rounded = True, \n",
    "#                 proportion = False, \n",
    "#                 precision = 2, \n",
    "#                 filled = True,\n",
    "#                 rotate = True,\n",
    "# )\n",
    "\n",
    "# # Convert to png\n",
    "# estimatorIndex = str(estimatorIndex)\n",
    "# from subprocess import call\n",
    "# call(['dot', '-Tpng', 'tree' + estimatorIndex + '.dot', '-o', 'tree'  + estimatorIndex + '.png', '-Gdpi=600'])\n",
    "\n",
    "# # Display in jupyter notebook\n",
    "# from IPython.display import Image\n",
    "# Image(filename = 'tree' + estimatorIndex + '.png')"
   ]
  },
  {
   "cell_type": "code",
   "execution_count": 26,
   "id": "political-diploma",
   "metadata": {},
   "outputs": [
    {
     "name": "stdout",
     "output_type": "stream",
     "text": [
      "label: 88.0\n",
      "RF prediction: 88\n",
      "65\n"
     ]
    }
   ],
   "source": [
    "# get data\n",
    "id_ = idsRFCorrectsAndOwnModelWrongs[1]\n",
    "\n",
    "index = np.where(ownModelResults[\"testIds\"]  == id_)[0][0]\n",
    "\n",
    "print(f\"label: {ownModelResults['testLabels'][index]}\")\n",
    "\n",
    "print(f\"RF prediction: {rFResults['testPredictions'][index]}\")\n",
    "\n",
    "with open(\"../random_forest/features/fats\"+ str(round(id_)) +\".pkl\", \"rb\") as f:\n",
    "    instances = load(f)\n",
    "\n",
    "#get predictions\n",
    "prediction, bias, contributions = ti.predict(rf, instances)\n",
    "\n",
    "# prediction = rf.predict(instances)\n",
    "\n",
    "only_these_labels = [16, 92, 53, 88, 65, 6]\n",
    "\n",
    "print(only_these_labels[np.argmax(prediction)])"
   ]
  },
  {
   "cell_type": "code",
   "execution_count": 27,
   "id": "breathing-strength",
   "metadata": {},
   "outputs": [
    {
     "name": "stdout",
     "output_type": "stream",
     "text": [
      "[[0.20052328 0.09406491 0.00284883 0.02324763 0.670528   0.00878735]]\n",
      "4\n"
     ]
    }
   ],
   "source": [
    "print(prediction)\n",
    "\n",
    "print(np.argmax(prediction))"
   ]
  },
  {
   "cell_type": "code",
   "execution_count": 28,
   "id": "driven-today",
   "metadata": {},
   "outputs": [
    {
     "name": "stdout",
     "output_type": "stream",
     "text": [
      "Instance 0\n",
      "Bias (trainset mean [0.42528458 0.038766   0.41640482 0.03871296 0.0401875  0.04064415]\n",
      "Feature contributions:\n",
      "CAR_sigma_0\n",
      "[ 0.02202084  0.0036858   0.0001812   0.00034596 -0.02595557 -0.00027823]\n",
      "CAR_mean_0\n",
      "[-2.67348631e-04  1.01918953e-04  0.00000000e+00 -5.55860618e-06\n",
      "  1.70654926e-04  3.33357206e-07]\n",
      "Meanvariance_0\n",
      "[-4.17421129e-03 -1.03545351e-05  0.00000000e+00  1.89822766e-05\n",
      "  4.17312361e-03 -7.54005460e-06]\n",
      "Mean_0\n",
      "[-3.70438904e-03 -1.50582651e-04 -4.16618930e-05  7.21714114e-04\n",
      "  3.19518483e-03 -2.02653618e-05]\n",
      "PercentAmplitude_0\n",
      "[-3.96998211e-04 -7.70999130e-04  0.00000000e+00 -7.70130538e-05\n",
      "  1.15165138e-03  9.33590102e-05]\n",
      "Skew_0\n",
      "[-2.12347339e-03 -1.66216834e-07  0.00000000e+00  0.00000000e+00\n",
      "  2.12363961e-03  0.00000000e+00]\n",
      "AndersonDarling_0\n",
      "[-3.57481356e-05 -2.71549092e-05  0.00000000e+00 -2.50676370e-05\n",
      "  8.43151800e-05  3.65550180e-06]\n",
      "Std_0\n",
      "[-1.97019867e-04  8.49920523e-06  2.38538543e-04  1.75946688e-04\n",
      "  1.48653205e-04 -3.74617775e-04]\n",
      "Rcs_0\n",
      "[-3.41673218e-03  1.24510379e-04 -1.88143299e-05 -1.46732352e-04\n",
      "  3.44809082e-03  9.67765734e-06]\n",
      "StetsonK_0\n",
      "[ 3.95606436e-06 -2.79001675e-05  0.00000000e+00  4.31267480e-07\n",
      "  4.07764137e-05 -1.72635780e-05]\n",
      "MedianAbsDev_0\n",
      "[-1.25868384e-03  8.47282732e-04  1.46217615e-05 -1.57556258e-04\n",
      "  7.31774021e-04 -1.77438414e-04]\n",
      "Q31_0\n",
      "[-8.17263822e-05 -6.17021052e-06  0.00000000e+00  1.92941158e-04\n",
      " -9.54291579e-05 -9.61540755e-06]\n",
      "Amplitude_0\n",
      "[-1.91646590e-03 -3.76735374e-05  0.00000000e+00 -1.17480593e-04\n",
      "  2.08316972e-03 -1.15496882e-05]\n",
      "PeriodLS_v2_0\n",
      "[-9.06296919e-05 -3.16597067e-04  0.00000000e+00 -2.28979812e-04\n",
      "  6.34728907e-04  1.47766376e-06]\n",
      "Harmonics_mag_1_0\n",
      "[0. 0. 0. 0. 0. 0.]\n",
      "Harmonics_mag_2_0\n",
      "[-2.54777187e-04  1.80271066e-06  0.00000000e+00  0.00000000e+00\n",
      "  2.52974476e-04  0.00000000e+00]\n",
      "Harmonics_mag_3_0\n",
      "[-1.79731788e-04  2.25154555e-04  0.00000000e+00 -6.14881998e-05\n",
      "  1.60654324e-05  0.00000000e+00]\n",
      "Harmonics_mag_4_0\n",
      "[-2.13216885e-04  1.26697754e-05  0.00000000e+00  4.16025248e-06\n",
      "  1.96386857e-04  0.00000000e+00]\n",
      "Harmonics_mag_5_0\n",
      "[ 6.54642226e-05  0.00000000e+00  0.00000000e+00  3.30834271e-07\n",
      " -6.57950568e-05  0.00000000e+00]\n",
      "Harmonics_mag_6_0\n",
      "[ 3.23207963e-04 -2.16749914e-05  0.00000000e+00 -3.29700831e-05\n",
      " -2.69143603e-04  5.80714857e-07]\n",
      "Harmonics_mag_7_0\n",
      "[ 7.20896183e-04 -2.85867530e-04  0.00000000e+00 -2.29870280e-04\n",
      " -2.08338221e-04  3.17984813e-06]\n",
      "Harmonics_phase_2_0\n",
      "[-1.09901796e-05  2.96415358e-06 -3.13298073e-05 -2.74608806e-05\n",
      "  6.68167140e-05  0.00000000e+00]\n",
      "Harmonics_phase_3_0\n",
      "[0. 0. 0. 0. 0. 0.]\n",
      "Harmonics_phase_4_0\n",
      "[ 1.13531963e-04 -7.83698522e-05 -4.14209180e-05 -2.07694008e-06\n",
      "  8.33574750e-06  0.00000000e+00]\n",
      "Harmonics_phase_5_0\n",
      "[ 0.          0.00068249  0.          0.         -0.00068249  0.        ]\n",
      "Harmonics_phase_6_0\n",
      "[ 8.96757255e-06  0.00000000e+00  0.00000000e+00  0.00000000e+00\n",
      " -8.96757255e-06  0.00000000e+00]\n",
      "Harmonics_phase_7_0\n",
      "[0. 0. 0. 0. 0. 0.]\n",
      "Harmonics_mse_0\n",
      "[0. 0. 0. 0. 0. 0.]\n",
      "Autocor_length_0\n",
      "[ 1.44432291e-03  3.44322844e-05  0.00000000e+00  2.67179163e-05\n",
      " -1.50572318e-03  2.50064268e-07]\n",
      "SlottedA_length_0\n",
      "[0. 0. 0. 0. 0. 0.]\n",
      "StetsonK_AC_0\n",
      "[ 0.00000000e+00 -1.95063448e-05  0.00000000e+00  0.00000000e+00\n",
      "  1.95063448e-05  0.00000000e+00]\n",
      "Con_0\n",
      "[0. 0. 0. 0. 0. 0.]\n",
      "Beyond1Std_0\n",
      "[-3.57039541e-04  3.93798456e-06  0.00000000e+00 -1.31063468e-05\n",
      "  3.66207903e-04  0.00000000e+00]\n",
      "SmallKurtosis_0\n",
      "[ 1.48551989e-04  3.51607361e-06  1.56511384e-04  1.86552288e-05\n",
      " -3.09009413e-04 -1.82252623e-05]\n",
      "MaxSlope_0\n",
      "[-3.11840365e-04 -2.20236341e-04 -2.68274581e-04 -2.41161123e-04\n",
      "  1.04354940e-03 -2.03699078e-06]\n",
      "MedianBRP_0\n",
      "[0. 0. 0. 0. 0. 0.]\n",
      "PairSlopeTrend_0\n",
      "[0. 0. 0. 0. 0. 0.]\n",
      "LinearTrend_0\n",
      "[ 4.27751130e-04  2.41614579e-06  0.00000000e+00 -2.27522892e-05\n",
      " -4.07414987e-04  0.00000000e+00]\n",
      "Eta_e_0\n",
      "[-1.75733434e-03  2.99038244e-04  0.00000000e+00  3.73764041e-04\n",
      "  1.09919734e-03 -1.46652854e-05]\n",
      "Period_fit_v2_0\n",
      "[-0.00290033  0.00019498  0.          0.00038356  0.00232178  0.        ]\n",
      "PeriodPowerRate_0\n",
      "[-7.04568662e-04  3.40767867e-05  0.00000000e+00  2.18270737e-05\n",
      "  6.51722028e-04 -3.05722597e-06]\n",
      "Psi_CS_v2_0\n",
      "[0. 0. 0. 0. 0. 0.]\n",
      "Psi_eta_v2_0\n",
      "[-4.98495962e-05  5.91148671e-05  0.00000000e+00 -1.36038515e-05\n",
      "  2.32690885e-06  2.01167170e-06]\n",
      "StructureFunction_index_21_0\n",
      "[ 9.14308839e-04  3.37058926e-06 -2.95330770e-05 -1.95769937e-05\n",
      " -8.68569358e-04  0.00000000e+00]\n",
      "Pvar_0\n",
      "[ 0.02786654  0.00386423  0.00023824  0.00023951 -0.03191155 -0.00029698]\n",
      "StructureFunction_index_31_0\n",
      "[-1.62002138e-05 -3.44328905e-05  0.00000000e+00 -7.66453091e-06\n",
      "  5.77230545e-05  5.74580694e-07]\n",
      "ExcessVar_0\n",
      "[-8.12672129e-03 -8.16049843e-05 -7.34230441e-05  6.95660643e-05\n",
      "  8.12748705e-03  8.46962069e-05]\n",
      "IAR_phi_0\n",
      "[-1.50853173e-04  2.81500400e-05  0.00000000e+00  2.08243906e-05\n",
      "  1.01878742e-04  0.00000000e+00]\n",
      "CAR_sigma_1\n",
      "[-1.61266613e-02 -2.01826664e-03 -3.45759920e-06 -2.51788084e-04\n",
      "  1.90136325e-02 -6.13458814e-04]\n",
      "CAR_mean_1\n",
      "[-3.60526849e-04  3.10439375e-04 -1.51839791e-04 -9.86411743e-04\n",
      "  1.15488289e-03  3.34561200e-05]\n",
      "Meanvariance_1\n",
      "[-1.77421833e-03  2.99278503e-04  3.23095066e-07 -5.49911880e-04\n",
      "  2.01966104e-03  4.86757346e-06]\n",
      "Mean_1\n",
      "[-1.17957918e-03  1.56947816e-04  0.00000000e+00  1.35433293e-04\n",
      "  8.86750326e-04  4.47744173e-07]\n",
      "PercentAmplitude_1\n",
      "[-8.87575190e-04  9.35057325e-04  0.00000000e+00 -5.25897922e-04\n",
      "  4.50658333e-04  2.77574544e-05]\n",
      "Skew_1\n",
      "[-3.37626931e-03 -2.20230944e-03  3.99961106e-06 -3.09459594e-04\n",
      "  4.72710764e-03  1.15693109e-03]\n",
      "AndersonDarling_1\n",
      "[-6.05170822e-04 -3.42388411e-04  0.00000000e+00 -1.10417887e-03\n",
      "  2.05647554e-03 -4.73743451e-06]\n",
      "Std_1\n",
      "[ 2.18708816e-03 -9.51119476e-04  0.00000000e+00 -3.28763629e-04\n",
      " -8.21047857e-04 -8.61571939e-05]\n",
      "Rcs_1\n",
      "[ 4.40908282e-03  7.92756559e-03 -3.02366749e-06  5.19535630e-03\n",
      " -1.78315253e-02  3.02544213e-04]\n",
      "StetsonK_1\n",
      "[-1.26371567e-03 -8.77252989e-05  0.00000000e+00 -3.20362097e-04\n",
      "  1.45258020e-03  2.19222860e-04]\n",
      "MedianAbsDev_1\n",
      "[-1.83923310e-03  2.93911540e-03 -1.89016950e-04 -5.91392465e-03\n",
      "  5.07923164e-03 -7.61723292e-05]\n",
      "Q31_1\n",
      "[ 0.00029593  0.0026586  -0.00232586 -0.00477962  0.00516819 -0.00101723]\n",
      "Amplitude_1\n",
      "[ 5.49779420e-04 -7.73129734e-04 -5.39695216e-04  9.05549758e-05\n",
      "  8.83214396e-04 -2.10723842e-04]\n",
      "PeriodLS_v2_1\n",
      "[ 0.00000000e+00  7.70597701e-05  0.00000000e+00  0.00000000e+00\n",
      "  8.04450760e-06 -8.51042777e-05]\n",
      "Harmonics_mag_1_1\n",
      "[-0.00159281 -0.00013889  0.          0.00021728  0.00151443  0.        ]\n",
      "Harmonics_mag_2_1\n",
      "[ 0.00000000e+00 -1.48281558e-04  0.00000000e+00 -9.88445583e-06\n",
      "  1.98235300e-04 -4.00692863e-05]\n",
      "Harmonics_mag_3_1\n",
      "[-2.86610117e-04 -3.32888449e-05  0.00000000e+00 -7.71468901e-05\n",
      "  3.92750352e-04  4.29549967e-06]\n",
      "Harmonics_mag_4_1\n",
      "[ 6.47452669e-04 -5.06796072e-06  0.00000000e+00 -1.02941732e-05\n",
      " -6.32090535e-04  0.00000000e+00]\n",
      "Harmonics_mag_5_1\n",
      "[-2.31348301e-04 -4.81826521e-05  0.00000000e+00  3.93890424e-05\n",
      "  2.38769083e-04  1.37282753e-06]\n",
      "Harmonics_mag_6_1\n",
      "[ 2.00140330e-04 -4.99447754e-05  0.00000000e+00 -3.04969634e-05\n",
      " -1.19698591e-04  0.00000000e+00]\n",
      "Harmonics_mag_7_1\n",
      "[-7.12978658e-04 -2.73110225e-05  0.00000000e+00 -4.14476459e-05\n",
      "  7.68357500e-04  1.33798263e-05]\n",
      "Harmonics_phase_2_1\n",
      "[0. 0. 0. 0. 0. 0.]\n",
      "Harmonics_phase_3_1\n",
      "[ 0.         -0.00029859  0.          0.          0.00029859  0.        ]\n",
      "Harmonics_phase_4_1\n",
      "[0. 0. 0. 0. 0. 0.]\n",
      "Harmonics_phase_5_1\n",
      "[0. 0. 0. 0. 0. 0.]\n",
      "Harmonics_phase_6_1\n",
      "[-1.60754317e-03  1.28422130e-04 -2.42156842e-05  4.72198017e-05\n",
      "  1.45611692e-03  0.00000000e+00]\n",
      "Harmonics_phase_7_1\n",
      "[-2.65577210e-03  4.03633043e-04  0.00000000e+00  3.16583382e-05\n",
      "  2.24851618e-03 -2.80354652e-05]\n",
      "Harmonics_mse_1\n",
      "[0. 0. 0. 0. 0. 0.]\n",
      "Autocor_length_1\n",
      "[ 4.29869251e-04  1.82702182e-03  1.38947168e-05  1.37383552e-03\n",
      " -3.70715048e-03  6.25291707e-05]\n",
      "SlottedA_length_1\n",
      "[-0.000457    0.00041202  0.         -0.00014214  0.00018712  0.        ]\n",
      "StetsonK_AC_1\n",
      "[-1.70670833e-03  4.86623979e-04  0.00000000e+00  1.14688609e-04\n",
      "  1.10329166e-03  2.10408111e-06]\n",
      "Con_1\n",
      "[0. 0. 0. 0. 0. 0.]\n",
      "Beyond1Std_1\n",
      "[-9.85760792e-04 -3.26314879e-04 -1.07911505e-05 -5.93278366e-04\n",
      "  1.90987333e-03  6.27185862e-06]\n",
      "SmallKurtosis_1\n",
      "[-7.87413098e-04 -3.58203904e-05  0.00000000e+00 -5.23098902e-04\n",
      "  1.32393545e-03  2.23969445e-05]\n",
      "MaxSlope_1\n",
      "[ 6.74836647e-04  5.39504743e-03  3.56023477e-05 -7.10192714e-04\n",
      " -5.79645170e-03  4.01157992e-04]\n",
      "MedianBRP_1\n",
      "[-4.31884523e-04 -2.18031856e-04  0.00000000e+00 -1.19195429e-03\n",
      "  1.83766597e-03  4.20470243e-06]\n",
      "PairSlopeTrend_1\n",
      "[0. 0. 0. 0. 0. 0.]\n",
      "LinearTrend_1\n",
      "[0. 0. 0. 0. 0. 0.]\n",
      "Eta_e_1\n",
      "[ 0.00439731  0.00026396  0.          0.00165234 -0.00646662  0.00015301]\n",
      "Period_fit_v2_1\n",
      "[-1.91918020e-04 -4.37749165e-05  0.00000000e+00 -8.70065372e-06\n",
      "  2.50956970e-04 -6.56338022e-06]\n",
      "PeriodPowerRate_1\n",
      "[0. 0. 0. 0. 0. 0.]\n",
      "Psi_CS_v2_1\n",
      "[-1.86083787e-03 -1.81143928e-04  0.00000000e+00  1.05083563e-05\n",
      "  2.03147344e-03  0.00000000e+00]\n",
      "Psi_eta_v2_1\n",
      "[-7.31243412e-05  1.88184172e-05  0.00000000e+00 -1.72930816e-05\n",
      "  9.25268069e-05 -2.09278014e-05]\n",
      "StructureFunction_index_21_1\n",
      "[ 6.82020732e-04 -3.04234843e-05  0.00000000e+00 -1.21325717e-05\n",
      " -6.42582243e-04  3.11756652e-06]\n",
      "Pvar_1\n",
      "[-3.63601831e-02  4.19422779e-03  4.91134012e-06 -1.75205374e-03\n",
      "  3.31381174e-02  7.74980229e-04]\n",
      "StructureFunction_index_31_1\n",
      "[ 2.38812829e-03 -9.90809718e-05  0.00000000e+00  9.70166521e-04\n",
      " -3.35418070e-03  9.49668622e-05]\n",
      "ExcessVar_1\n",
      "[-5.51025806e-03  2.10612152e-03  5.18889876e-05  5.01536138e-04\n",
      "  2.74357658e-03  1.07134841e-04]\n",
      "IAR_phi_1\n",
      "[ 1.63662536e-03  4.37393414e-03  5.81478237e-06  6.89205873e-04\n",
      " -7.38522459e-03  6.79644437e-04]\n",
      "CAR_sigma_2\n",
      "[-0.00391726 -0.01043905 -0.00037769 -0.00076638  0.01667377 -0.0011734 ]\n",
      "CAR_mean_2\n",
      "[-2.81394915e-03 -2.24036704e-04 -2.01259408e-06 -2.51603102e-04\n",
      "  3.20250854e-03  8.90930071e-05]\n",
      "Meanvariance_2\n",
      "[-1.90761786e-02  6.68067496e-03  4.89846183e-05 -1.54124114e-04\n",
      "  1.24650657e-02  3.55774478e-05]\n",
      "Mean_2\n",
      "[-7.37814524e-03  7.64676909e-04  1.16669313e-05  7.46505590e-04\n",
      "  4.94750814e-03  9.07787675e-04]\n",
      "PercentAmplitude_2\n",
      "[-6.90677623e-03  5.81205471e-04  4.10203845e-05 -5.32569157e-05\n",
      "  6.27779102e-03  6.00162759e-05]\n",
      "Skew_2\n",
      "[-0.00516521 -0.00361031 -0.00042384 -0.00315496  0.01199076  0.00036357]\n",
      "AndersonDarling_2\n",
      "[-2.31415040e-03 -5.74878399e-05 -4.36823547e-05 -4.53135109e-04\n",
      "  2.84367902e-03  2.47766792e-05]\n",
      "Std_2\n",
      "[ 0.00047728  0.00286441 -0.00068326 -0.0025208  -0.00084378  0.00070615]\n",
      "Rcs_2\n",
      "[-0.0032857  -0.01451256 -0.00045167 -0.01373533  0.03247405 -0.00048879]\n",
      "StetsonK_2\n",
      "[-1.69971426e-04 -5.62311196e-04 -1.59522561e-05 -1.98365084e-03\n",
      "  2.98866433e-03 -2.56778606e-04]\n",
      "MedianAbsDev_2\n",
      "[ 0.00444971  0.00254471 -0.0027814  -0.00548291  0.00171913 -0.00044924]\n",
      "Q31_2\n",
      "[ 0.00714863  0.00194221 -0.00289674 -0.00516645  0.00130988 -0.00233753]\n",
      "Amplitude_2\n",
      "[ 0.00452033 -0.00162995 -0.00266703  0.00049881  0.0005664  -0.00128856]\n",
      "PeriodLS_v2_2\n",
      "[-4.65845999e-04  1.98196921e-05  0.00000000e+00  1.68645214e-05\n",
      "  4.31509737e-04 -2.34795126e-06]\n",
      "Harmonics_mag_1_2\n",
      "[-4.14530106e-04  1.91764870e-04  0.00000000e+00  1.41403215e-04\n",
      "  8.13620200e-05  0.00000000e+00]\n",
      "Harmonics_mag_2_2\n",
      "[-1.44800342e-03 -2.05837731e-06  0.00000000e+00  0.00000000e+00\n",
      "  1.45006180e-03  0.00000000e+00]\n",
      "Harmonics_mag_3_2\n",
      "[-1.28117769e-03  6.39379360e-04 -1.92639588e-05 -1.18532099e-04\n",
      "  7.68330688e-04  1.12636949e-05]\n",
      "Harmonics_mag_4_2\n",
      "[-1.01666450e-03 -8.85581536e-06  0.00000000e+00 -7.98827085e-06\n",
      "  1.03132392e-03  2.18466322e-06]\n",
      "Harmonics_mag_5_2\n",
      "[-4.75946584e-04 -2.85100491e-05  0.00000000e+00 -6.25981163e-06\n",
      "  5.10716445e-04  0.00000000e+00]\n",
      "Harmonics_mag_6_2\n",
      "[-4.58478388e-04  1.61578035e-05 -2.47906294e-05  2.77189177e-05\n",
      "  4.38144028e-04  1.24826888e-06]\n",
      "Harmonics_mag_7_2\n",
      "[-1.51772660e-03  9.57839291e-05  0.00000000e+00 -3.26357159e-05\n",
      "  1.47394106e-03 -1.93626688e-05]\n",
      "Harmonics_phase_2_2\n",
      "[-1.58437691e-04 -1.58616634e-03  0.00000000e+00  4.75719948e-06\n",
      "  1.73984683e-03  0.00000000e+00]\n",
      "Harmonics_phase_3_2\n",
      "[ 0.00000000e+00 -9.20786593e-05  0.00000000e+00  0.00000000e+00\n",
      "  9.20786593e-05  0.00000000e+00]\n",
      "Harmonics_phase_4_2\n",
      "[0. 0. 0. 0. 0. 0.]\n",
      "Harmonics_phase_5_2\n",
      "[-4.08433755e-04  3.88663823e-05  0.00000000e+00  7.40641627e-06\n",
      "  3.61888266e-04  2.72690620e-07]\n",
      "Harmonics_phase_6_2\n",
      "[ 7.84274343e-05 -2.45625137e-05  0.00000000e+00  0.00000000e+00\n",
      " -4.01683173e-05 -1.36966032e-05]\n",
      "Harmonics_phase_7_2\n",
      "[-5.04450832e-04  5.50788231e-05  0.00000000e+00  3.40433421e-06\n",
      "  4.45967675e-04  0.00000000e+00]\n",
      "Harmonics_mse_2\n",
      "[ 1.20896643e-03  2.36254039e-04 -9.90914762e-05 -4.89427501e-04\n",
      " -7.47201757e-04 -1.09499732e-04]\n",
      "Autocor_length_2\n",
      "[-3.43612444e-03 -2.01273856e-02  9.11333162e-06 -1.54553249e-02\n",
      "  4.06937456e-02 -1.68402395e-03]\n",
      "SlottedA_length_2\n",
      "[ 9.86788977e-04  1.11362416e-04  0.00000000e+00  7.12887003e-05\n",
      " -1.19798117e-03  2.85410718e-05]\n",
      "StetsonK_AC_2\n",
      "[ 1.58162076e-03 -4.75562598e-04 -7.69158298e-05 -3.39587647e-04\n",
      " -7.10662866e-04  2.11081778e-05]\n",
      "Con_2\n",
      "[0. 0. 0. 0. 0. 0.]\n",
      "Beyond1Std_2\n",
      "[-1.49303927e-03 -1.00813412e-03 -1.87867401e-04 -1.77001760e-03\n",
      "  4.39278082e-03  6.62775646e-05]\n",
      "SmallKurtosis_2\n",
      "[-0.00167743 -0.00071902 -0.00025516 -0.00195638  0.00400579  0.0006022 ]\n",
      "MaxSlope_2\n",
      "[ 0.00023779  0.00951767  0.00263608 -0.00122582 -0.01319128  0.00202556]\n",
      "MedianBRP_2\n",
      "[-2.13140887e-03 -1.37570691e-03 -4.18870664e-04 -2.43716455e-03\n",
      "  6.30372548e-03  5.94255106e-05]\n",
      "PairSlopeTrend_2\n",
      "[0. 0. 0. 0. 0. 0.]\n",
      "LinearTrend_2\n",
      "[-0.00024731  0.00010021  0.          0.00014182 -0.00013538  0.00014067]\n",
      "Eta_e_2\n",
      "[-7.95998458e-04 -2.26421754e-03  3.37098852e-06 -6.04424343e-04\n",
      "  3.80528166e-03 -1.44012308e-04]\n",
      "Period_fit_v2_2\n",
      "[-1.75227531e-03  1.20517498e-05  0.00000000e+00  7.65335810e-05\n",
      "  1.67868249e-03 -1.49925089e-05]\n",
      "PeriodPowerRate_2\n",
      "[-2.53365195e-03  7.59802783e-04  1.01784611e-04  1.24370594e-04\n",
      "  1.48315328e-03  6.45406741e-05]\n",
      "Psi_CS_v2_2\n",
      "[-9.84395340e-04  8.71081500e-05  0.00000000e+00  1.30192107e-04\n",
      "  7.67095083e-04  0.00000000e+00]\n",
      "Psi_eta_v2_2\n",
      "[ 1.14236571e-04 -2.54287348e-04  0.00000000e+00 -2.42114016e-04\n",
      "  3.92788642e-04 -1.06238493e-05]\n",
      "StructureFunction_index_21_2\n",
      "[-2.05367075e-03 -7.89747956e-05  0.00000000e+00  9.98056653e-06\n",
      "  2.12266498e-03  0.00000000e+00]\n",
      "Pvar_2\n",
      "[-9.26559773e-03  1.67721825e-03  4.16958459e-05 -1.90576159e-03\n",
      "  9.30312061e-03  1.49324616e-04]\n",
      "StructureFunction_index_31_2\n",
      "[-2.65136827e-04 -4.58069307e-05 -1.40471811e-04 -2.36982606e-05\n",
      "  4.81032698e-04 -5.91886897e-06]\n",
      "ExcessVar_2\n",
      "[-8.33595546e-03  2.61286819e-03  3.76349036e-06 -4.11948978e-05\n",
      "  5.61166497e-03  1.48853709e-04]\n",
      "IAR_phi_2\n",
      "[ 0.00362297 -0.02090854  0.00166417 -0.0111691   0.03063813 -0.00384762]\n",
      "CAR_sigma_3\n",
      "[ 0.00236758 -0.00880722 -0.00118084 -0.0008982   0.00978704 -0.00126836]\n",
      "CAR_mean_3\n",
      "[-1.81953352e-03  8.49095972e-04  3.63906041e-04 -5.73957090e-04\n",
      "  1.18414291e-03 -3.65431254e-06]\n",
      "Meanvariance_3\n",
      "[-1.94688676e-02  1.07837956e-02  7.96990580e-05  8.47001752e-04\n",
      "  7.32159219e-03  4.36778925e-04]\n",
      "Mean_3\n",
      "[-6.23931076e-03  1.10597177e-03 -1.18468081e-04  3.21827162e-04\n",
      "  4.86029033e-03  6.96895872e-05]\n",
      "PercentAmplitude_3\n",
      "[-1.49150744e-02  1.92587486e-03 -6.76156838e-05  1.22995242e-03\n",
      "  1.16842397e-02  1.42623154e-04]\n",
      "Skew_3\n",
      "[-0.02030156  0.0063253  -0.00198981  0.00053883  0.01473239  0.00069486]\n",
      "AndersonDarling_3\n",
      "[-7.30548849e-03 -7.53990249e-04 -6.66636466e-05  1.48230013e-04\n",
      "  7.93228891e-03  4.56234672e-05]\n",
      "Std_3\n",
      "[ 0.01538086  0.00179391 -0.0164908   0.00167822 -0.00126281 -0.00109939]\n",
      "Rcs_3\n",
      "[ 5.12536409e-04 -6.03962409e-03  3.33146093e-05 -5.45642100e-03\n",
      "  1.13108941e-02 -3.60700060e-04]\n",
      "StetsonK_3\n",
      "[ 0.00298479  0.0004197  -0.00634449 -0.0001024   0.00399159 -0.00094919]\n",
      "MedianAbsDev_3\n",
      "[ 1.62471815e-02  1.49082867e-03 -1.79866545e-02  4.98409729e-05\n",
      "  1.88765587e-03 -1.68885251e-03]\n",
      "Q31_3\n",
      "[ 0.01518391  0.00546211 -0.01555919 -0.00026548 -0.00300116 -0.00182018]\n",
      "Amplitude_3\n",
      "[ 0.00915212  0.00121313 -0.00841225  0.00072059 -0.00199609 -0.0006775 ]\n",
      "PeriodLS_v2_3\n",
      "[ 3.29640096e-04  6.63534228e-05 -5.10646000e-04  5.94357955e-05\n",
      "  4.10184504e-05  1.41982361e-05]\n",
      "Harmonics_mag_1_3\n",
      "[-1.91206127e-03 -6.21669701e-06  0.00000000e+00  7.47862986e-04\n",
      "  1.17041498e-03  0.00000000e+00]\n",
      "Harmonics_mag_2_3\n",
      "[-1.81468617e-03 -5.70564641e-05 -5.11122439e-05  1.43231083e-05\n",
      "  1.91248603e-03 -3.95426250e-06]\n",
      "Harmonics_mag_3_3\n",
      "[-4.94370808e-04  5.36334277e-04 -2.49988328e-05 -5.00792977e-06\n",
      " -2.45209855e-05  1.25642786e-05]\n",
      "Harmonics_mag_4_3\n",
      "[0. 0. 0. 0. 0. 0.]\n",
      "Harmonics_mag_5_3\n",
      "[-2.43796916e-03  7.33996874e-05 -4.15882974e-05 -3.06294605e-04\n",
      "  2.70109745e-03  1.13549182e-05]\n",
      "Harmonics_mag_6_3\n",
      "[-2.29661400e-03 -4.37885116e-04 -2.02853978e-04  7.49903379e-04\n",
      "  2.26211186e-03 -7.46621455e-05]\n",
      "Harmonics_mag_7_3\n",
      "[ 9.69876665e-05  6.29186575e-05 -6.82117925e-04  1.29391148e-04\n",
      "  3.71178292e-04  2.16421604e-05]\n",
      "Harmonics_phase_2_3\n",
      "[-1.34334312e-03  5.92874281e-05  0.00000000e+00  6.39822871e-05\n",
      "  1.22656547e-03 -6.49206380e-06]\n",
      "Harmonics_phase_3_3\n",
      "[ 2.76766061e-05  0.00000000e+00  0.00000000e+00  0.00000000e+00\n",
      " -2.76766061e-05  0.00000000e+00]\n",
      "Harmonics_phase_4_3\n",
      "[-2.45981233e-04  1.11242564e-05  0.00000000e+00 -8.95939723e-04\n",
      "  1.12962217e-03  1.17453062e-06]\n",
      "Harmonics_phase_5_3\n",
      "[ 4.68906284e-05 -6.12011665e-06  0.00000000e+00  0.00000000e+00\n",
      " -4.07705118e-05  0.00000000e+00]\n",
      "Harmonics_phase_6_3\n",
      "[0. 0. 0. 0. 0. 0.]\n",
      "Harmonics_phase_7_3\n",
      "[-1.52683878e-04  1.41001019e-05  0.00000000e+00  1.47888108e-06\n",
      "  1.37104895e-04  0.00000000e+00]\n",
      "Harmonics_mse_3\n",
      "[ 0.00241198  0.00025689 -0.00402264  0.00034784  0.00120225 -0.00019633]\n",
      "Autocor_length_3\n",
      "[ 0.00117118 -0.00572261  0.00029381 -0.00411256  0.00887367 -0.00050348]\n",
      "SlottedA_length_3\n",
      "[ 8.64160106e-05 -1.89122306e-03  0.00000000e+00 -6.40235319e-05\n",
      "  1.86883059e-03  0.00000000e+00]\n",
      "StetsonK_AC_3\n",
      "[-1.72101001e-03 -6.97872399e-05 -2.30270847e-06 -3.15820164e-04\n",
      "  2.09774203e-03  1.11780885e-05]\n",
      "Con_3\n",
      "[0. 0. 0. 0. 0. 0.]\n",
      "Beyond1Std_3\n",
      "[-0.00631306 -0.00133891  0.00011477 -0.00012024  0.00626021  0.00139723]\n",
      "SmallKurtosis_3\n",
      "[-8.71291000e-03  3.99870287e-04  1.78146305e-05  4.53837124e-04\n",
      "  7.63707332e-03  2.04314643e-04]\n",
      "MaxSlope_3\n",
      "[ 0.00668884 -0.00220378 -0.00610029  0.00067629  0.00202264 -0.0010837 ]\n",
      "MedianBRP_3\n",
      "[-4.06356563e-03 -4.82740911e-04 -1.09034557e-04  1.49771480e-04\n",
      "  4.43016839e-03  7.54012265e-05]\n",
      "PairSlopeTrend_3\n",
      "[0. 0. 0. 0. 0. 0.]\n",
      "LinearTrend_3\n",
      "[-1.28561115e-03  1.73987208e-04  0.00000000e+00  2.80999334e-04\n",
      "  8.31941026e-04 -1.31642047e-06]\n",
      "Eta_e_3\n",
      "[ 0.00165048  0.0003833  -0.00413254  0.00057228  0.00075536  0.00077112]\n",
      "Period_fit_v2_3\n",
      "[0. 0. 0. 0. 0. 0.]\n",
      "PeriodPowerRate_3\n",
      "[0. 0. 0. 0. 0. 0.]\n",
      "Psi_CS_v2_3\n",
      "[-3.15774048e-04  5.21707036e-06  0.00000000e+00  0.00000000e+00\n",
      "  3.10556978e-04  0.00000000e+00]\n",
      "Psi_eta_v2_3\n",
      "[-2.40775190e-03  3.55331753e-04  0.00000000e+00  8.96717639e-05\n",
      "  1.95700717e-03  5.74120704e-06]\n",
      "StructureFunction_index_21_3\n",
      "[-1.43136979e-03 -1.77044429e-04  0.00000000e+00 -6.13238943e-05\n",
      "  1.78792811e-03 -1.18189997e-04]\n",
      "Pvar_3\n",
      "[-3.24726840e-03  1.50447964e-03  8.43561276e-06 -1.24718715e-03\n",
      "  2.77558935e-03  2.05950944e-04]\n",
      "StructureFunction_index_31_3\n",
      "[-3.19887229e-05 -4.02772838e-05  0.00000000e+00 -2.64427215e-06\n",
      "  7.88746816e-05 -3.96440273e-06]\n",
      "ExcessVar_3\n",
      "[-4.96876012e-03  1.84140061e-03 -3.20381470e-06 -1.91732681e-04\n",
      "  3.21978270e-03  1.02513307e-04]\n",
      "IAR_phi_3\n",
      "[ 0.00599108 -0.0121601   0.00304516 -0.00651583  0.01228908 -0.00264938]\n",
      "CAR_sigma_4\n",
      "[ 0.00119939 -0.0032701  -0.00081786  0.00018751  0.00331181 -0.00061074]\n",
      "CAR_mean_4\n",
      "[-3.49752750e-04 -8.11892504e-05 -3.14588364e-04  1.80090690e-05\n",
      "  6.73222252e-04  5.42990433e-05]\n",
      "Meanvariance_4\n",
      "[-0.03372558  0.01106693  0.00079528  0.00336664  0.0179319   0.00056483]\n",
      "Mean_4\n",
      "[-0.0087746   0.00193568 -0.00024512  0.00128595  0.00567961  0.00011849]\n",
      "PercentAmplitude_4\n",
      "[-1.25901312e-02  1.25115518e-03  4.32318579e-04  1.15394301e-03\n",
      "  9.66489647e-03  8.78179854e-05]\n",
      "Skew_4\n",
      "[-0.0388618   0.01050366 -0.00087986  0.00260936  0.02482664  0.00180201]\n",
      "AndersonDarling_4\n",
      "[-1.13414362e-02  9.23470311e-05 -5.55028492e-04  1.53268350e-03\n",
      "  1.00510152e-02  2.20418909e-04]\n",
      "Std_4\n",
      "[ 0.01684883  0.00243192 -0.01649297  0.00180469 -0.00344409 -0.00114838]\n",
      "Rcs_4\n",
      "[ 0.0051662  -0.00644144 -0.00111696 -0.00388863  0.006597   -0.00031618]\n",
      "StetsonK_4\n",
      "[ 0.00443568  0.00072989 -0.00805987  0.00068421  0.00308116 -0.00087107]\n",
      "MedianAbsDev_4\n",
      "[ 0.02182346  0.00151545 -0.02554554  0.00324171  0.00240263 -0.0034377 ]\n",
      "Q31_4\n",
      "[ 0.02532163  0.00311863 -0.02789052  0.00074283  0.00195495 -0.00324752]\n",
      "Amplitude_4\n",
      "[ 0.00769121  0.00291535 -0.01722644  0.00414483  0.00448817 -0.00201312]\n",
      "PeriodLS_v2_4\n",
      "[ 0.00082113  0.00029129 -0.00387072  0.00029266  0.0021968   0.00026885]\n",
      "Harmonics_mag_1_4\n",
      "[ 0.00277898  0.0010579  -0.00681903  0.00138564  0.00214381 -0.00054729]\n",
      "Harmonics_mag_2_4\n",
      "[ 0.00246335  0.00108166 -0.00597816  0.0012997   0.00125912 -0.00012567]\n",
      "Harmonics_mag_3_4\n",
      "[-7.17293385e-04  5.55336644e-05  1.52412518e-05 -7.58385763e-06\n",
      "  6.56886128e-04 -2.78380132e-06]\n",
      "Harmonics_mag_4_4\n",
      "[-5.23507031e-04  1.78353537e-03 -1.95056183e-03  6.93216630e-04\n",
      " -4.75450185e-05  4.48618748e-05]\n",
      "Harmonics_mag_5_4\n",
      "[ 1.28306689e-03  2.36942005e-04 -1.77264039e-03  3.86713879e-04\n",
      " -2.03470172e-04  6.93877822e-05]\n",
      "Harmonics_mag_6_4\n",
      "[ 2.32701603e-03 -5.91696780e-05  3.52682712e-06 -1.52290097e-04\n",
      " -2.11237178e-03 -6.71130177e-06]\n",
      "Harmonics_mag_7_4\n",
      "[ 5.30725586e-07 -6.17822871e-05 -6.19976496e-04 -1.19581695e-04\n",
      "  8.00122539e-04  6.87213380e-07]\n",
      "Harmonics_phase_2_4\n",
      "[-3.35859814e-04  2.52522706e-04  0.00000000e+00 -1.44314962e-05\n",
      "  2.26962842e-04 -1.29194238e-04]\n",
      "Harmonics_phase_3_4\n",
      "[ 2.66300250e-04 -3.82344112e-05  0.00000000e+00  0.00000000e+00\n",
      " -2.28065838e-04  0.00000000e+00]\n",
      "Harmonics_phase_4_4\n",
      "[-4.41170444e-04 -1.34956756e-07  0.00000000e+00  1.56760806e-05\n",
      "  4.19535796e-04  6.09352422e-06]\n",
      "Harmonics_phase_5_4\n",
      "[ 0.00000000e+00 -7.44571881e-05  0.00000000e+00  2.86876311e-06\n",
      "  7.15884250e-05  0.00000000e+00]\n",
      "Harmonics_phase_6_4\n",
      "[0. 0. 0. 0. 0. 0.]\n",
      "Harmonics_phase_7_4\n",
      "[-3.39868622e-04 -6.05693912e-06  1.21812813e-04  0.00000000e+00\n",
      "  3.45925561e-04 -1.21812813e-04]\n",
      "Harmonics_mse_4\n",
      "[ 0.00232142  0.0001049  -0.00365837  0.00088947  0.00047383 -0.00013124]\n",
      "Autocor_length_4\n",
      "[ 0.00484465 -0.00384664  0.00109578 -0.00286192  0.00154478 -0.00077664]\n",
      "SlottedA_length_4\n",
      "[-4.64868042e-04 -4.65675610e-04  0.00000000e+00  1.45786571e-05\n",
      "  9.15964995e-04  0.00000000e+00]\n",
      "StetsonK_AC_4\n",
      "[-1.29645418e-03 -2.41773485e-05  3.60267487e-05  7.32880745e-05\n",
      "  1.20653186e-03  4.78484336e-06]\n",
      "Con_4\n",
      "[0. 0. 0. 0. 0. 0.]\n",
      "Beyond1Std_4\n",
      "[-0.00903977  0.00028721  0.00015102  0.00065654  0.00767885  0.00026616]\n",
      "SmallKurtosis_4\n",
      "[-0.00786997 -0.00035739  0.00057335  0.00034852  0.00719493  0.00011055]\n",
      "MaxSlope_4\n",
      "[ 0.00666191  0.00011058 -0.00743043  0.00060062  0.00067084 -0.00061352]\n",
      "MedianBRP_4\n",
      "[-0.01463057  0.00069566  0.00046074  0.00058483  0.01250785  0.00038148]\n",
      "PairSlopeTrend_4\n",
      "[0. 0. 0. 0. 0. 0.]\n",
      "LinearTrend_4\n",
      "[ 3.63436964e-04  2.69324940e-04 -8.31988447e-04 -2.10494914e-05\n",
      "  2.37074156e-04 -1.67981224e-05]\n",
      "Eta_e_4\n",
      "[-0.00109548  0.00227575 -0.0102884   0.00308592  0.00456809  0.00145411]\n",
      "Period_fit_v2_4\n",
      "[-6.46374754e-04 -1.38911308e-04 -6.06328436e-05 -1.31369722e-04\n",
      "  9.30157940e-04  4.71306874e-05]\n",
      "PeriodPowerRate_4\n",
      "[0. 0. 0. 0. 0. 0.]\n",
      "Psi_CS_v2_4\n",
      "[-1.91047212e-03  4.80023681e-05  0.00000000e+00  1.38424094e-06\n",
      "  1.86108551e-03  0.00000000e+00]\n",
      "Psi_eta_v2_4\n",
      "[ 7.69675693e-04 -1.97190607e-06 -9.22728171e-04  1.54079566e-04\n",
      "  1.44609070e-04 -1.43664252e-04]\n",
      "StructureFunction_index_21_4\n",
      "[ 0.00000000e+00  0.00000000e+00  0.00000000e+00 -5.74836638e-05\n",
      "  5.74836638e-05  0.00000000e+00]\n",
      "Pvar_4\n",
      "[-0.0007859   0.00041815  0.00017051 -0.00115507  0.00118854  0.00016376]\n",
      "StructureFunction_index_31_4\n",
      "[-2.13516420e-04 -4.15235353e-05  0.00000000e+00  4.23597269e-06\n",
      "  2.50803982e-04  0.00000000e+00]\n",
      "ExcessVar_4\n",
      "[-1.72609822e-03  6.44413776e-04  0.00000000e+00  7.58576610e-04\n",
      "  3.08579838e-04  1.45279910e-05]\n",
      "IAR_phi_4\n",
      "[ 0.00341423 -0.00873573  0.00478814 -0.00483472  0.00761184 -0.00224375]\n",
      "CAR_sigma_5\n",
      "[ 5.52860060e-04  7.72775726e-05 -2.39492709e-03  6.50316108e-04\n",
      "  1.47423975e-03 -3.59766408e-04]\n",
      "CAR_mean_5\n",
      "[-2.92769587e-03  1.00669223e-03  1.75707526e-04  4.65446510e-04\n",
      "  1.28832726e-03 -8.47765196e-06]\n",
      "Meanvariance_5\n",
      "[-0.02075966  0.00631718  0.0005141   0.00223376  0.01136297  0.00033164]\n",
      "Mean_5\n",
      "[-0.00948942  0.002613   -0.00028076  0.00306988  0.00395681  0.00013048]\n",
      "PercentAmplitude_5\n",
      "[-0.00527471  0.00075359  0.          0.00154801  0.00282511  0.000148  ]\n",
      "Skew_5\n",
      "[-0.02302872  0.00724129  0.00185323  0.00312604  0.00980463  0.00100354]\n",
      "AndersonDarling_5\n",
      "[-0.01164429  0.00221933  0.00013159  0.0023669   0.00663448  0.00029199]\n",
      "Std_5\n",
      "[-0.0045272   0.00746706 -0.02423686  0.00706454  0.01533164 -0.00109919]\n",
      "Rcs_5\n",
      "[ 1.79254892e-03 -1.30799038e-03 -1.06826182e-05 -8.98774014e-05\n",
      " -1.98553748e-04 -1.85444777e-04]\n",
      "StetsonK_5\n",
      "[-0.0031793   0.00126953 -0.00678405  0.00238515  0.00654902 -0.00024035]\n",
      "MedianAbsDev_5\n",
      "[ 0.02785883  0.00212371 -0.03513004  0.0028182   0.00557948 -0.00325019]\n",
      "Q31_5\n",
      "[ 0.01808114  0.00427718 -0.02861947  0.00361875  0.00710522 -0.00446282]\n",
      "Amplitude_5\n",
      "[-0.00518833  0.00417046 -0.01402861  0.0062902   0.01014748 -0.00139119]\n",
      "PeriodLS_v2_5\n",
      "[ 0.00801871  0.00087512 -0.01247804  0.00098741  0.00186055  0.00073625]\n",
      "Harmonics_mag_1_5\n",
      "[ 4.77237039e-05  1.72443244e-03 -9.01381377e-03  2.21543399e-03\n",
      "  5.43185272e-03 -4.05629086e-04]\n",
      "Harmonics_mag_2_5\n",
      "[-2.63745558e-03  1.15353775e-03 -2.65797293e-03  1.50639645e-03\n",
      "  2.69927859e-03 -6.37842877e-05]\n",
      "Harmonics_mag_3_5\n",
      "[-0.0069579   0.00085524 -0.00139441  0.00184201  0.00577334 -0.00011827]\n",
      "Harmonics_mag_4_5\n",
      "[-4.05808188e-03  6.80955323e-04 -1.04825780e-03  1.03092515e-03\n",
      "  3.36021811e-03  3.42410954e-05]\n",
      "Harmonics_mag_5_5\n",
      "[-5.04449868e-03  1.06381485e-03 -1.11908519e-03  1.44107933e-03\n",
      "  3.57959529e-03  7.90943893e-05]\n",
      "Harmonics_mag_6_5\n",
      "[-4.00617646e-04  3.75374140e-04 -1.19324919e-03  4.62266839e-04\n",
      "  7.41796436e-04  1.44294200e-05]\n",
      "Harmonics_mag_7_5\n",
      "[-3.92205337e-03  9.22567808e-04 -1.13973139e-03  1.32090337e-03\n",
      "  2.79161604e-03  2.66975411e-05]\n",
      "Harmonics_phase_2_5\n",
      "[ 0.00055132  0.00017149  0.          0.         -0.00055132 -0.00017149]\n",
      "Harmonics_phase_3_5\n",
      "[0. 0. 0. 0. 0. 0.]\n",
      "Harmonics_phase_4_5\n",
      "[ 1.24309100e-04 -6.87389005e-05  0.00000000e+00 -1.62955523e-05\n",
      " -3.92746475e-05  0.00000000e+00]\n",
      "Harmonics_phase_5_5\n",
      "[ 4.87391819e-04  2.51294687e-06  0.00000000e+00  4.79184862e-06\n",
      " -4.94696614e-04  0.00000000e+00]\n",
      "Harmonics_phase_6_5\n",
      "[0. 0. 0. 0. 0. 0.]\n",
      "Harmonics_phase_7_5\n",
      "[ 1.05091092e-04 -1.51236128e-03  0.00000000e+00  4.90553463e-06\n",
      "  1.40236465e-03  0.00000000e+00]\n",
      "Harmonics_mse_5\n",
      "[ 5.38167967e-03  2.59038071e-04 -2.30054843e-03  1.91232780e-04\n",
      " -3.44163594e-03 -8.97661420e-05]\n",
      "Autocor_length_5\n",
      "[-0.00110716  0.00325754 -0.00988615  0.00327585  0.00237794  0.00208199]\n",
      "SlottedA_length_5\n",
      "[-1.97050658e-04  1.16137618e-04 -5.21680622e-04  6.37200804e-05\n",
      "  4.84387047e-04  5.44865345e-05]\n",
      "StetsonK_AC_5\n",
      "[-2.02300852e-03 -1.73153260e-04  0.00000000e+00 -5.10169702e-05\n",
      "  2.24717875e-03  0.00000000e+00]\n",
      "Con_5\n",
      "[0. 0. 0. 0. 0. 0.]\n",
      "Beyond1Std_5\n",
      "[-0.0034186   0.00049811  0.00101372  0.00059471  0.00119632  0.00011575]\n",
      "SmallKurtosis_5\n",
      "[-0.00405507  0.000287    0.00164172  0.00025778  0.00119924  0.00066933]\n",
      "MaxSlope_5\n",
      "[ 0.00446883  0.00034204 -0.00581973  0.00057925  0.00151627 -0.00108666]\n",
      "MedianBRP_5\n",
      "[-6.71198923e-03  1.20616754e-03  1.69051974e-03  1.05963843e-03\n",
      "  2.71971915e-03  3.59443716e-05]\n",
      "PairSlopeTrend_5\n",
      "[-1.24473467e-03  1.08879746e-04 -4.14347197e-05  1.70190726e-04\n",
      "  1.00520622e-03  1.89269731e-06]\n",
      "LinearTrend_5\n",
      "[-3.62469071e-03  5.78109598e-04  1.29849363e-05  1.51873477e-04\n",
      "  2.84779610e-03  3.39266009e-05]\n",
      "Eta_e_5\n",
      "[ 0.00507876  0.00337469 -0.02012553  0.00386416  0.00567842  0.00212949]\n",
      "Period_fit_v2_5\n",
      "[ 0.00808762  0.00074835 -0.00937123  0.00082171  0.00025633 -0.00054278]\n",
      "PeriodPowerRate_5\n",
      "[-1.69273307e-04  3.10918136e-04 -1.65990604e-04  5.42683882e-05\n",
      " -7.38266082e-05  4.39039954e-05]\n",
      "Psi_CS_v2_5\n",
      "[ 0.00000000e+00 -2.47660366e-05  0.00000000e+00  0.00000000e+00\n",
      "  2.47660366e-05  0.00000000e+00]\n",
      "Psi_eta_v2_5\n",
      "[ 0.00444108  0.00047989 -0.00633892  0.00059889  0.00127338 -0.00045432]\n",
      "StructureFunction_index_21_5\n",
      "[-7.54886997e-05  6.46310393e-06  1.43034551e-04 -1.15524725e-03\n",
      "  1.07161347e-03  9.62482777e-06]\n",
      "Pvar_5\n",
      "[-0.00374349  0.00148047 -0.00409808  0.00236167  0.00369261  0.00030683]\n",
      "StructureFunction_index_31_5\n",
      "[0. 0. 0. 0. 0. 0.]\n",
      "ExcessVar_5\n",
      "[ 2.50532144e-04 -5.70463424e-04  7.65396055e-05 -5.24323669e-04\n",
      "  7.84325544e-04 -1.66102014e-05]\n",
      "IAR_phi_5\n",
      "[ 0.00984327 -0.00640726  0.00404886 -0.00415657 -0.00173061 -0.00159769]\n",
      "--------------------\n"
     ]
    }
   ],
   "source": [
    "# get decomposition\n",
    "for i in range(len(instances)):\n",
    "    \n",
    "    print(\"Instance\", i)\n",
    "    print(\"Bias (trainset mean\", bias[i])\n",
    "    print(\"Feature contributions:\")\n",
    "#     for c, feature in sorted(zip(contributions[i], featuresNames), key=lambda x: -abs(x[0])):\n",
    "#         print(feature, round(c, 2))\n",
    "    for c, feature in zip(contributions[0], \n",
    "                             featuresNames):\n",
    "        print(feature)\n",
    "        print(c)\n",
    "        \n",
    "    print(\"-\"*20)"
   ]
  },
  {
   "cell_type": "code",
   "execution_count": 29,
   "id": "white-context",
   "metadata": {},
   "outputs": [],
   "source": [
    "# ti.predict?"
   ]
  },
  {
   "cell_type": "markdown",
   "id": "vital-shanghai",
   "metadata": {},
   "source": [
    "# Feature importance permutation analysis"
   ]
  },
  {
   "cell_type": "markdown",
   "id": "southeast-reflection",
   "metadata": {},
   "source": [
    "# by classes"
   ]
  },
  {
   "cell_type": "code",
   "execution_count": 29,
   "id": "distinct-award",
   "metadata": {},
   "outputs": [
    {
     "data": {
      "text/plain": [
       "(979,)"
      ]
     },
     "execution_count": 29,
     "metadata": {},
     "output_type": "execute_result"
    }
   ],
   "source": [
    "idsRFCorrectsAndOwnModelWrongs.shape"
   ]
  },
  {
   "cell_type": "code",
   "execution_count": 31,
   "id": "young-squad",
   "metadata": {},
   "outputs": [
    {
     "name": "stdout",
     "output_type": "stream",
     "text": [
      "(243, 288)\n",
      "(243,)\n",
      "(41, 288)\n",
      "(41,)\n",
      "(7, 288)\n",
      "(7,)\n",
      "(121, 288)\n",
      "(121,)\n",
      "(511, 288)\n",
      "(511,)\n",
      "(25, 288)\n",
      "(25,)\n"
     ]
    }
   ],
   "source": [
    "# get features\n",
    "features = {}\n",
    "labels = {}\n",
    "\n",
    "# get ids to analyze\n",
    "\n",
    "# get all classes\n",
    "classesToAnalyze = only_these_labels\n",
    "\n",
    "for classToAnalyze in classesToAnalyze:\n",
    "    \n",
    "    # 1) ids with RF correct and RF wrong\n",
    "    selectedIds = idsRFCorrectsAndOwnModelWrongs[labelsRFCorrectsAndOwnModelWrongs == classToAnalyze]\n",
    "    \n",
    "    tmp = []\n",
    "    \n",
    "    # get data\n",
    "    for lc_id in selectedIds:\n",
    "\n",
    "        with open(\"../random_forest/features/fats\"+str(int(lc_id))+\".pkl\", \"rb\") as f:\n",
    "            tmp.append(load(f))\n",
    "\n",
    "    tmp = np.array(tmp, dtype = \"float\").reshape(len(tmp),-1)\n",
    "    \n",
    "    # clean data\n",
    "    \n",
    "    # get rows without inf values\n",
    "    mask = ~(np.isinf(tmp).any(axis=1))\n",
    "\n",
    "    mask2 = ~(np.isnan(tmp).any(axis = 1))\n",
    "\n",
    "    # print(mask2.shape)\n",
    "    # print(mask.shape)\n",
    "\n",
    "    features_ = tmp[mask & mask2]\n",
    "    labels_ = labelsRFCorrectsAndOwnModelWrongs[labelsRFCorrectsAndOwnModelWrongs == classToAnalyze][mask & mask2]\n",
    "\n",
    "    print(features_.shape)\n",
    "    print(labels_.shape)\n",
    "\n",
    "\n",
    "    # transform list into array\n",
    "    features[classToAnalyze] = features_\n",
    "    labels[classToAnalyze] = labels_"
   ]
  },
  {
   "cell_type": "code",
   "execution_count": 62,
   "id": "metallic-renaissance",
   "metadata": {},
   "outputs": [
    {
     "name": "stdout",
     "output_type": "stream",
     "text": [
      "class: 65\n",
      "features: (511,)\n",
      "class: 16\n",
      "features: (243,)\n",
      "class: 88\n",
      "features: (121,)\n",
      "class: 92\n",
      "features: (41,)\n",
      "class: 6\n",
      "features: (25,)\n",
      "class: 53\n",
      "features: (7,)\n"
     ]
    }
   ],
   "source": [
    "# save permutation by class\n",
    "permutationImportancesClasses = {}\n",
    "\n",
    "for classToAnalyze in classesToAnalyze:\n",
    "    \n",
    "    print(f\"class: {classToAnalyze}\")\n",
    "    print(f\"features: {labels[classToAnalyze].shape}\")\n",
    "    \n",
    "    # get permutation importances\n",
    "    r = permutation_importance(\n",
    "                        rf, \n",
    "                        features[classToAnalyze], \n",
    "                        labels[classToAnalyze],\n",
    "                        n_repeats=10,\n",
    "                        random_state=0,\n",
    "                        n_jobs = 4,\n",
    "    )\n",
    "    \n",
    "    # save permutation by class\n",
    "    permutationImportancesClasses[classToAnalyze] = r"
   ]
  },
  {
   "cell_type": "code",
   "execution_count": 41,
   "id": "sticky-nothing",
   "metadata": {},
   "outputs": [],
   "source": [
    "# save permutations results\n",
    "# save object\n",
    "a_file = open(\"./importancePermutationTestByClass.pkl\", \"wb\")\n",
    "pickle.dump(permutationImportancesClasses, a_file)\n",
    "a_file.close()"
   ]
  },
  {
   "cell_type": "code",
   "execution_count": 61,
   "id": "refined-plaintiff",
   "metadata": {},
   "outputs": [
    {
     "data": {
      "image/png": "[encoded data removed]",
      "text/plain": [
       "<Figure size 720x1440 with 6 Axes>"
      ]
     },
     "metadata": {
      "needs_background": "light"
     },
     "output_type": "display_data"
    }
   ],
   "source": [
    "# do plot\n",
    "fig, ax = plt.subplots(len(classesToAnalyze), 1, figsize = (10, 20), tight_layout = True)\n",
    "\n",
    "maxIndex = 10\n",
    "\n",
    "classesToAnalyze = [65, 16, 88, 92, 6, 53]\n",
    "\n",
    "# each class\n",
    "for i, class_ in enumerate(classesToAnalyze):\n",
    "    \n",
    "    # get sorted feautres\n",
    "    idxFeatures = permutationImportancesClasses[class_].importances_mean.argsort()[::-1][:maxIndex]\n",
    "    \n",
    "#     print(idxFeatures.shape)\n",
    "#     print(permutationImportancesClasses[class_].importances_mean[idxFeatures])\n",
    "    \n",
    "    ax[i].set_title(f\"Feature permutation with class {class_}\")\n",
    "    ax[i].barh(\n",
    "        featuresNames[idxFeatures], \n",
    "        permutationImportancesClasses[class_].importances_mean[idxFeatures],\n",
    "    )\n",
    "#     # ax.set_xticklabels(rotation = (45), fontsize = 10, va='bottom', ha='left')\n",
    "#     ax[i].set_yticklabels(featuresNames[:maxIndex],fontsize=10, rotation=45)\n"
   ]
  },
  {
   "cell_type": "markdown",
   "id": "accomplished-founder",
   "metadata": {},
   "source": [
    "# full dataset"
   ]
  },
  {
   "cell_type": "code",
   "execution_count": 68,
   "id": "august-zealand",
   "metadata": {},
   "outputs": [
    {
     "name": "stdout",
     "output_type": "stream",
     "text": [
      "(948, 288)\n",
      "(948,)\n"
     ]
    }
   ],
   "source": [
    "# 1) ids with RF correct and RF wrong\n",
    "features_ = []\n",
    "\n",
    "# get data\n",
    "for lc_id in idsRFCorrectsAndOwnModelWrongs:\n",
    "\n",
    "    with open(\"../random_forest/features/fats\"+str(int(lc_id))+\".pkl\", \"rb\") as f:\n",
    "        features_.append(load(f))\n",
    "\n",
    "features_ = np.array(features_, dtype = \"float\").reshape(len(features_),-1)\n",
    "\n",
    "# print(features_.shape)\n",
    "\n",
    "# clean data\n",
    "\n",
    "# get rows without inf values\n",
    "mask = ~(np.isinf(features_).any(axis=1))\n",
    "\n",
    "mask2 = ~(np.isnan(features_).any(axis = 1))\n",
    "\n",
    "# print(mask2.shape)\n",
    "# print(mask.shape)\n",
    "\n",
    "features = features_[mask & mask2]\n",
    "labels = labelsRFCorrectsAndOwnModelWrongs[mask & mask2]\n",
    "\n",
    "print(features.shape)\n",
    "print(labels.shape)"
   ]
  },
  {
   "cell_type": "code",
   "execution_count": 69,
   "id": "instructional-franklin",
   "metadata": {},
   "outputs": [],
   "source": [
    " # get permutation importances\n",
    "r = permutation_importance(\n",
    "                    rf, \n",
    "                    features, \n",
    "                    labels,\n",
    "                    n_repeats=10,\n",
    "                    random_state=0,\n",
    "                    n_jobs = 4,\n",
    ")\n",
    "\n",
    "# save file\n",
    "a_file = open(\"./importancePermutationTestAllClasses.pkl\", \"wb\")\n",
    "pickle.dump(r, a_file)\n",
    "a_file.close()"
   ]
  },
  {
   "cell_type": "code",
   "execution_count": 70,
   "id": "geographic-capability",
   "metadata": {},
   "outputs": [
    {
     "data": {
      "text/plain": [
       "<BarContainer object of 10 artists>"
      ]
     },
     "execution_count": 70,
     "metadata": {},
     "output_type": "execute_result"
    },
    {
     "data": {
      "image/png": "[encoded data removed]",
      "text/plain": [
       "<Figure size 360x360 with 1 Axes>"
      ]
     },
     "metadata": {
      "needs_background": "light"
     },
     "output_type": "display_data"
    }
   ],
   "source": [
    "# do plot\n",
    "fig, ax = plt.subplots(figsize = (5, 5), tight_layout = True)\n",
    "\n",
    "maxIndex = 10\n",
    "\n",
    "# get sorted feautres\n",
    "idxFeatures = r.importances_mean.argsort()[::-1][:maxIndex]\n",
    "\n",
    "ax.set_title(f\"Feature permutation with all class\")\n",
    "ax.barh(\n",
    "    featuresNames[idxFeatures], \n",
    "    r.importances_mean[idxFeatures],\n",
    ")\n",
    "#     # ax.set_xticklabels(rotation = (45), fontsize = 10, va='bottom', ha='left')\n",
    "#     ax[i].set_yticklabels(featuresNames[:maxIndex],fontsize=10, rotation=45)\n"
   ]
  }
 ],
 "metadata": {
  "kernelspec": {
   "display_name": "Python 3",
   "language": "python",
   "name": "python3"
  },
  "language_info": {
   "codemirror_mode": {
    "name": "ipython",
    "version": 3
   },
   "file_extension": ".py",
   "mimetype": "text/x-python",
   "name": "python",
   "nbconvert_exporter": "python",
   "pygments_lexer": "ipython3",
   "version": "3.7.6"
  }
 },
 "nbformat": 4,
 "nbformat_minor": 5
}
