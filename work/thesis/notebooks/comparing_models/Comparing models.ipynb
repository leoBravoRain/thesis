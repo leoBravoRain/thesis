{
 "cells": [
  {
   "cell_type": "markdown",
   "id": "vocational-adventure",
   "metadata": {},
   "source": [
    "# Load libraries"
   ]
  },
  {
   "cell_type": "code",
   "execution_count": 25,
   "id": "increasing-transcription",
   "metadata": {},
   "outputs": [],
   "source": [
    "import pickle\n",
    "import numpy as np\n",
    "from sklearn.metrics import classification_report\n",
    "from sklearn.metrics import confusion_matrix\n",
    "import seaborn as sn\n",
    "import matplotlib.pyplot as plt\n",
    "from joblib import load\n",
    "from treeinterpreter import treeinterpreter as ti"
   ]
  },
  {
   "cell_type": "markdown",
   "id": "better-columbia",
   "metadata": {},
   "source": [
    "# Define general variables"
   ]
  },
  {
   "cell_type": "code",
   "execution_count": 2,
   "id": "maritime-alfred",
   "metadata": {},
   "outputs": [],
   "source": [
    "seed = 0"
   ]
  },
  {
   "cell_type": "markdown",
   "id": "aging-alliance",
   "metadata": {},
   "source": [
    "# Get own model predictions"
   ]
  },
  {
   "cell_type": "code",
   "execution_count": 3,
   "id": "imported-blond",
   "metadata": {},
   "outputs": [
    {
     "name": "stdout",
     "output_type": "stream",
     "text": [
      "dict_keys(['testIds', 'testLabels', 'testPredictions'])\n",
      "(6546,)\n"
     ]
    }
   ],
   "source": [
    "# load model\n",
    "a_file = open(\"../../experiments/comparingModels/seed\" + str(seed) + \"/ownModel/testOwnModelPredictions.pkl\", \"rb\")\n",
    "ownModelResults = pickle.load(a_file)\n",
    "print(ownModelResults.keys())\n",
    "print(ownModelResults[\"testIds\"].shape)"
   ]
  },
  {
   "cell_type": "markdown",
   "id": "consolidated-canada",
   "metadata": {},
   "source": [
    "# Get RF predictions"
   ]
  },
  {
   "cell_type": "code",
   "execution_count": 4,
   "id": "practical-therapist",
   "metadata": {},
   "outputs": [
    {
     "name": "stdout",
     "output_type": "stream",
     "text": [
      "dict_keys(['testIds', 'testLabels', 'testPredictions'])\n",
      "(6546,)\n"
     ]
    }
   ],
   "source": [
    "# load files\n",
    "a_file = open(\"../../experiments/comparingModels/seed\" + str(seed) + \"/RF/testPredictionsRF.pkl\", \"rb\")\n",
    "rFResults = pickle.load(a_file)\n",
    "print(rFResults.keys())\n",
    "print(rFResults[\"testIds\"].shape)"
   ]
  },
  {
   "cell_type": "markdown",
   "id": "several-mapping",
   "metadata": {},
   "source": [
    "# Test if test datasets are equals"
   ]
  },
  {
   "cell_type": "code",
   "execution_count": 5,
   "id": "exposed-disorder",
   "metadata": {},
   "outputs": [
    {
     "name": "stdout",
     "output_type": "stream",
     "text": [
      "test ok\n"
     ]
    }
   ],
   "source": [
    "assert np.array_equal(ownModelResults[\"testIds\"], rFResults[\"testIds\"])\n",
    "print(\"test ok\")"
   ]
  },
  {
   "cell_type": "code",
   "execution_count": 6,
   "id": "colonial-cursor",
   "metadata": {},
   "outputs": [
    {
     "name": "stdout",
     "output_type": "stream",
     "text": [
      "test ok\n"
     ]
    }
   ],
   "source": [
    "assert np.array_equal(ownModelResults[\"testLabels\"], rFResults[\"testLabels\"])\n",
    "print(\"test ok\")"
   ]
  },
  {
   "cell_type": "code",
   "execution_count": 7,
   "id": "blank-victim",
   "metadata": {},
   "outputs": [
    {
     "name": "stdout",
     "output_type": "stream",
     "text": [
      "test ok\n"
     ]
    }
   ],
   "source": [
    "assert not np.array_equal(ownModelResults[\"testPredictions\"], rFResults[\"testPredictions\"])\n",
    "print(\"test ok\")"
   ]
  },
  {
   "cell_type": "markdown",
   "id": "undefined-marsh",
   "metadata": {},
   "source": [
    "# Analysis"
   ]
  },
  {
   "cell_type": "markdown",
   "id": "weighted-animation",
   "metadata": {},
   "source": [
    "# get confusion matrix"
   ]
  },
  {
   "cell_type": "code",
   "execution_count": 8,
   "id": "located-benchmark",
   "metadata": {},
   "outputs": [],
   "source": [
    "# [\"true\", \"pred\", \"all\", None]\n",
    "normalize = None"
   ]
  },
  {
   "cell_type": "code",
   "execution_count": 9,
   "id": "photographic-valuable",
   "metadata": {},
   "outputs": [
    {
     "name": "stdout",
     "output_type": "stream",
     "text": [
      "RF model\n",
      "class 0: [137   0   0   5   3   0]\n"
     ]
    },
    {
     "data": {
      "text/plain": [
       "<AxesSubplot:>"
      ]
     },
     "execution_count": 9,
     "metadata": {},
     "output_type": "execute_result"
    },
    {
     "data": {
      "image/png": "[encoded data removed]",
      "text/plain": [
       "<Figure size 432x288 with 2 Axes>"
      ]
     },
     "metadata": {
      "needs_background": "light"
     },
     "output_type": "display_data"
    }
   ],
   "source": [
    "print(\"RF model\")\n",
    "\n",
    "# get confussion matrix\n",
    "# C_ij such that  is equal to the number of observations known to be in group i and predicted to be in group j\n",
    "rFResultsCM = confusion_matrix(\n",
    "    rFResults[\"testLabels\"], \n",
    "    rFResults[\"testPredictions\"], \n",
    "    normalize = normalize\n",
    ")\n",
    "\n",
    "print(f\"class 0: {rFResultsCM[0, :]}\")\n",
    "\n",
    "# plot\n",
    "sn.heatmap(rFResultsCM, annot=True)"
   ]
  },
  {
   "cell_type": "code",
   "execution_count": 10,
   "id": "planned-jaguar",
   "metadata": {},
   "outputs": [
    {
     "name": "stdout",
     "output_type": "stream",
     "text": [
      "Own model\n",
      "class 0: [113   6   0  13  10   3]\n"
     ]
    },
    {
     "data": {
      "text/plain": [
       "<AxesSubplot:>"
      ]
     },
     "execution_count": 10,
     "metadata": {},
     "output_type": "execute_result"
    },
    {
     "data": {
      "image/png": "[encoded data removed]",
      "text/plain": [
       "<Figure size 432x288 with 2 Axes>"
      ]
     },
     "metadata": {
      "needs_background": "light"
     },
     "output_type": "display_data"
    }
   ],
   "source": [
    "print(\"Own model\")\n",
    "\n",
    "# get confussion matrix\n",
    "# C_ij such that  is equal to the number of observations known to be in group i and predicted to be in group j\n",
    "ownModelCM = confusion_matrix(ownModelResults[\"testLabels\"], ownModelResults[\"testPredictions\"], normalize = normalize)\n",
    "\n",
    "print(f\"class 0: {ownModelCM[0, :]}\")\n",
    "\n",
    "# plot\n",
    "sn.heatmap(ownModelCM, annot=True)"
   ]
  },
  {
   "cell_type": "markdown",
   "id": "recovered-ethiopia",
   "metadata": {},
   "source": [
    "# Get classification report"
   ]
  },
  {
   "cell_type": "code",
   "execution_count": 11,
   "id": "fifteen-strike",
   "metadata": {},
   "outputs": [
    {
     "name": "stdout",
     "output_type": "stream",
     "text": [
      "RF model\n",
      "              precision    recall  f1-score   support\n",
      "\n",
      "         6.0       0.50      0.94      0.66       145\n",
      "        16.0       0.96      0.94      0.95      1593\n",
      "        53.0       1.00      0.99      1.00       149\n",
      "        65.0       0.94      0.93      0.94      1598\n",
      "        88.0       0.99      0.96      0.97      1537\n",
      "        92.0       0.98      0.96      0.97      1524\n",
      "\n",
      "    accuracy                           0.95      6546\n",
      "   macro avg       0.90      0.95      0.91      6546\n",
      "weighted avg       0.96      0.95      0.95      6546\n",
      "\n"
     ]
    }
   ],
   "source": [
    "print(\"RF model\")\n",
    "print(classification_report(rFResults[\"testLabels\"], rFResults[\"testPredictions\"]))"
   ]
  },
  {
   "cell_type": "code",
   "execution_count": 12,
   "id": "reliable-ending",
   "metadata": {},
   "outputs": [
    {
     "name": "stdout",
     "output_type": "stream",
     "text": [
      "own model\n",
      "              precision    recall  f1-score   support\n",
      "\n",
      "         6.0       0.34      0.78      0.48       145\n",
      "        16.0       0.90      0.80      0.85      1593\n",
      "        53.0       0.93      0.95      0.94       149\n",
      "        65.0       0.92      0.65      0.76      1598\n",
      "        88.0       0.69      0.91      0.78      1537\n",
      "        92.0       0.96      0.94      0.95      1524\n",
      "\n",
      "    accuracy                           0.82      6546\n",
      "   macro avg       0.79      0.84      0.79      6546\n",
      "weighted avg       0.86      0.82      0.83      6546\n",
      "\n"
     ]
    }
   ],
   "source": [
    "print(\"own model\")\n",
    "print(classification_report(ownModelResults[\"testLabels\"], ownModelResults[\"testPredictions\"]))"
   ]
  },
  {
   "cell_type": "markdown",
   "id": "spread-metropolitan",
   "metadata": {},
   "source": []
  },
  {
   "cell_type": "markdown",
   "id": "established-lindsay",
   "metadata": {},
   "source": [
    "# Get how many correct and wrong classifications are done by each model?\n",
    "Add this to the paper"
   ]
  },
  {
   "cell_type": "code",
   "execution_count": 13,
   "id": "fixed-quick",
   "metadata": {},
   "outputs": [],
   "source": [
    "\n",
    "# save correct classifications by each model \n",
    "# shape: (classes, models (2: own and RF))\n",
    "correctClassifications = np.zeros(shape  = (6, 2))\n",
    "\n",
    "wrongClassifications = np.zeros(shape = (6,2))\n",
    "\n",
    "# iterate by each class\n",
    "for i in np.arange(6):\n",
    "    \n",
    "    # RF\n",
    "    correctClassifications[i][0] = rFResultsCM[i][i] / np.sum(rFResultsCM[i])\n",
    "    wrongClassifications[i][0] = np.sum(rFResultsCM[i][np.delete(np.arange(6), i)]) / np.sum(rFResultsCM[i])\n",
    "    \n",
    "    # own model\n",
    "    correctClassifications[i][1] = ownModelCM[i][i] / np.sum(ownModelCM[i])\n",
    "    wrongClassifications[i][1] = np.sum(ownModelCM[i][np.delete(np.arange(6), i)]) / np.sum(ownModelCM[i])"
   ]
  },
  {
   "cell_type": "code",
   "execution_count": 14,
   "id": "hourly-writer",
   "metadata": {},
   "outputs": [
    {
     "name": "stdout",
     "output_type": "stream",
     "text": [
      "Correct classifications. 0: RF\n"
     ]
    },
    {
     "data": {
      "text/plain": [
       "array([[0.94482759, 0.77931034],\n",
       "       [0.94161959, 0.79849341],\n",
       "       [0.99328859, 0.94630872],\n",
       "       [0.93178974, 0.64768461],\n",
       "       [0.95705921, 0.90696161],\n",
       "       [0.96062992, 0.94291339]])"
      ]
     },
     "execution_count": 14,
     "metadata": {},
     "output_type": "execute_result"
    }
   ],
   "source": [
    "print(\"Correct classifications. 0: RF\")\n",
    "correctClassifications"
   ]
  },
  {
   "cell_type": "markdown",
   "id": "embedded-thomas",
   "metadata": {},
   "source": [
    "In all classes, RF is better"
   ]
  },
  {
   "cell_type": "code",
   "execution_count": 15,
   "id": "talented-consumer",
   "metadata": {},
   "outputs": [
    {
     "name": "stdout",
     "output_type": "stream",
     "text": [
      "Wrong classifications. 0: RF\n"
     ]
    },
    {
     "data": {
      "text/plain": [
       "array([[0.05517241, 0.22068966],\n",
       "       [0.05838041, 0.20150659],\n",
       "       [0.00671141, 0.05369128],\n",
       "       [0.06821026, 0.35231539],\n",
       "       [0.04294079, 0.09303839],\n",
       "       [0.03937008, 0.05708661]])"
      ]
     },
     "execution_count": 15,
     "metadata": {},
     "output_type": "execute_result"
    }
   ],
   "source": [
    "print(\"Wrong classifications. 0: RF\")\n",
    "wrongClassifications"
   ]
  },
  {
   "cell_type": "markdown",
   "id": "animal-ebony",
   "metadata": {},
   "source": [
    "In all classes, RF is better"
   ]
  },
  {
   "cell_type": "markdown",
   "id": "other-token",
   "metadata": {},
   "source": [
    "Based on resutls, RF is better in all classes. There is no one class our model is better, so the models are not complementaries. Our model does not add more value to the classification."
   ]
  },
  {
   "cell_type": "markdown",
   "id": "posted-conspiracy",
   "metadata": {},
   "source": [
    "# Get examples wrongly classified by own model but correctly by RF"
   ]
  },
  {
   "cell_type": "code",
   "execution_count": 16,
   "id": "fuzzy-subdivision",
   "metadata": {},
   "outputs": [],
   "source": [
    "# get RF samples who predictions are equals to labels\n",
    "maskRFCorrects = (rFResults[\"testPredictions\"] == ownModelResults[\"testLabels\"])\n",
    "\n",
    "# get OM samples who predictions are not equals to labels\n",
    "maskOwnModelWrong = (ownModelResults[\"testPredictions\"] != ownModelResults[\"testLabels\"])\n",
    "\n",
    "# get ids that 1)RF are corrects 2) ON are wrong\n",
    "finalMask = (maskRFCorrects & maskOwnModelWrong)\n",
    "\n",
    "# get ids samples\n",
    "idsRFCorrectsAndOwnModelWrongs = ownModelResults[\"testIds\"][finalMask]\n",
    "labelsRFCorrectsAndOwnModelWrongs = ownModelResults[\"testLabels\"][finalMask]\n",
    "\n",
    "# # build object\n",
    "# samplesRFCorrectsAndOwnModelWrongs = {\n",
    "#     \"ids\": idsRFCorrectsAndOwnModelWrongs,\n",
    "#     \"labels\": ownModelResults[\"testLabels\"][finalMask]\n",
    "# }"
   ]
  },
  {
   "cell_type": "code",
   "execution_count": 17,
   "id": "classical-piano",
   "metadata": {},
   "outputs": [
    {
     "data": {
      "text/plain": [
       "(979,)"
      ]
     },
     "execution_count": 17,
     "metadata": {},
     "output_type": "execute_result"
    }
   ],
   "source": [
    "idsRFCorrectsAndOwnModelWrongs.shape"
   ]
  },
  {
   "cell_type": "code",
   "execution_count": 18,
   "id": "veterinary-headline",
   "metadata": {},
   "outputs": [],
   "source": [
    "# test if RF is correct classified and Own model is wrong\n",
    "for i in idsRFCorrectsAndOwnModelWrongs:\n",
    "    \n",
    "    index = np.where(ownModelResults[\"testIds\"]  == i)[0][0]\n",
    "    \n",
    "    # test\n",
    "    # 1) if RF is classifiying correctly\n",
    "    # 2) if Own model is classifiying wrongly\n",
    "    assert ownModelResults[\"testLabels\"][index] == rFResults[\"testPredictions\"][index] and ownModelResults[\"testLabels\"][index] != ownModelResults[\"testPredictions\"][index]"
   ]
  },
  {
   "cell_type": "code",
   "execution_count": 19,
   "id": "charitable-citation",
   "metadata": {},
   "outputs": [
    {
     "data": {
      "text/plain": [
       "(array([ 6., 16., 53., 65., 88., 92.]), array([ 26, 254,   7, 520, 127,  45]))"
      ]
     },
     "execution_count": 19,
     "metadata": {},
     "output_type": "execute_result"
    }
   ],
   "source": [
    "np.unique(labelsRFCorrectsAndOwnModelWrongs, return_counts = True)"
   ]
  },
  {
   "cell_type": "code",
   "execution_count": 20,
   "id": "sitting-template",
   "metadata": {},
   "outputs": [
    {
     "data": {
      "text/plain": [
       "<BarContainer object of 6 artists>"
      ]
     },
     "execution_count": 20,
     "metadata": {},
     "output_type": "execute_result"
    },
    {
     "data": {
      "image/png": "[encoded data removed]",
      "text/plain": [
       "<Figure size 432x288 with 1 Axes>"
      ]
     },
     "metadata": {
      "needs_background": "light"
     },
     "output_type": "display_data"
    }
   ],
   "source": [
    "# analyze labels distributions\n",
    "fig, ax = plt.subplots()\n",
    "\n",
    "classes, countClasses = np.unique(labelsRFCorrectsAndOwnModelWrongs, return_counts = True)\n",
    "\n",
    "countClasses = countClasses / np.sum(countClasses)\n",
    "\n",
    "classes = list(map(str, classes))\n",
    "\n",
    "ax.bar(\n",
    "    classes, \n",
    "    countClasses,\n",
    "#     width = 10,\n",
    ")"
   ]
  },
  {
   "cell_type": "markdown",
   "id": "elect-japan",
   "metadata": {},
   "source": [
    "# Get features RF uses to classify them"
   ]
  },
  {
   "cell_type": "code",
   "execution_count": 81,
   "id": "frequent-software",
   "metadata": {},
   "outputs": [],
   "source": [
    "# get RF model\n",
    "# # load file\n",
    "rf = load('../../experiments/comparingModels/seed' + str(seed) + '/RF/trainedRF.joblib') "
   ]
  },
  {
   "cell_type": "code",
   "execution_count": 22,
   "id": "prime-pressure",
   "metadata": {},
   "outputs": [],
   "source": [
    "# loading features names\n",
    "seed = 0\n",
    "with open(f\"../random_forest/ids/seed{seed}/maxClass15k/dataset_ids_before_balancing.pkl\", \"rb\") as f:\n",
    "    lc_ids = pickle.load(f)\n",
    "\n",
    "with open(\"../random_forest/features/fats\"+str(int(lc_ids[\"train\"][0]))+\".pkl\", \"rb\") as f:\n",
    "    tmp = load(f)\n",
    "    \n",
    "    # get features names\n",
    "    featuresNames = tmp.columns.values"
   ]
  },
  {
   "cell_type": "code",
   "execution_count": 23,
   "id": "concerned-vertical",
   "metadata": {},
   "outputs": [
    {
     "data": {
      "text/plain": [
       "<BarContainer object of 20 artists>"
      ]
     },
     "execution_count": 23,
     "metadata": {},
     "output_type": "execute_result"
    },
    {
     "data": {
      "image/png": "[encoded data removed]",
      "text/plain": [
       "<Figure size 720x360 with 1 Axes>"
      ]
     },
     "metadata": {
      "needs_background": "light"
     },
     "output_type": "display_data"
    }
   ],
   "source": [
    "# FATS computing: https://github.com/isadoranun/FATS/blob/master/FATS/FeatureFunctionLib.py\n",
    "\n",
    "# get the most important features\n",
    "featuresByImportance, importance = featuresNames[np.argsort(rf.feature_importances_)[::-1]], rf.feature_importances_[np.argsort(rf.feature_importances_)[::-1]]\n",
    "\n",
    "featuresToDisplay = 20\n",
    "\n",
    "fig, ax = plt.subplots(figsize = (10, 5))\n",
    "\n",
    "ax.set_title(f\"Top {featuresToDisplay} feature importances on Random Forest\")\n",
    "ax.barh(featuresByImportance[:featuresToDisplay], importance[:featuresToDisplay])"
   ]
  },
  {
   "cell_type": "markdown",
   "id": "welcome-album",
   "metadata": {},
   "source": [
    "# Get decomposition of predictions on correct RF and wrong OM"
   ]
  },
  {
   "cell_type": "code",
   "execution_count": 124,
   "id": "christian-timer",
   "metadata": {},
   "outputs": [
    {
     "ename": "FileNotFoundError",
     "evalue": "[Errno 2] No such file or directory: 'dot': 'dot'",
     "output_type": "error",
     "traceback": [
      "\u001b[0;31m---------------------------------------------------------------------------\u001b[0m",
      "\u001b[0;31mFileNotFoundError\u001b[0m                         Traceback (most recent call last)",
      "\u001b[0;32m<ipython-input-124-97dfaa625cf1>\u001b[0m in \u001b[0;36m<module>\u001b[0;34m\u001b[0m\n\u001b[1;32m     19\u001b[0m \u001b[0;31m# Convert to png\u001b[0m\u001b[0;34m\u001b[0m\u001b[0;34m\u001b[0m\u001b[0;34m\u001b[0m\u001b[0m\n\u001b[1;32m     20\u001b[0m \u001b[0;32mfrom\u001b[0m \u001b[0msubprocess\u001b[0m \u001b[0;32mimport\u001b[0m \u001b[0mcall\u001b[0m\u001b[0;34m\u001b[0m\u001b[0;34m\u001b[0m\u001b[0m\n\u001b[0;32m---> 21\u001b[0;31m \u001b[0mcall\u001b[0m\u001b[0;34m(\u001b[0m\u001b[0;34m[\u001b[0m\u001b[0;34m'dot'\u001b[0m\u001b[0;34m,\u001b[0m \u001b[0;34m'-Tpng'\u001b[0m\u001b[0;34m,\u001b[0m \u001b[0;34m'tree.dot'\u001b[0m\u001b[0;34m,\u001b[0m \u001b[0;34m'-o'\u001b[0m\u001b[0;34m,\u001b[0m \u001b[0;34m'tree.png'\u001b[0m\u001b[0;34m,\u001b[0m \u001b[0;34m'-Gdpi=600'\u001b[0m\u001b[0;34m]\u001b[0m\u001b[0;34m)\u001b[0m\u001b[0;34m\u001b[0m\u001b[0;34m\u001b[0m\u001b[0m\n\u001b[0m\u001b[1;32m     22\u001b[0m \u001b[0;34m\u001b[0m\u001b[0m\n\u001b[1;32m     23\u001b[0m \u001b[0;31m# Display in jupyter notebook\u001b[0m\u001b[0;34m\u001b[0m\u001b[0;34m\u001b[0m\u001b[0;34m\u001b[0m\u001b[0m\n",
      "\u001b[0;32m~/anaconda3/lib/python3.7/subprocess.py\u001b[0m in \u001b[0;36mcall\u001b[0;34m(timeout, *popenargs, **kwargs)\u001b[0m\n\u001b[1;32m    337\u001b[0m     \u001b[0mretcode\u001b[0m \u001b[0;34m=\u001b[0m \u001b[0mcall\u001b[0m\u001b[0;34m(\u001b[0m\u001b[0;34m[\u001b[0m\u001b[0;34m\"ls\"\u001b[0m\u001b[0;34m,\u001b[0m \u001b[0;34m\"-l\"\u001b[0m\u001b[0;34m]\u001b[0m\u001b[0;34m)\u001b[0m\u001b[0;34m\u001b[0m\u001b[0;34m\u001b[0m\u001b[0m\n\u001b[1;32m    338\u001b[0m     \"\"\"\n\u001b[0;32m--> 339\u001b[0;31m     \u001b[0;32mwith\u001b[0m \u001b[0mPopen\u001b[0m\u001b[0;34m(\u001b[0m\u001b[0;34m*\u001b[0m\u001b[0mpopenargs\u001b[0m\u001b[0;34m,\u001b[0m \u001b[0;34m**\u001b[0m\u001b[0mkwargs\u001b[0m\u001b[0;34m)\u001b[0m \u001b[0;32mas\u001b[0m \u001b[0mp\u001b[0m\u001b[0;34m:\u001b[0m\u001b[0;34m\u001b[0m\u001b[0;34m\u001b[0m\u001b[0m\n\u001b[0m\u001b[1;32m    340\u001b[0m         \u001b[0;32mtry\u001b[0m\u001b[0;34m:\u001b[0m\u001b[0;34m\u001b[0m\u001b[0;34m\u001b[0m\u001b[0m\n\u001b[1;32m    341\u001b[0m             \u001b[0;32mreturn\u001b[0m \u001b[0mp\u001b[0m\u001b[0;34m.\u001b[0m\u001b[0mwait\u001b[0m\u001b[0;34m(\u001b[0m\u001b[0mtimeout\u001b[0m\u001b[0;34m=\u001b[0m\u001b[0mtimeout\u001b[0m\u001b[0;34m)\u001b[0m\u001b[0;34m\u001b[0m\u001b[0;34m\u001b[0m\u001b[0m\n",
      "\u001b[0;32m~/anaconda3/lib/python3.7/subprocess.py\u001b[0m in \u001b[0;36m__init__\u001b[0;34m(self, args, bufsize, executable, stdin, stdout, stderr, preexec_fn, close_fds, shell, cwd, env, universal_newlines, startupinfo, creationflags, restore_signals, start_new_session, pass_fds, encoding, errors, text)\u001b[0m\n\u001b[1;32m    798\u001b[0m                                 \u001b[0mc2pread\u001b[0m\u001b[0;34m,\u001b[0m \u001b[0mc2pwrite\u001b[0m\u001b[0;34m,\u001b[0m\u001b[0;34m\u001b[0m\u001b[0;34m\u001b[0m\u001b[0m\n\u001b[1;32m    799\u001b[0m                                 \u001b[0merrread\u001b[0m\u001b[0;34m,\u001b[0m \u001b[0merrwrite\u001b[0m\u001b[0;34m,\u001b[0m\u001b[0;34m\u001b[0m\u001b[0;34m\u001b[0m\u001b[0m\n\u001b[0;32m--> 800\u001b[0;31m                                 restore_signals, start_new_session)\n\u001b[0m\u001b[1;32m    801\u001b[0m         \u001b[0;32mexcept\u001b[0m\u001b[0;34m:\u001b[0m\u001b[0;34m\u001b[0m\u001b[0;34m\u001b[0m\u001b[0m\n\u001b[1;32m    802\u001b[0m             \u001b[0;31m# Cleanup if the child failed starting.\u001b[0m\u001b[0;34m\u001b[0m\u001b[0;34m\u001b[0m\u001b[0;34m\u001b[0m\u001b[0m\n",
      "\u001b[0;32m~/anaconda3/lib/python3.7/subprocess.py\u001b[0m in \u001b[0;36m_execute_child\u001b[0;34m(self, args, executable, preexec_fn, close_fds, pass_fds, cwd, env, startupinfo, creationflags, shell, p2cread, p2cwrite, c2pread, c2pwrite, errread, errwrite, restore_signals, start_new_session)\u001b[0m\n\u001b[1;32m   1549\u001b[0m                         \u001b[0;32mif\u001b[0m \u001b[0merrno_num\u001b[0m \u001b[0;34m==\u001b[0m \u001b[0merrno\u001b[0m\u001b[0;34m.\u001b[0m\u001b[0mENOENT\u001b[0m\u001b[0;34m:\u001b[0m\u001b[0;34m\u001b[0m\u001b[0;34m\u001b[0m\u001b[0m\n\u001b[1;32m   1550\u001b[0m                             \u001b[0merr_msg\u001b[0m \u001b[0;34m+=\u001b[0m \u001b[0;34m': '\u001b[0m \u001b[0;34m+\u001b[0m \u001b[0mrepr\u001b[0m\u001b[0;34m(\u001b[0m\u001b[0merr_filename\u001b[0m\u001b[0;34m)\u001b[0m\u001b[0;34m\u001b[0m\u001b[0;34m\u001b[0m\u001b[0m\n\u001b[0;32m-> 1551\u001b[0;31m                     \u001b[0;32mraise\u001b[0m \u001b[0mchild_exception_type\u001b[0m\u001b[0;34m(\u001b[0m\u001b[0merrno_num\u001b[0m\u001b[0;34m,\u001b[0m \u001b[0merr_msg\u001b[0m\u001b[0;34m,\u001b[0m \u001b[0merr_filename\u001b[0m\u001b[0;34m)\u001b[0m\u001b[0;34m\u001b[0m\u001b[0;34m\u001b[0m\u001b[0m\n\u001b[0m\u001b[1;32m   1552\u001b[0m                 \u001b[0;32mraise\u001b[0m \u001b[0mchild_exception_type\u001b[0m\u001b[0;34m(\u001b[0m\u001b[0merr_msg\u001b[0m\u001b[0;34m)\u001b[0m\u001b[0;34m\u001b[0m\u001b[0;34m\u001b[0m\u001b[0m\n\u001b[1;32m   1553\u001b[0m \u001b[0;34m\u001b[0m\u001b[0m\n",
      "\u001b[0;31mFileNotFoundError\u001b[0m: [Errno 2] No such file or directory: 'dot': 'dot'"
     ]
    }
   ],
   "source": [
    "# (node_indicator, _) = rf.decision_path(instances)\n",
    "\n",
    "# node_indicator\n",
    "\n",
    "# Extract single tree\n",
    "estimator = rf.estimators_\n",
    "\n",
    "# len(estimator)\n",
    "\n",
    "from sklearn.tree import export_graphviz\n",
    "# Export as dot file\n",
    "export_graphviz(estimator[5], \n",
    "                out_file='tree.dot', \n",
    "                feature_names = featuresNames,\n",
    "#                 class_names = iris.target_names,\n",
    "                rounded = True, proportion = False, \n",
    "                precision = 2, filled = True)\n",
    "\n",
    "# Convert to png\n",
    "from subprocess import call\n",
    "call(['dot', '-Tpng', 'tree.dot', '-o', 'tree.png', '-Gdpi=600'])\n",
    "\n",
    "# Display in jupyter notebook\n",
    "from IPython.display import Image\n",
    "Image(filename = 'tree.png')\n",
    "# from subprocess import call\n",
    "# call(['dot', '-Tpng', 'tree.dot', '-o', 'tree.png', '-Gdpi=600'])"
   ]
  },
  {
   "cell_type": "code",
   "execution_count": 102,
   "id": "political-diploma",
   "metadata": {},
   "outputs": [
    {
     "name": "stdout",
     "output_type": "stream",
     "text": [
      "label: 88.0\n",
      "RF prediction: 88\n",
      "65\n"
     ]
    }
   ],
   "source": [
    "# get data\n",
    "id_ = idsRFCorrectsAndOwnModelWrongs[1]\n",
    "\n",
    "index = np.where(ownModelResults[\"testIds\"]  == id_)[0][0]\n",
    "\n",
    "print(f\"label: {ownModelResults['testLabels'][index]}\")\n",
    "\n",
    "print(f\"RF prediction: {rFResults['testPredictions'][index]}\")\n",
    "\n",
    "with open(\"../random_forest/features/fats\"+ str(round(id_)) +\".pkl\", \"rb\") as f:\n",
    "    instances = load(f)\n",
    "\n",
    "#get predictions\n",
    "prediction, bias, contributions = ti.predict(rf, instances)\n",
    "\n",
    "# prediction = rf.predict(instances)\n",
    "\n",
    "only_these_labels = [16, 92, 53, 88, 65, 6]\n",
    "\n",
    "print(only_these_labels[np.argmax(prediction)])"
   ]
  },
  {
   "cell_type": "code",
   "execution_count": 100,
   "id": "breathing-strength",
   "metadata": {},
   "outputs": [
    {
     "name": "stdout",
     "output_type": "stream",
     "text": [
      "[[0.20052328 0.09406491 0.00284883 0.02324763 0.670528   0.00878735]]\n",
      "4\n"
     ]
    }
   ],
   "source": [
    "print(prediction)\n",
    "\n",
    "print(np.argmax(prediction))"
   ]
  },
  {
   "cell_type": "code",
   "execution_count": 95,
   "id": "driven-today",
   "metadata": {},
   "outputs": [
    {
     "name": "stdout",
     "output_type": "stream",
     "text": [
      "Instance 0\n",
      "Bias (trainset mean [0.42528458 0.038766   0.41640482 0.03871296 0.0401875  0.04064415]\n",
      "Feature contributions:\n",
      "CAR_sigma_0\n",
      "[ 2.06187155e-03 -2.54053891e-04  6.77357169e-05 -1.31096528e-04\n",
      " -1.37509700e-03 -3.69359847e-04]\n",
      "CAR_mean_0\n",
      "[ 0.00000000e+00  8.66863717e-04  0.00000000e+00 -6.76108608e-04\n",
      " -1.76580774e-04 -1.41743342e-05]\n",
      "Meanvariance_0\n",
      "[ 9.35231971e-04 -5.00379236e-05  0.00000000e+00 -4.11040630e-04\n",
      " -4.74153417e-04  0.00000000e+00]\n",
      "Mean_0\n",
      "[ 1.26988949e-04 -3.18519844e-05  0.00000000e+00 -2.91583871e-05\n",
      " -6.59785779e-05  0.00000000e+00]\n",
      "PercentAmplitude_0\n",
      "[-4.20116456e-04  2.17751163e-04  0.00000000e+00  8.51735411e-05\n",
      "  9.19096025e-05  2.52821487e-05]\n",
      "Skew_0\n",
      "[ 3.22939711e-04  1.74547923e-04  0.00000000e+00  2.77846703e-05\n",
      "  1.25451366e-04 -6.50723670e-04]\n",
      "AndersonDarling_0\n",
      "[-1.33781343e-03  6.68243463e-04  0.00000000e+00  6.39814411e-04\n",
      "  1.48139797e-05  1.49415711e-05]\n",
      "Std_0\n",
      "[ 0.00275055 -0.00277488  0.00016648 -0.00072756 -0.0004506   0.00103601]\n",
      "Rcs_0\n",
      "[ 2.50204965e-04 -1.12429811e-03  0.00000000e+00  1.30937576e-03\n",
      " -4.42768785e-04  7.48617028e-06]\n",
      "StetsonK_0\n",
      "[ 4.28430583e-05 -2.12771222e-05  0.00000000e+00 -2.15659360e-05\n",
      "  0.00000000e+00  0.00000000e+00]\n",
      "MedianAbsDev_0\n",
      "[ 4.91753862e-03 -1.05989763e-03 -6.47905473e-05 -3.71950144e-03\n",
      " -1.05846926e-03  9.85120260e-04]\n",
      "Q31_0\n",
      "[ 2.68689136e-03 -3.16513675e-04 -7.30515855e-05 -2.41317731e-03\n",
      "  1.91098586e-04 -7.52473734e-05]\n",
      "Amplitude_0\n",
      "[-1.06859523e-03  1.08442529e-03  0.00000000e+00  1.31858082e-05\n",
      " -3.34443530e-05  4.42848404e-06]\n",
      "PeriodLS_v2_0\n",
      "[ 1.50297012e-05  3.43300318e-04  0.00000000e+00 -3.51384859e-04\n",
      "  0.00000000e+00 -6.94516048e-06]\n",
      "Harmonics_mag_1_0\n",
      "[ 0.          0.00031327  0.         -0.00031327  0.          0.        ]\n",
      "Harmonics_mag_2_0\n",
      "[-1.25314263e-04  1.13945116e-03  0.00000000e+00 -1.01269283e-03\n",
      " -1.44406706e-06  0.00000000e+00]\n",
      "Harmonics_mag_3_0\n",
      "[ 2.07578258e-05 -2.50303233e-06  0.00000000e+00 -1.82547935e-05\n",
      "  0.00000000e+00  0.00000000e+00]\n",
      "Harmonics_mag_4_0\n",
      "[ 0.00000000e+00 -8.14963637e-04  0.00000000e+00 -1.29751417e-05\n",
      "  0.00000000e+00  8.27938779e-04]\n",
      "Harmonics_mag_5_0\n",
      "[-4.36033291e-04  3.16204067e-04  0.00000000e+00  1.35643412e-04\n",
      " -1.59541915e-05  1.40003635e-07]\n",
      "Harmonics_mag_6_0\n",
      "[-1.29218609e-04 -3.20233669e-04  0.00000000e+00  3.73386645e-04\n",
      "  1.88943565e-05  5.71712756e-05]\n",
      "Harmonics_mag_7_0\n",
      "[-1.74187639e-03  1.41778548e-03  0.00000000e+00  2.64469245e-04\n",
      "  2.16111744e-05  3.80104931e-05]\n",
      "Harmonics_phase_2_0\n",
      "[-0.00191779  0.00087978  0.          0.00103802  0.          0.        ]\n",
      "Harmonics_phase_3_0\n",
      "[ 0.00000000e+00  2.14288298e-05  0.00000000e+00 -2.14288298e-05\n",
      "  0.00000000e+00  0.00000000e+00]\n",
      "Harmonics_phase_4_0\n",
      "[-7.45933792e-05  7.12828426e-05  0.00000000e+00  0.00000000e+00\n",
      "  8.97253286e-07  2.41328333e-06]\n",
      "Harmonics_phase_5_0\n",
      "[ 7.03401261e-05 -3.52334474e-05  0.00000000e+00 -3.51066787e-05\n",
      "  0.00000000e+00  0.00000000e+00]\n",
      "Harmonics_phase_6_0\n",
      "[ 1.60216371e-04 -7.83823022e-05  0.00000000e+00 -8.42267809e-05\n",
      "  2.39271188e-06  0.00000000e+00]\n",
      "Harmonics_phase_7_0\n",
      "[0. 0. 0. 0. 0. 0.]\n",
      "Harmonics_mse_0\n",
      "[0. 0. 0. 0. 0. 0.]\n",
      "Autocor_length_0\n",
      "[0. 0. 0. 0. 0. 0.]\n",
      "SlottedA_length_0\n",
      "[0. 0. 0. 0. 0. 0.]\n",
      "StetsonK_AC_0\n",
      "[ 2.96181634e-04  1.39029760e-06  0.00000000e+00 -1.16414606e-04\n",
      " -1.81157325e-04  0.00000000e+00]\n",
      "Con_0\n",
      "[0. 0. 0. 0. 0. 0.]\n",
      "Beyond1Std_0\n",
      "[-5.93345294e-04  4.45161157e-04  0.00000000e+00 -1.22709762e-05\n",
      "  3.61191461e-05  1.24335966e-04]\n",
      "SmallKurtosis_0\n",
      "[-4.20078423e-04  4.59541574e-04  0.00000000e+00 -8.37938869e-05\n",
      "  2.38609441e-05  2.04697920e-05]\n",
      "MaxSlope_0\n",
      "[-1.09526590e-04  7.88664451e-04  0.00000000e+00 -4.11070005e-04\n",
      " -2.15509365e-04 -5.25584908e-05]\n",
      "MedianBRP_0\n",
      "[-6.33007382e-05  1.47158651e-03  0.00000000e+00 -1.41611446e-03\n",
      "  4.27272408e-06  3.55596544e-06]\n",
      "PairSlopeTrend_0\n",
      "[ 0.00000000e+00  3.56847098e-05  0.00000000e+00  6.46478498e-07\n",
      " -3.63311883e-05  0.00000000e+00]\n",
      "LinearTrend_0\n",
      "[-0.00055795  0.00017578  0.         -0.00114634  0.00111655  0.00041196]\n",
      "Eta_e_0\n",
      "[ 0.00000000e+00 -4.04339286e-04  0.00000000e+00  4.03208744e-05\n",
      " -3.99794693e-05  4.03997881e-04]\n",
      "Period_fit_v2_0\n",
      "[-0.00198216  0.00074221  0.          0.00121791  0.00036775 -0.00034573]\n",
      "PeriodPowerRate_0\n",
      "[ 0.00000000e+00  1.28126112e-04  0.00000000e+00  2.79874420e-06\n",
      " -8.70333674e-05 -4.38914890e-05]\n",
      "Psi_CS_v2_0\n",
      "[ 9.89507680e-04 -2.47191498e-03  0.00000000e+00 -8.38102385e-05\n",
      " -8.05712901e-05  1.64678882e-03]\n",
      "Psi_eta_v2_0\n",
      "[ 4.93502030e-05  4.44820463e-04  0.00000000e+00 -5.98981606e-05\n",
      " -3.69061154e-04 -6.52113513e-05]\n",
      "StructureFunction_index_21_0\n",
      "[-3.03040638e-04  2.50472128e-04  0.00000000e+00 -7.02271437e-06\n",
      "  3.75175130e-05  2.20737113e-05]\n",
      "Pvar_0\n",
      "[ 2.17643867e-03  1.60175370e-03  2.60399307e-05 -1.05252834e-03\n",
      " -2.04630943e-03 -7.05394536e-04]\n",
      "StructureFunction_index_31_0\n",
      "[ 0.00000000e+00  4.94164985e-05  0.00000000e+00 -4.29164195e-05\n",
      "  0.00000000e+00 -6.50007902e-06]\n",
      "ExcessVar_0\n",
      "[ 0.0011528  -0.00117037  0.          0.00164432 -0.00151628 -0.00011046]\n",
      "IAR_phi_0\n",
      "[-2.77521511e-03  9.49657999e-04  0.00000000e+00  1.66745137e-03\n",
      "  2.81897757e-05  1.29915970e-04]\n",
      "CAR_sigma_1\n",
      "[ 9.55912647e-03 -1.24049365e-02 -8.86453659e-05  3.38236003e-03\n",
      "  1.14579939e-03 -1.59370403e-03]\n",
      "CAR_mean_1\n",
      "[-4.56667613e-03  6.20978800e-03 -3.37929030e-05 -1.68828997e-03\n",
      " -6.41553049e-05  1.43126307e-04]\n",
      "Meanvariance_1\n",
      "[-6.13087286e-03  6.44544668e-03 -3.06487933e-05 -1.46837437e-03\n",
      "  1.00115411e-03  1.83295227e-04]\n",
      "Mean_1\n",
      "[-6.97216548e-03  7.38110522e-03  0.00000000e+00 -7.72649102e-04\n",
      "  5.33345696e-05  3.10374791e-04]\n",
      "PercentAmplitude_1\n",
      "[-3.34614018e-05  2.83808415e-04  0.00000000e+00  1.50163389e-04\n",
      " -3.47989632e-04 -5.25207705e-05]\n",
      "Skew_1\n",
      "[-1.16500097e-02  2.37034441e-02 -6.98765996e-05 -9.06784442e-03\n",
      "  1.36638197e-04 -3.05235159e-03]\n",
      "AndersonDarling_1\n",
      "[-0.0009546   0.00246552  0.          0.00022009 -0.00192403  0.00019302]\n",
      "Std_1\n",
      "[-2.79915965e-03  1.04046424e-02  3.40066543e-05 -5.78756924e-03\n",
      " -2.87767813e-03  1.02575796e-03]\n",
      "Rcs_1\n",
      "[ 1.77577920e-04  1.49966302e-03  1.09574347e-05  1.07774220e-03\n",
      " -2.87613203e-03  1.10191465e-04]\n",
      "StetsonK_1\n",
      "[-1.76545846e-04  1.16993933e-03 -8.71239222e-05  6.83502790e-04\n",
      " -9.22463171e-04 -6.67309176e-04]\n",
      "MedianAbsDev_1\n",
      "[-0.0046975   0.0205741   0.00035265 -0.0179346   0.00032931  0.00137604]\n",
      "Q31_1\n",
      "[-2.17364616e-03  1.46607061e-02  7.49128996e-05 -1.43340248e-02\n",
      "  3.62393079e-03 -1.85187886e-03]\n",
      "Amplitude_1\n",
      "[-0.00135621  0.00572338  0.0003604  -0.00367351 -0.00157406  0.00052001]\n",
      "PeriodLS_v2_1\n",
      "[ 0.00000000e+00  7.70597701e-05  0.00000000e+00  0.00000000e+00\n",
      "  8.04450760e-06 -8.51042777e-05]\n",
      "Harmonics_mag_1_1\n",
      "[-4.03438594e-04  1.06999027e-03  0.00000000e+00  8.00158733e-05\n",
      " -7.86229129e-04  3.96615838e-05]\n",
      "Harmonics_mag_2_1\n",
      "[ 0.00000000e+00 -1.12512780e-04  0.00000000e+00  1.60671866e-04\n",
      " -4.81590861e-05  0.00000000e+00]\n",
      "Harmonics_mag_3_1\n",
      "[ 7.30392243e-05  4.56532161e-04  0.00000000e+00 -1.99611197e-05\n",
      " -5.03787613e-04 -5.82265233e-06]\n",
      "Harmonics_mag_4_1\n",
      "[-1.02445012e-03  3.98551977e-04  0.00000000e+00  5.23740790e-05\n",
      "  5.66497345e-04  7.02672292e-06]\n",
      "Harmonics_mag_5_1\n",
      "[-2.36609209e-03  1.88576063e-03  0.00000000e+00  4.76404993e-04\n",
      " -1.09614200e-06  5.02261202e-06]\n",
      "Harmonics_mag_6_1\n",
      "[-3.11468578e-04  4.07486388e-04  0.00000000e+00 -3.45602615e-05\n",
      " -1.04158104e-06 -6.04159676e-05]\n",
      "Harmonics_mag_7_1\n",
      "[ 3.49385883e-04 -1.67327976e-04  0.00000000e+00 -2.83073778e-04\n",
      " -4.17668563e-05  1.42782727e-04]\n",
      "Harmonics_phase_2_1\n",
      "[ 0.00000000e+00  5.99969387e-05  0.00000000e+00  0.00000000e+00\n",
      " -5.99969387e-05  0.00000000e+00]\n",
      "Harmonics_phase_3_1\n",
      "[0. 0. 0. 0. 0. 0.]\n",
      "Harmonics_phase_4_1\n",
      "[ 0.00000000e+00  8.31642521e-04  0.00000000e+00 -5.69368423e-04\n",
      " -2.67285788e-04  5.01169035e-06]\n",
      "Harmonics_phase_5_1\n",
      "[0. 0. 0. 0. 0. 0.]\n",
      "Harmonics_phase_6_1\n",
      "[ 0.         -0.00089854  0.          0.00014788  0.00075066  0.        ]\n",
      "Harmonics_phase_7_1\n",
      "[ 0.00000000e+00  7.85016555e-05  0.00000000e+00  4.46885761e-06\n",
      "  0.00000000e+00 -8.29705131e-05]\n",
      "Harmonics_mse_1\n",
      "[ 0.00000000e+00  5.76058812e-05  0.00000000e+00 -5.85532035e-05\n",
      "  9.47322294e-07  0.00000000e+00]\n",
      "Autocor_length_1\n",
      "[-1.44547334e-04  5.94686390e-04  1.38947168e-05  6.68890203e-04\n",
      " -1.15668187e-03  2.37578904e-05]\n",
      "SlottedA_length_1\n",
      "[ 4.67829751e-04  3.99430365e-05  0.00000000e+00 -5.43042532e-05\n",
      " -3.30096967e-04 -1.23371567e-04]\n",
      "StetsonK_AC_1\n",
      "[-2.40879294e-04 -1.36714723e-05  0.00000000e+00  4.13367292e-04\n",
      "  3.35914469e-05 -1.92407973e-04]\n",
      "Con_1\n",
      "[0. 0. 0. 0. 0. 0.]\n",
      "Beyond1Std_1\n",
      "[ 0.000183    0.00046764  0.          0.000439   -0.00090342 -0.00018623]\n",
      "SmallKurtosis_1\n",
      "[-0.00062024  0.0005871   0.          0.0025787  -0.00228044 -0.00026512]\n",
      "MaxSlope_1\n",
      "[-1.64871134e-03  4.64192314e-03  3.56023477e-05 -1.67433678e-03\n",
      " -1.86857360e-03  5.14096241e-04]\n",
      "MedianBRP_1\n",
      "[ 5.23603483e-04 -1.88500200e-04  0.00000000e+00  2.49908138e-04\n",
      " -5.31591143e-04 -5.34202769e-05]\n",
      "PairSlopeTrend_1\n",
      "[0. 0. 0. 0. 0. 0.]\n",
      "LinearTrend_1\n",
      "[-1.51568277e-03  1.05453895e-03 -2.93613165e-04  7.90190542e-04\n",
      " -6.47079821e-06 -2.89627571e-05]\n",
      "Eta_e_1\n",
      "[ 1.88773410e-04  1.65542038e-05  0.00000000e+00 -2.11684346e-04\n",
      " -2.66624034e-05  3.30191349e-05]\n",
      "Period_fit_v2_1\n",
      "[ 0.00000000e+00  3.11475019e-05  0.00000000e+00  3.33714346e-07\n",
      " -3.18311906e-05  3.49974401e-07]\n",
      "PeriodPowerRate_1\n",
      "[0. 0. 0. 0. 0. 0.]\n",
      "Psi_CS_v2_1\n",
      "[-8.39659152e-04  4.05932419e-04  0.00000000e+00  5.05191880e-04\n",
      " -6.88449926e-05 -2.62015379e-06]\n",
      "Psi_eta_v2_1\n",
      "[ 0.00000000e+00 -8.80691170e-04  0.00000000e+00  4.56413538e-04\n",
      "  4.38394307e-04 -1.41166745e-05]\n",
      "StructureFunction_index_21_1\n",
      "[0. 0. 0. 0. 0. 0.]\n",
      "Pvar_1\n",
      "[-1.15964428e-02  5.01529910e-03 -3.16138222e-05  2.85546867e-03\n",
      "  3.58736808e-03  1.69920802e-04]\n",
      "StructureFunction_index_31_1\n",
      "[-2.68974221e-04  1.95573362e-04 -1.12784421e-03  5.86971543e-05\n",
      "  8.46187260e-04  2.96360658e-04]\n",
      "ExcessVar_1\n",
      "[-6.99768750e-03  5.25265640e-03  3.91298447e-05  8.14894132e-04\n",
      "  3.62061850e-04  5.28945269e-04]\n",
      "IAR_phi_1\n",
      "[ 7.65829870e-04 -3.00196315e-03 -6.02580691e-06 -6.23921817e-05\n",
      "  2.93279846e-03 -6.28247187e-04]\n",
      "CAR_sigma_2\n",
      "[-0.03745372  0.04354198  0.00042574  0.00639419 -0.01676137  0.00385317]\n",
      "CAR_mean_2\n",
      "[-8.09593828e-03  1.22630297e-02 -1.13389357e-06 -4.01280643e-03\n",
      " -5.43350732e-04  3.90199616e-04]\n",
      "Meanvariance_2\n",
      "[-0.02223416  0.02762148  0.00012382 -0.00906638  0.00256936  0.00098588]\n",
      "Mean_2\n",
      "[-9.71897192e-03  1.01791514e-02  9.67801838e-06 -2.27703182e-03\n",
      "  1.09567076e-03  7.11503581e-04]\n",
      "PercentAmplitude_2\n",
      "[-5.16946895e-03  4.74734502e-03  2.36851475e-06  1.66587210e-04\n",
      " -1.11690238e-04  3.64858445e-04]\n",
      "Skew_2\n",
      "[-0.08536609  0.12709813 -0.00184252 -0.02912455 -0.00699378 -0.00377119]\n",
      "AndersonDarling_2\n",
      "[-0.00407336  0.00472721 -0.00023369  0.00069554 -0.00081322 -0.00030247]\n",
      "Std_2\n",
      "[-0.00229351  0.01087103  0.00024021 -0.00560737 -0.00412242  0.00091205]\n",
      "Rcs_2\n",
      "[-0.00302907  0.00522022  0.00024062  0.00486488 -0.00765271  0.00035605]\n",
      "StetsonK_2\n",
      "[-2.19358506e-03  4.05214000e-03  6.11957761e-05  5.89235118e-03\n",
      " -5.57705592e-03 -2.23504598e-03]\n",
      "MedianAbsDev_2\n",
      "[ 0.01133077  0.007764   -0.00280435 -0.01376971 -0.00014784 -0.00237286]\n",
      "Q31_2\n",
      "[ 0.0080357   0.01139296 -0.00248068 -0.01257393 -0.00102753 -0.00334652]\n",
      "Amplitude_2\n",
      "[-0.00299813  0.01247224 -0.00049861 -0.00459907 -0.00558386  0.00120743]\n",
      "PeriodLS_v2_2\n",
      "[ 3.22933350e-04 -9.66268940e-05  0.00000000e+00 -1.81820397e-04\n",
      " -4.44860590e-05  0.00000000e+00]\n",
      "Harmonics_mag_1_2\n",
      "[ 6.56150352e-04  3.45973319e-04  0.00000000e+00 -7.13869603e-04\n",
      " -3.66361516e-04  7.81074486e-05]\n",
      "Harmonics_mag_2_2\n",
      "[-7.56629941e-04  1.17771414e-03  0.00000000e+00 -2.64800934e-04\n",
      " -1.19173336e-04 -3.71099273e-05]\n",
      "Harmonics_mag_3_2\n",
      "[-3.30488576e-03  3.26807311e-03  0.00000000e+00  7.39864774e-06\n",
      "  1.37104571e-04 -1.07690570e-04]\n",
      "Harmonics_mag_4_2\n",
      "[-3.20054375e-04  4.07050679e-04  0.00000000e+00 -8.69963041e-05\n",
      "  0.00000000e+00  0.00000000e+00]\n",
      "Harmonics_mag_5_2\n",
      "[-0.00162809  0.00065626  0.          0.00165643 -0.0005568  -0.0001278 ]\n",
      "Harmonics_mag_6_2\n",
      "[-7.31108470e-05  3.75609352e-04  0.00000000e+00  6.09974274e-05\n",
      " -1.18951287e-04 -2.44544646e-04]\n",
      "Harmonics_mag_7_2\n",
      "[-1.58273012e-03  1.22392450e-03  2.09416087e-05  4.76606442e-06\n",
      " -6.37244243e-05  3.96822368e-04]\n",
      "Harmonics_phase_2_2\n",
      "[ 5.62978356e-04 -1.53266926e-04  0.00000000e+00 -3.94284182e-04\n",
      " -1.56327477e-05  2.05499984e-07]\n",
      "Harmonics_phase_3_2\n",
      "[ 0.00000000e+00 -1.68795668e-03  0.00000000e+00 -6.00672668e-05\n",
      "  0.00000000e+00  1.74802395e-03]\n",
      "Harmonics_phase_4_2\n",
      "[0. 0. 0. 0. 0. 0.]\n",
      "Harmonics_phase_5_2\n",
      "[0. 0. 0. 0. 0. 0.]\n",
      "Harmonics_phase_6_2\n",
      "[ 0.00000000e+00  2.64668209e-05  0.00000000e+00 -1.02465384e-04\n",
      " -2.22726231e-05  9.82711863e-05]\n",
      "Harmonics_phase_7_2\n",
      "[0. 0. 0. 0. 0. 0.]\n",
      "Harmonics_mse_2\n",
      "[ 0.00259388  0.00016195 -0.00018329 -0.00163135 -0.0005124  -0.00042879]\n",
      "Autocor_length_2\n",
      "[-0.00134895  0.00575271  0.00011405  0.00440117 -0.00956875  0.00064977]\n",
      "SlottedA_length_2\n",
      "[-1.30770834e-03  4.67188942e-04  0.00000000e+00  1.14426887e-03\n",
      " -3.02321654e-04 -1.42782021e-06]\n",
      "StetsonK_AC_2\n",
      "[-0.00199981  0.00236681  0.         -0.00178416  0.00103006  0.0003871 ]\n",
      "Con_2\n",
      "[0. 0. 0. 0. 0. 0.]\n",
      "Beyond1Std_2\n",
      "[-1.39598512e-03  2.80319327e-03 -1.65372281e-05  2.62777724e-03\n",
      " -3.37725449e-03 -6.41193663e-04]\n",
      "SmallKurtosis_2\n",
      "[-1.80555384e-03  2.62535035e-03  2.35826050e-05  3.39888878e-03\n",
      " -3.08690089e-03 -1.15536701e-03]\n",
      "MaxSlope_2\n",
      "[ 0.00085761  0.00683433  0.00066923 -0.00155511 -0.00524745 -0.0015586 ]\n",
      "MedianBRP_2\n",
      "[-0.00355214  0.00491991 -0.0002317   0.00228999 -0.00356966  0.00014361]\n",
      "PairSlopeTrend_2\n",
      "[ 0.00000000e+00  2.98053778e-05  0.00000000e+00 -1.42469292e-05\n",
      " -1.58096192e-05  2.51170686e-07]\n",
      "LinearTrend_2\n",
      "[-7.25747185e-04  7.84461921e-04  0.00000000e+00 -5.22081284e-05\n",
      "  6.22534803e-06 -1.27319558e-05]\n",
      "Eta_e_2\n",
      "[-0.00174846  0.0005699   0.00017584 -0.00088547  0.00257159 -0.00068341]\n",
      "Period_fit_v2_2\n",
      "[-2.35170345e-03  1.17701888e-03  0.00000000e+00 -2.27160809e-04\n",
      " -5.85813622e-05  1.46042674e-03]\n",
      "PeriodPowerRate_2\n",
      "[-2.26747750e-03  2.28893875e-03  0.00000000e+00  6.50271648e-07\n",
      " -2.68782388e-05  4.76672426e-06]\n",
      "Psi_CS_v2_2\n",
      "[ 0.00000000e+00  1.49130849e-05  0.00000000e+00  0.00000000e+00\n",
      " -7.42456888e-06 -7.48851603e-06]\n",
      "Psi_eta_v2_2\n",
      "[ 1.63837503e-04 -1.70989661e-04  0.00000000e+00  0.00000000e+00\n",
      "  7.15215767e-06  0.00000000e+00]\n",
      "StructureFunction_index_21_2\n",
      "[-8.95614877e-04  5.97916379e-04  0.00000000e+00  2.60171562e-04\n",
      "  2.00317144e-06  3.55237649e-05]\n",
      "Pvar_2\n",
      "[-1.91416094e-02  1.17228374e-02  1.35493792e-05  2.72818262e-03\n",
      "  3.56613886e-03  1.11090119e-03]\n",
      "StructureFunction_index_31_2\n",
      "[ 1.69433588e-04  1.98870559e-04  5.91204822e-05 -8.76506703e-05\n",
      " -3.76903614e-04  3.71296547e-05]\n",
      "ExcessVar_2\n",
      "[-6.40927683e-03  5.42331850e-03  3.11648093e-05  7.32388877e-04\n",
      " -3.08816193e-04  5.31220841e-04]\n",
      "IAR_phi_2\n",
      "[-0.01598075  0.02017107 -0.00470942  0.01114495 -0.01653664  0.00591079]\n",
      "CAR_sigma_3\n",
      "[ 0.01026428 -0.01646881 -0.00063247  0.00206524  0.00772558 -0.00295381]\n",
      "CAR_mean_3\n",
      "[ 5.71869637e-04  2.73644520e-04 -2.58387241e-04  1.36267678e-03\n",
      " -1.87674814e-03 -7.30555536e-05]\n",
      "Meanvariance_3\n",
      "[-0.02193975  0.01627521  0.00078717  0.00127979  0.00247014  0.00112744]\n",
      "Mean_3\n",
      "[-4.69416133e-03  2.42378605e-03 -3.14579137e-05  1.81298361e-03\n",
      "  6.31173668e-04 -1.42324086e-04]\n",
      "PercentAmplitude_3\n",
      "[-2.06235379e-03  1.68058100e-03 -1.21205245e-05  5.77380184e-04\n",
      " -2.47720569e-04  6.42336984e-05]\n",
      "Skew_3\n",
      "[-1.45181601e-02  1.12515348e-02 -2.30853049e-03  2.94808736e-04\n",
      "  5.19922961e-03  8.11174126e-05]\n",
      "AndersonDarling_3\n",
      "[-7.42405821e-04 -1.15465155e-03 -1.15207428e-06  6.12751750e-04\n",
      "  1.23421495e-03  5.12427476e-05]\n",
      "Std_3\n",
      "[ 0.01357486  0.0009492  -0.01714028  0.00361044  0.00316243 -0.00415665]\n",
      "Rcs_3\n",
      "[-0.00155486  0.00202459 -0.00017259  0.00294662 -0.00381487  0.00057111]\n",
      "StetsonK_3\n",
      "[ 0.00719755  0.00302327 -0.00736456  0.00019912 -0.00052063 -0.00253474]\n",
      "MedianAbsDev_3\n",
      "[ 0.01848735  0.00184963 -0.01687654 -0.00017686  0.00150852 -0.00479211]\n",
      "Q31_3\n",
      "[ 0.0167628  -0.00130601 -0.01422175  0.00361933  0.00182055 -0.00667492]\n",
      "Amplitude_3\n",
      "[ 0.00669555 -0.00049226 -0.0073293   0.00113671  0.00077493 -0.00078562]\n",
      "PeriodLS_v2_3\n",
      "[-1.25616460e-04  6.53779293e-04 -5.10646000e-04 -1.06018578e-04\n",
      "  5.51157367e-05  3.33860091e-05]\n",
      "Harmonics_mag_1_3\n",
      "[ 0.          0.00010335  0.         -0.00010335  0.          0.        ]\n",
      "Harmonics_mag_2_3\n",
      "[-7.18187698e-04  2.05625194e-04  0.00000000e+00  4.62574091e-04\n",
      "  4.00383247e-05  9.95008813e-06]\n",
      "Harmonics_mag_3_3\n",
      "[-9.65169777e-05 -4.92503437e-04  0.00000000e+00  4.10797169e-05\n",
      "  3.94732137e-05  5.08467484e-04]\n",
      "Harmonics_mag_4_3\n",
      "[ 0.00011764 -0.00133386  0.          0.00121622  0.          0.        ]\n",
      "Harmonics_mag_5_3\n",
      "[-9.72272648e-04  5.81689742e-04  0.00000000e+00  2.35471796e-04\n",
      "  1.71435225e-04 -1.63241145e-05]\n",
      "Harmonics_mag_6_3\n",
      "[ 1.87544298e-04  1.86371785e-06  0.00000000e+00 -1.07209542e-04\n",
      " -2.40460748e-05 -5.81523984e-05]\n",
      "Harmonics_mag_7_3\n",
      "[-8.37516571e-05  4.46790633e-04 -6.27849554e-04  9.97725975e-05\n",
      "  1.43395821e-04  2.16421604e-05]\n",
      "Harmonics_phase_2_3\n",
      "[ 5.86637877e-04 -3.70005619e-04 -2.39629221e-04  7.58814614e-06\n",
      "  1.06911521e-05  4.71766488e-06]\n",
      "Harmonics_phase_3_3\n",
      "[0. 0. 0. 0. 0. 0.]\n",
      "Harmonics_phase_4_3\n",
      "[ 3.08560315e-04 -2.08040730e-04  0.00000000e+00 -8.84969929e-05\n",
      " -1.23282520e-05  3.05660642e-07]\n",
      "Harmonics_phase_5_3\n",
      "[-2.80548588e-03  2.18159211e-03  0.00000000e+00 -1.08562469e-04\n",
      "  7.49825503e-04 -1.73692555e-05]\n",
      "Harmonics_phase_6_3\n",
      "[ 4.03029840e-04 -4.58273363e-05  0.00000000e+00 -1.78433055e-04\n",
      " -1.78769449e-04  0.00000000e+00]\n",
      "Harmonics_phase_7_3\n",
      "[ 7.09510969e-05  6.62501215e-05  0.00000000e+00 -9.45892403e-05\n",
      "  0.00000000e+00 -4.26119781e-05]\n",
      "Harmonics_mse_3\n",
      "[ 0.00418612 -0.00126334 -0.00333095  0.00041584  0.00044912 -0.00045679]\n",
      "Autocor_length_3\n",
      "[-0.00127488  0.00247175 -0.0001568   0.00129056 -0.00263582  0.0003052 ]\n",
      "SlottedA_length_3\n",
      "[-2.38332290e-03  1.54614818e-03  0.00000000e+00  1.65440800e-03\n",
      " -8.66509206e-04  4.92759241e-05]\n",
      "StetsonK_AC_3\n",
      "[ 2.28385585e-04  6.71717528e-04 -3.90706473e-05 -4.78527000e-05\n",
      " -4.82856114e-04 -3.30323652e-04]\n",
      "Con_3\n",
      "[0. 0. 0. 0. 0. 0.]\n",
      "Beyond1Std_3\n",
      "[-5.44514390e-04 -8.67294963e-04  0.00000000e+00 -3.39317655e-05\n",
      "  6.72808634e-04  7.72932484e-04]\n",
      "SmallKurtosis_3\n",
      "[-4.95786966e-04 -1.56089650e-03 -2.68368042e-06 -9.04246284e-05\n",
      "  1.85154163e-03  2.98250138e-04]\n",
      "MaxSlope_3\n",
      "[-1.66941919e-04  4.86679793e-03 -1.58157919e-03 -1.38233320e-03\n",
      " -1.72536445e-03 -1.05791812e-05]\n",
      "MedianBRP_3\n",
      "[-3.62125043e-04 -1.95606582e-04  1.81782091e-05  4.19830454e-05\n",
      "  5.22031499e-04 -2.44611290e-05]\n",
      "PairSlopeTrend_3\n",
      "[-1.58213481e-03  2.50673816e-03  0.00000000e+00 -9.25067150e-04\n",
      "  0.00000000e+00  4.63801639e-07]\n",
      "LinearTrend_3\n",
      "[-1.86527877e-03  1.28412674e-03  0.00000000e+00  8.09855658e-04\n",
      " -1.33426715e-04 -9.52769103e-05]\n",
      "Eta_e_3\n",
      "[-7.15290237e-03  5.29308050e-03 -4.22592259e-03  4.89645289e-03\n",
      "  7.40330009e-05  1.11525857e-03]\n",
      "Period_fit_v2_3\n",
      "[-1.50865010e-04 -1.29728135e-05  0.00000000e+00  1.34153977e-04\n",
      " -8.14411474e-05  1.11124994e-04]\n",
      "PeriodPowerRate_3\n",
      "[-5.33563640e-04 -1.39709586e-04  0.00000000e+00  7.90302311e-04\n",
      " -2.04547943e-05 -9.65742907e-05]\n",
      "Psi_CS_v2_3\n",
      "[ 8.68306405e-05 -3.32150632e-04  0.00000000e+00  2.50281448e-04\n",
      " -5.32648319e-06  3.65025864e-07]\n",
      "Psi_eta_v2_3\n",
      "[-5.12462809e-04  4.56831617e-04 -5.75776787e-05  3.37311444e-05\n",
      "  3.95589419e-06  7.55218320e-05]\n",
      "StructureFunction_index_21_3\n",
      "[-5.79420591e-03  1.65408702e-03  1.03649184e-03  1.88671984e-03\n",
      " -6.22503631e-05  1.27915757e-03]\n",
      "Pvar_3\n",
      "[ 0.00745197 -0.01042288  0.00020169  0.00571078 -0.0018819  -0.00105966]\n",
      "StructureFunction_index_31_3\n",
      "[-1.99226246e-03  1.07141031e-03  0.00000000e+00  7.88146593e-04\n",
      " -6.19413673e-05  1.94646924e-04]\n",
      "ExcessVar_3\n",
      "[ 6.18134434e-03 -5.79212089e-03 -3.79889944e-05  1.86241958e-03\n",
      " -1.02366534e-04 -2.11128750e-03]\n",
      "IAR_phi_3\n",
      "[-0.0086701   0.0121519  -0.00823465  0.00767883 -0.00721814  0.00429216]\n",
      "CAR_sigma_4\n",
      "[ 0.00597958 -0.00718734 -0.0006843   0.00290709  0.00250537 -0.00352041]\n",
      "CAR_mean_4\n",
      "[-4.68424799e-03  2.81878482e-03 -3.14588364e-04  1.78614638e-03\n",
      "  3.84072344e-04  9.83280462e-06]\n",
      "Meanvariance_4\n",
      "[-0.028251    0.01790042  0.00044994  0.00322702  0.00541631  0.00125731]\n",
      "Mean_4\n",
      "[-1.49520917e-02  8.05216562e-03  1.13092943e-05  3.96027657e-03\n",
      "  2.50973592e-03  4.18604263e-04]\n",
      "PercentAmplitude_4\n",
      "[-3.56663180e-03  1.38012531e-03  5.72685698e-05  6.78494615e-04\n",
      "  5.13049858e-04  9.37693442e-04]\n",
      "Skew_4\n",
      "[-0.03589361  0.01745854 -0.00129272  0.00472661  0.01172943  0.00327176]\n",
      "AndersonDarling_4\n",
      "[-3.89728774e-03  6.93717377e-05 -9.24903681e-05  9.08544616e-04\n",
      "  2.02197869e-03  9.89883067e-04]\n",
      "Std_4\n",
      "[ 0.01349318  0.00171784 -0.01604078  0.00093045  0.00181104 -0.00191174]\n",
      "Rcs_4\n",
      "[-7.99878346e-04  9.39914918e-04 -7.73282784e-05  8.19560788e-04\n",
      " -9.32363903e-04  5.00948211e-05]\n",
      "StetsonK_4\n",
      "[ 0.00629529  0.0007686  -0.00800675  0.00091954  0.00204903 -0.0020257 ]\n",
      "MedianAbsDev_4\n",
      "[ 2.53553541e-02  5.01574623e-03 -2.78691875e-02 -6.43795110e-05\n",
      "  3.89057795e-03 -6.32811126e-03]\n",
      "Q31_4\n",
      "[ 0.02120899  0.00258815 -0.02266343  0.00249555  0.00288813 -0.00651739]\n",
      "Amplitude_4\n",
      "[ 0.01053198  0.00319867 -0.01797622  0.00341427  0.00253367 -0.00170237]\n",
      "PeriodLS_v2_4\n",
      "[ 0.00378958  0.00078736 -0.00534     0.00028463  0.00029565  0.00018278]\n",
      "Harmonics_mag_1_4\n",
      "[ 0.00410277  0.00060622 -0.00679645  0.00059773  0.00180406 -0.00031434]\n",
      "Harmonics_mag_2_4\n",
      "[-0.00034523  0.00270982 -0.00587248  0.00156581  0.00205202 -0.00010994]\n",
      "Harmonics_mag_3_4\n",
      "[ 0.        -0.0016562  0.         0.0016562  0.         0.       ]\n",
      "Harmonics_mag_4_4\n",
      "[-6.14094510e-05  3.98451557e-04 -1.68237802e-03  4.78332847e-04\n",
      "  7.34216720e-04  1.32786347e-04]\n",
      "Harmonics_mag_5_4\n",
      "[ 0.00075512  0.00011915 -0.00175812  0.00024883  0.000535    0.00010002]\n",
      "Harmonics_mag_6_4\n",
      "[-1.65885976e-03  1.00020348e-03 -4.27771886e-04  3.94322272e-04\n",
      "  6.73624376e-04  1.84815081e-05]\n",
      "Harmonics_mag_7_4\n",
      "[ 7.69287420e-05 -1.45187048e-04  6.80091562e-05  2.31565563e-04\n",
      " -6.60944208e-04  4.29627794e-04]\n",
      "Harmonics_phase_2_4\n",
      "[-0.00079855  0.00120716 -0.00023535 -0.00026702 -0.00024859  0.00034235]\n",
      "Harmonics_phase_3_4\n",
      "[-1.46542200e-03  1.04265314e-03  0.00000000e+00  4.43067552e-04\n",
      " -2.02986904e-05  0.00000000e+00]\n",
      "Harmonics_phase_4_4\n",
      "[-1.26617049e-03  1.21802186e-03  0.00000000e+00  0.00000000e+00\n",
      " -2.13231312e-05  6.94717644e-05]\n",
      "Harmonics_phase_5_4\n",
      "[ 0.00000000e+00  1.02423626e-05  0.00000000e+00  0.00000000e+00\n",
      "  0.00000000e+00 -1.02423626e-05]\n",
      "Harmonics_phase_6_4\n",
      "[ 0.          0.00020828  0.         -0.00020828  0.          0.        ]\n",
      "Harmonics_phase_7_4\n",
      "[-0.00183276  0.00157175  0.          0.00026102  0.          0.        ]\n",
      "Harmonics_mse_4\n",
      "[ 0.00422358  0.00032063 -0.00374114 -0.00088716  0.0002551  -0.00017101]\n",
      "Autocor_length_4\n",
      "[-0.00247217  0.00359785 -0.00124078  0.0016798  -0.00207532  0.00051062]\n",
      "SlottedA_length_4\n",
      "[-2.80810961e-04  2.52420343e-04  0.00000000e+00  3.40244685e-05\n",
      " -1.32800564e-05  7.64620557e-06]\n",
      "StetsonK_AC_4\n",
      "[-0.00199458  0.00049223  0.00023884  0.00043061  0.00036341  0.0004695 ]\n",
      "Con_4\n",
      "[ 0.00000000e+00  7.19540678e-05  0.00000000e+00  0.00000000e+00\n",
      "  0.00000000e+00 -7.19540678e-05]\n",
      "Beyond1Std_4\n",
      "[-4.78836438e-03  5.24852610e-04 -3.63558706e-06  1.13441755e-03\n",
      "  2.72747327e-03  4.05256538e-04]\n",
      "SmallKurtosis_4\n",
      "[-3.30704345e-03  2.36638698e-04  1.59898032e-04  7.09629420e-05\n",
      "  1.12443980e-03  1.71510397e-03]\n",
      "MaxSlope_4\n",
      "[-0.00197098  0.00057199  0.00184598 -0.00024833 -0.00057828  0.00037962]\n",
      "MedianBRP_4\n",
      "[-0.00530428  0.0007586   0.00030048  0.00052072  0.00266491  0.00105956]\n",
      "PairSlopeTrend_4\n",
      "[-2.19251626e-04  1.34958461e-04  0.00000000e+00  6.45743956e-05\n",
      "  1.22154803e-05  7.50328872e-06]\n",
      "LinearTrend_4\n",
      "[-1.48434088e-03  6.85108522e-04  0.00000000e+00  7.46896664e-04\n",
      "  6.04279788e-05 -8.09228413e-06]\n",
      "Eta_e_4\n",
      "[-0.00300898  0.00520507 -0.01155504  0.00479741  0.00202239  0.00253915]\n",
      "Period_fit_v2_4\n",
      "[ 1.01905467e-03 -4.01888835e-05 -7.08800503e-04  2.04353316e-04\n",
      " -7.07370144e-05 -4.03681585e-04]\n",
      "PeriodPowerRate_4\n",
      "[ 0.00000000e+00  9.65387608e-05  0.00000000e+00 -2.62223476e-05\n",
      " -3.86551621e-06 -6.64508970e-05]\n",
      "Psi_CS_v2_4\n",
      "[0. 0. 0. 0. 0. 0.]\n",
      "Psi_eta_v2_4\n",
      "[ 5.78826957e-04  9.41049768e-04 -8.43459968e-04 -9.98221448e-05\n",
      " -1.19152109e-04 -4.57442503e-04]\n",
      "StructureFunction_index_21_4\n",
      "[ 5.52917192e-04 -2.74309402e-04  0.00000000e+00 -5.88374058e-05\n",
      "  3.36798304e-05 -2.53450214e-04]\n",
      "Pvar_4\n",
      "[ 0.00029389 -0.00142897 -0.0002228   0.0027138  -0.0004678  -0.00088812]\n",
      "StructureFunction_index_31_4\n",
      "[-5.95158822e-04  3.00871987e-04  0.00000000e+00  3.32401561e-04\n",
      "  0.00000000e+00 -3.81147262e-05]\n",
      "ExcessVar_4\n",
      "[ 4.00672675e-03 -6.79826078e-03  0.00000000e+00  1.84788904e-03\n",
      "  9.03780896e-04  3.98640913e-05]\n",
      "IAR_phi_4\n",
      "[-0.02006054  0.01911016 -0.01279428  0.00971405 -0.00224785  0.00627845]\n",
      "CAR_sigma_5\n",
      "[ 0.00084633 -0.00010799 -0.00013552 -0.00049183  0.00066982 -0.00078082]\n",
      "CAR_mean_5\n",
      "[-4.93936249e-03  2.76085355e-03  2.29268416e-05 -1.26811158e-03\n",
      "  3.08907534e-03  3.34618334e-04]\n",
      "Meanvariance_5\n",
      "[-0.01881044  0.01073711  0.00016546  0.00361103  0.00367169  0.00062516]\n",
      "Mean_5\n",
      "[-0.01705704  0.00330418 -0.00013198  0.00916359  0.00448675  0.0002345 ]\n",
      "PercentAmplitude_5\n",
      "[-3.32999202e-03  1.98233730e-03  6.59175080e-04  1.46135473e-03\n",
      " -7.77191317e-04  4.31622624e-06]\n",
      "Skew_5\n",
      "[-0.02688122  0.01377524  0.0014195   0.00284356  0.00706183  0.00178108]\n",
      "AndersonDarling_5\n",
      "[-7.80013391e-03  2.13759606e-03  3.76562138e-05  2.32431242e-03\n",
      "  3.02368568e-03  2.76883535e-04]\n",
      "Std_5\n",
      "[ 0.03378974 -0.00352961 -0.01747446 -0.00437376 -0.00727759 -0.00113433]\n",
      "Rcs_5\n",
      "[-3.45215149e-03  3.06669854e-03  4.18583159e-06  1.80007084e-03\n",
      " -1.20879612e-03 -2.10007603e-04]\n",
      "StetsonK_5\n",
      "[-0.00459067  0.00422855 -0.00608719  0.00263436  0.00358758  0.00022737]\n",
      "MedianAbsDev_5\n",
      "[ 0.02915907 -0.00347018 -0.03081095  0.00341195  0.00340295 -0.00169283]\n",
      "Q31_5\n",
      "[ 0.02492863  0.00169411 -0.0251304   0.00154038  0.00262385 -0.00565656]\n",
      "Amplitude_5\n",
      "[ 0.01870032 -0.00115483 -0.00957709 -0.00276591 -0.00396956 -0.00123293]\n",
      "PeriodLS_v2_5\n",
      "[ 0.00769848  0.00116969 -0.01123194  0.00096271  0.00083534  0.00056572]\n",
      "Harmonics_mag_1_5\n",
      "[ 0.00453116  0.00021086 -0.00676853  0.00119494  0.00110839 -0.00027682]\n",
      "Harmonics_mag_2_5\n",
      "[-4.36661432e-04  4.83152537e-04 -2.01848777e-03  1.11754786e-03\n",
      "  8.77447615e-04 -2.29988053e-05]\n",
      "Harmonics_mag_3_5\n",
      "[-0.00527046  0.00340604 -0.00102482  0.00145393  0.0013042   0.00013111]\n",
      "Harmonics_mag_4_5\n",
      "[-2.86898264e-03  1.58268801e-03 -9.93481956e-04  1.20643449e-03\n",
      "  1.04688018e-03  2.64619116e-05]\n",
      "Harmonics_mag_5_5\n",
      "[-4.37869129e-03  2.32845635e-03 -1.10627885e-03  1.93392914e-03\n",
      "  1.14687761e-03  7.57070419e-05]\n",
      "Harmonics_mag_6_5\n",
      "[-0.00077369  0.0008229  -0.00116152  0.00045849  0.00051509  0.00013873]\n",
      "Harmonics_mag_7_5\n",
      "[-5.44032030e-03  2.16965449e-03 -1.56833112e-03  3.12471068e-03\n",
      "  1.68282516e-03  3.14610939e-05]\n",
      "Harmonics_phase_2_5\n",
      "[-1.02254946e-04 -1.56401083e-03  0.00000000e+00 -1.23139279e-04\n",
      "  2.56652668e-05  1.76373979e-03]\n",
      "Harmonics_phase_3_5\n",
      "[ 0.00000000e+00  2.41907799e-05  0.00000000e+00  0.00000000e+00\n",
      " -2.45347260e-05  3.43946102e-07]\n",
      "Harmonics_phase_4_5\n",
      "[ 0.         -0.00113106  0.          0.00191285 -0.00078179  0.        ]\n",
      "Harmonics_phase_5_5\n",
      "[-1.47883363e-03  2.93233496e-04  0.00000000e+00  1.20585437e-03\n",
      "  2.72266001e-08 -2.02814632e-05]\n",
      "Harmonics_phase_6_5\n",
      "[-5.49651347e-04  3.80343982e-05  0.00000000e+00  5.11616948e-04\n",
      "  0.00000000e+00  0.00000000e+00]\n",
      "Harmonics_phase_7_5\n",
      "[0. 0. 0. 0. 0. 0.]\n",
      "Harmonics_mse_5\n",
      "[ 4.56972180e-03 -9.20369015e-04 -1.46654335e-03 -7.50903921e-04\n",
      " -1.51858036e-03  8.66748521e-05]\n",
      "Autocor_length_5\n",
      "[-0.00049337  0.00418765 -0.01125241  0.00338408  0.00134815  0.0028259 ]\n",
      "SlottedA_length_5\n",
      "[ 3.31769709e-04  6.14285785e-04 -5.21680622e-04 -1.19211539e-05\n",
      " -4.66940253e-04  5.44865345e-05]\n",
      "StetsonK_AC_5\n",
      "[ 3.12460535e-04 -1.13913474e-04  0.00000000e+00 -1.77441059e-04\n",
      "  0.00000000e+00 -2.11060020e-05]\n",
      "Con_5\n",
      "[0. 0. 0. 0. 0. 0.]\n",
      "Beyond1Std_5\n",
      "[-0.00372696  0.00120547  0.00089951  0.00063491  0.00083318  0.00015389]\n",
      "SmallKurtosis_5\n",
      "[-0.00337633  0.00205542  0.00086075  0.00045769  0.00091182 -0.00090936]\n",
      "MaxSlope_5\n",
      "[ 6.26709407e-03 -8.53155031e-04 -4.89445915e-03 -7.63249076e-05\n",
      " -1.19616558e-03  7.53010599e-04]\n",
      "MedianBRP_5\n",
      "[-0.00668967  0.00186919  0.00220141  0.00084916  0.00160274  0.00016717]\n",
      "PairSlopeTrend_5\n",
      "[0. 0. 0. 0. 0. 0.]\n",
      "LinearTrend_5\n",
      "[-6.72874331e-04  3.18359362e-04  2.68559793e-04  4.73252660e-05\n",
      " -9.94611579e-06  4.85760247e-05]\n",
      "Eta_e_5\n",
      "[-0.00080893  0.0067826  -0.01851759  0.00616344  0.00375576  0.00262472]\n",
      "Period_fit_v2_5\n",
      "[ 0.00778306  0.00178365 -0.00926725  0.00100887  0.00091892 -0.00222725]\n",
      "PeriodPowerRate_5\n",
      "[-3.03274861e-04 -5.12857021e-04 -1.65990604e-04 -6.76647446e-04\n",
      "  3.44753274e-06  1.65532240e-03]\n",
      "Psi_CS_v2_5\n",
      "[ 3.29465440e-04 -1.19365784e-04  0.00000000e+00  7.27089722e-07\n",
      " -1.72154465e-04 -3.86722808e-05]\n",
      "Psi_eta_v2_5\n",
      "[ 0.0066566   0.00051128 -0.00580792  0.00028326  0.00061127 -0.0022545 ]\n",
      "StructureFunction_index_21_5\n",
      "[-1.85178549e-04  8.13151800e-06  1.43034551e-04  4.92907747e-06\n",
      "  1.42283411e-05  1.48550616e-05]\n",
      "Pvar_5\n",
      "[-0.00420313  0.00230975 -0.00414432  0.00370628  0.00307069 -0.00073927]\n",
      "StructureFunction_index_31_5\n",
      "[-1.45898445e-03  6.23887681e-04  3.18071423e-04  2.66046089e-04\n",
      "  7.65489958e-05  1.74430266e-04]\n",
      "ExcessVar_5\n",
      "[ 0.00176475  0.00078274 -0.00085406 -0.00081602 -0.00108044  0.00020303]\n",
      "IAR_phi_5\n",
      "[-0.01367727  0.00958482 -0.00934345  0.00719576  0.00225444  0.00398569]\n",
      "--------------------\n"
     ]
    }
   ],
   "source": [
    "# get decomposition\n",
    "for i in range(len(instances)):\n",
    "    \n",
    "    print(\"Instance\", i)\n",
    "    print(\"Bias (trainset mean\", bias[i])\n",
    "    print(\"Feature contributions:\")\n",
    "#     for c, feature in sorted(zip(contributions[i], featuresNames), key=lambda x: -abs(x[0])):\n",
    "#         print(feature, round(c, 2))\n",
    "    for c, feature in zip(contributions[0], \n",
    "                             featuresNames):\n",
    "        print(feature)\n",
    "        print(c)\n",
    "        \n",
    "    print(\"-\"*20)"
   ]
  },
  {
   "cell_type": "code",
   "execution_count": 101,
   "id": "white-context",
   "metadata": {},
   "outputs": [],
   "source": [
    "ti.predict?"
   ]
  }
 ],
 "metadata": {
  "kernelspec": {
   "display_name": "Python 3",
   "language": "python",
   "name": "python3"
  },
  "language_info": {
   "codemirror_mode": {
    "name": "ipython",
    "version": 3
   },
   "file_extension": ".py",
   "mimetype": "text/x-python",
   "name": "python",
   "nbconvert_exporter": "python",
   "pygments_lexer": "ipython3",
   "version": "3.7.6"
  }
 },
 "nbformat": 4,
 "nbformat_minor": 5
}
