{
 "cells": [
  {
   "cell_type": "code",
   "execution_count": 27,
   "metadata": {},
   "outputs": [],
   "source": [
    "import pickle\n",
    "import numpy as np"
   ]
  },
  {
   "cell_type": "code",
   "execution_count": 28,
   "metadata": {},
   "outputs": [],
   "source": [
    "# number_experiments = [9, 10, 11, 12]\n",
    "number_experiments = [9, 10, 11, 12]\n",
    "\n",
    "seeds = [0]\n",
    "max_elements_per_class = 15000\n",
    "trainingOnGuanaco = False\n",
    "idsBefore = {}\n",
    "idsAfter = {}"
   ]
  },
  {
   "cell_type": "code",
   "execution_count": 29,
   "metadata": {},
   "outputs": [],
   "source": [
    "tmpGuanaco = \"/home/lbravo/thesis/thesis/work/thesis/\"\n",
    "tmpLocal = \"/home/leo/Desktop/thesis/work/thesis/\"\n",
    "\n",
    "for number_experiment in number_experiments:\n",
    "    \n",
    "    for seed in seeds:\n",
    "        \n",
    "    \n",
    "        expPath = \"experiments/\" + str(number_experiment) + \"/seed\" + str(seed) + \"/maxClass\" + str(int(max_elements_per_class/1000)) + \"k\"\n",
    "\n",
    "        folder_path = (tmpGuanaco + expPath) if trainingOnGuanaco else (tmpLocal + expPath)\n",
    "\n",
    "        # load ids dictionary\n",
    "        a_file = open(folder_path + \"/dataset_ids_before_balancing.pkl\", \"rb\")\n",
    "        output = pickle.load(a_file)\n",
    "    #     print(output)\n",
    "\n",
    "        idsBefore[str(number_experiment) + str(seed)] = output\n",
    "\n",
    "        # after\n",
    "        a_file = open(folder_path + \"/dataset_ids_after_balancing.pkl\", \"rb\")\n",
    "        output = pickle.load(a_file)\n",
    "    #     print(output)\n",
    "\n",
    "        idsAfter[str(number_experiment) + str(seed)] = output\n",
    "\n",
    "    "
   ]
  },
  {
   "cell_type": "code",
   "execution_count": 33,
   "metadata": {},
   "outputs": [
    {
     "name": "stdout",
     "output_type": "stream",
     "text": [
      "test ok\n"
     ]
    }
   ],
   "source": [
    "seed1 = str(0)\n",
    "exp1 = str(12)\n",
    "\n",
    "seed2 = str(0)\n",
    "exp2 = str(9)\n",
    "\n",
    "assert np.array_equal(idsAfter[exp1 + seed1][\"train\"],idsAfter[exp2 + seed2][\"train\"])\n",
    "print(\"test ok\")"
   ]
  }
 ],
 "metadata": {
  "kernelspec": {
   "display_name": "Python 3",
   "language": "python",
   "name": "python3"
  },
  "language_info": {
   "codemirror_mode": {
    "name": "ipython",
    "version": 3
   },
   "file_extension": ".py",
   "mimetype": "text/x-python",
   "name": "python",
   "nbconvert_exporter": "python",
   "pygments_lexer": "ipython3",
   "version": "3.7.6"
  }
 },
 "nbformat": 4,
 "nbformat_minor": 4
}
