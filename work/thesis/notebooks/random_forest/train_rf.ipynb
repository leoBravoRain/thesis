{
 "cells": [
  {
   "cell_type": "code",
   "execution_count": 7,
   "metadata": {},
   "outputs": [],
   "source": [
    "%matplotlib notebook\n",
    "import matplotlib.pyplot as plt\n",
    "import numpy as np \n",
    "import pandas as pd\n",
    "import sklearn\n",
    "import imblearn\n",
    "import pickle\n",
    "from joblib import load, dump"
   ]
  },
  {
   "cell_type": "code",
   "execution_count": 2,
   "metadata": {},
   "outputs": [],
   "source": [
    "with open(\"../../models/features/dataset_ids_before_balancing.pkl\", \"rb\") as f:\n",
    "    lc_ids = pickle.load(f)"
   ]
  },
  {
   "cell_type": "code",
   "execution_count": 11,
   "metadata": {},
   "outputs": [],
   "source": [
    "features = {}\n",
    "for subset in ['train', 'validation', 'test']:\n",
    "    tmp = []\n",
    "    for lc_id in lc_ids[subset]:\n",
    "        with open(\"features/fats\"+str(int(lc_id))+\".pkl\", \"rb\") as f:\n",
    "            tmp.append(load(f))\n",
    "    features[subset] = pd.concat(tmp, axis=0)"
   ]
  },
  {
   "cell_type": "code",
   "execution_count": null,
   "metadata": {},
   "outputs": [],
   "source": [
    "parameters = {'criterion':('gini', 'entropy'), \n",
    "              'n_estimators':[50, 500, 5000], \n",
    "              'max_depth': [None, 10] } \n",
    "\n",
    "rf = BalancedRandomForestClassifier() \n",
    "cv = GridSearchCV(rf, parameters, cv=5, verbose=2, n_jobs=8, scoring='f1_macro') \n",
    "cv.fit(features.loc[train_idx].fillna(0).values, df_meta.loc[train_idx][\"label\"]) \n",
    "print(cv.best_params_)"
   ]
  },
  {
   "cell_type": "code",
   "execution_count": null,
   "metadata": {},
   "outputs": [],
   "source": [
    "print(\"Compressing best model\") \n",
    "\n",
    "with open(\"best_rf_balanced.pkl.xz\", \"wb\") as f: \n",
    "    dump(cv.best_estimator_, f, compress=('xz', 9)) "
   ]
  }
 ],
 "metadata": {
  "kernelspec": {
   "display_name": "Python3 (astro)",
   "language": "python",
   "name": "astro"
  },
  "language_info": {
   "codemirror_mode": {
    "name": "ipython",
    "version": 3
   },
   "file_extension": ".py",
   "mimetype": "text/x-python",
   "name": "python",
   "nbconvert_exporter": "python",
   "pygments_lexer": "ipython3",
   "version": "3.7.9"
  }
 },
 "nbformat": 4,
 "nbformat_minor": 2
}
