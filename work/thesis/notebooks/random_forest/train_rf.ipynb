{
 "cells": [
  {
   "cell_type": "code",
   "execution_count": 1,
   "metadata": {},
   "outputs": [],
   "source": [
    "%matplotlib notebook\n",
    "import matplotlib.pyplot as plt\n",
    "import numpy as np \n",
    "import pandas as pd\n",
    "import sklearn\n",
    "import imblearn\n",
    "import pickle\n",
    "from joblib import load, dump"
   ]
  },
  {
   "cell_type": "code",
   "execution_count": null,
   "metadata": {},
   "outputs": [],
   "source": [
    "# Download features\n",
    "!scp -r -P 22334 -i mi_llave guanaco.inf.uach.cl:/home/shared/astro/PLAsTiCC/fats_featurs.tar.gz .\n",
    "!tar xzvf fats_features.tar.gz"
   ]
  },
  {
   "cell_type": "code",
   "execution_count": 20,
   "metadata": {},
   "outputs": [],
   "source": [
    "# Select seed, load ids and features\n",
    "\n",
    "seed = 1\n",
    "with open(f\"ids/seed{seed}/maxClass15k/dataset_ids_before_balancing.pkl\", \"rb\") as f:\n",
    "    lc_ids = pickle.load(f)\n",
    "    \n",
    "features = {}\n",
    "for subset in ['train', 'validation', 'test']:\n",
    "    tmp = []\n",
    "    for lc_id in lc_ids[subset]:\n",
    "        with open(\"features/fats\"+str(int(lc_id))+\".pkl\", \"rb\") as f:\n",
    "            tmp.append(load(f))\n",
    "    features[subset] = pd.concat(tmp, axis=0)"
   ]
  },
  {
   "cell_type": "code",
   "execution_count": 34,
   "metadata": {},
   "outputs": [
    {
     "name": "stdout",
     "output_type": "stream",
     "text": [
      "              precision    recall  f1-score   support\n",
      "\n",
      "           6       0.91      0.51      0.66       260\n",
      "          16       0.95      0.95      0.95      1577\n",
      "          53       0.98      0.99      0.99       146\n",
      "          65       0.93      0.94      0.94      1581\n",
      "          88       0.96      0.98      0.97      1494\n",
      "          92       0.96      0.98      0.97      1487\n",
      "\n",
      "    accuracy                           0.95      6545\n",
      "   macro avg       0.95      0.89      0.91      6545\n",
      "weighted avg       0.95      0.95      0.95      6545\n",
      "\n"
     ]
    }
   ],
   "source": [
    "# Train balanced RF\n",
    "from sklearn.metrics import f1_score, classification_report\n",
    "from imblearn.ensemble import BalancedRandomForestClassifier\n",
    "\n",
    "rf = BalancedRandomForestClassifier(n_estimators=500, criterion='entropy', replacement=True,\n",
    "                                    max_depth=10, class_weight='balanced', n_jobs=8) \n",
    "                \n",
    "\n",
    "rf.fit(features['train'].fillna(-1000).values, \n",
    "       lc_ids['labels_train'].astype('int')) \n",
    "\n",
    "preds = rf.predict(features['validation'].fillna(-1000).values)\n",
    "print(classification_report(preds, lc_ids['labels_validation'].astype('int')))\n",
    "print(rf.features)          "
   ]
  },
  {
   "cell_type": "code",
   "execution_count": 36,
   "metadata": {},
   "outputs": [
    {
     "name": "stdout",
     "output_type": "stream",
     "text": [
      "              precision    recall  f1-score   support\n",
      "\n",
      "           6       0.94      0.48      0.64       286\n",
      "          16       0.94      0.97      0.95      1547\n",
      "          53       0.99      1.00      0.99       147\n",
      "          65       0.93      0.95      0.94      1569\n",
      "          88       0.96      0.99      0.97      1489\n",
      "          92       0.97      0.98      0.97      1508\n",
      "\n",
      "    accuracy                           0.95      6546\n",
      "   macro avg       0.95      0.89      0.91      6546\n",
      "weighted avg       0.95      0.95      0.95      6546\n",
      "\n"
     ]
    }
   ],
   "source": [
    "# Result on test set\n",
    "preds = rf.predict(features['test'].fillna(-1000).values)\n",
    "print(classification_report(preds, lc_ids['labels_test'].astype('int')))"
   ]
  },
  {
   "cell_type": "code",
   "execution_count": null,
   "metadata": {},
   "outputs": [],
   "source": [
    "# Features sorted by importance\n",
    "features['train'].columns.values[np.argsort(rf.feature_importances_)[::-1]]"
   ]
  }
 ],
 "metadata": {
  "kernelspec": {
   "display_name": "Python3 (astro)",
   "language": "python",
   "name": "astro"
  },
  "language_info": {
   "codemirror_mode": {
    "name": "ipython",
    "version": 3
   },
   "file_extension": ".py",
   "mimetype": "text/x-python",
   "name": "python",
   "nbconvert_exporter": "python",
   "pygments_lexer": "ipython3",
   "version": "3.7.9"
  }
 },
 "nbformat": 4,
 "nbformat_minor": 2
}
