{
 "cells": [
  {
   "cell_type": "markdown",
   "metadata": {},
   "source": [
    "# Note\n",
    "This notebook is to train the encoder as a classifier with the idea of validate the encoder architecture first and then use this to train the VAE."
   ]
  },
  {
   "cell_type": "markdown",
   "metadata": {},
   "source": [
    "# Parameters to experiment"
   ]
  },
  {
   "cell_type": "code",
   "execution_count": 1,
   "metadata": {},
   "outputs": [],
   "source": [
    "sizePercents = [0.1, 0.3, 0.5, 0.7, 1]\n",
    "\n",
    "# to analuze execution times\n",
    "# useGpu = False\n",
    "useGpu = True\n",
    "\n",
    "trainingOnGuanaco = False\n",
    "# trainingOnGuanaco = True"
   ]
  },
  {
   "cell_type": "code",
   "execution_count": 2,
   "metadata": {},
   "outputs": [],
   "source": [
    "# training on guanaco\n",
    "# ATENTION: if it is going to run on guanaco:\n",
    "# 1) comment the %matplotlib magic in next block and any magic (something like %code)\n",
    "# 2) Change to True the trainingOnGuanaco vairbale\n",
    "# 3) set epoch with an appropiate number\n",
    "# 4) add comment to experiemnts\n",
    "# 5) Add this file as python file \n",
    "# 6) Change launchJobOnGuanaco file to run this file but with python format\n",
    "# trainingOnGuanaco = False\n",
    "\n",
    "# train without notebook\n",
    "trainWithJustPython = False\n",
    "\n",
    "# number_experiment (this is just a name)\n",
    "# priors:\n",
    "# 1\n",
    "number_experiment = 99\n",
    "number_experiment = str(number_experiment)\n",
    "\n",
    "# seed to generate same datasets\n",
    "seed = 0\n",
    "\n",
    "# training\n",
    "epochs = 3\n",
    "\n",
    "# max elements by class\n",
    "# max_elements_per_class = 15000 # this is the definitive in the work\n",
    "max_elements_per_class = 15000\n",
    "\n",
    "# train with previous model\n",
    "trainWithPreviousModel = True\n",
    "\n",
    "# include delta errors\n",
    "includeDeltaErrors = True\n",
    "\n",
    "# band\n",
    "#passband = [5]\n",
    "passband = [0, 1, 2, 3, 4, 5]\n",
    "\n",
    "\n",
    "# include ohter feautures\n",
    "includeOtherFeatures = True\n",
    "\n",
    "# num of features to add\n",
    "# ṕvar by channel\n",
    "otherFeaturesDim = 12"
   ]
  },
  {
   "cell_type": "code",
   "execution_count": 3,
   "metadata": {},
   "outputs": [],
   "source": [
    "# cuda device\n",
    "cuda_device = 0\n",
    "cuda_device = \"cuda:\" + str(cuda_device)\n",
    "\n",
    "# classes to analyze\n",
    "# 42,  90,  16,  67,  62, 993,  92,  52,  88,  65, 991, 992,  15,\n",
    "#        95,   6,  53, 994,  64\n",
    "\n",
    "# periodic\n",
    "# only_these_labels = [16, 92, 53]\n",
    "\n",
    "# periodic + variable\n",
    "only_these_labels = [16, 92, 53, 88, 65, 6]\n",
    "# 53 has 24 light curves\n",
    "\n",
    "# only_these_labels = [16, 92]\n",
    "# only_these_labels = [16, 92]\n",
    "# only_these_labels = [42,  90,  16,  67,  62, 993,  92,  52,  88,  65, 991, 992,  15,\n",
    "#         95,   6,  53, 994,  64]\n",
    "\n",
    "# VAE parameters\n",
    "latentDim = 100\n",
    "hiddenDim = 100\n",
    "inputDim = 72\n",
    "\n",
    "batch_training_size = 128\n",
    "\n",
    "# early stopping \n",
    "threshold_early_stop = 1500"
   ]
  },
  {
   "cell_type": "code",
   "execution_count": 4,
   "metadata": {},
   "outputs": [],
   "source": [
    "# training params\n",
    "learning_rate = 1e-4"
   ]
  },
  {
   "cell_type": "code",
   "execution_count": 5,
   "metadata": {},
   "outputs": [
    {
     "name": "stdout",
     "output_type": "stream",
     "text": [
      "exp 99 + encoder as clasifier with periodic + variable + class balancing + 1 conv layer more + 6 channels + seed 0 + include delta errors + max by class 15000 +  other features\n"
     ]
    }
   ],
   "source": [
    "# add general comment about experiment \n",
    "# comment = \"encoder as clasifier with periodic + variable (with class balancing) + 1 conv layer more\"\n",
    "comment = \"exp \" + number_experiment + \" + encoder as clasifier with periodic + variable + class balancing + 1 conv layer more + \" + str(len(passband)) + \" channels + seed \" + str(seed) + \" + \" + (\"include delta errors\" if includeDeltaErrors else \"without delta errors\") + \" + max by class \" + str(max_elements_per_class) + \" + \" + (\"\" if includeOtherFeatures else \"not\") + \" other features\"\n",
    "\n",
    "print(comment)"
   ]
  },
  {
   "cell_type": "markdown",
   "metadata": {},
   "source": [
    "# Import libraries"
   ]
  },
  {
   "cell_type": "code",
   "execution_count": 6,
   "metadata": {},
   "outputs": [],
   "source": [
    "import pandas as pd\n",
    "import matplotlib.pyplot as plt\n",
    "import numpy as np\n",
    "\n",
    "import torch\n",
    "from torch.utils import data\n",
    "\n",
    "# from tqdm import tqdm_notebook\n",
    "\n",
    "if not trainingOnGuanaco:\n",
    "    \n",
    "    %matplotlib notebook\n",
    "    %load_ext autoreload\n",
    "    %autoreload 2\n",
    "else:\n",
    "    print(\"not load magics\")\n",
    "    \n",
    "# import functions to load dataset\n",
    "import sys\n",
    "sys.path.append(\"./codesToDatasets\")\n",
    "from plasticc_dataset_torch import get_plasticc_datasets\n",
    "from plasticc_plotting import plot_light_curve\n",
    "\n",
    "import math\n",
    "\n",
    "from torch import nn\n",
    "\n",
    "# local imports\n",
    "# %load_ext autoreload\n",
    "# %autoreload 2\n",
    "sys.path.append('../models')\n",
    "# from classifier import EncoderClassifier, \n",
    "from classifierPrototype import EncoderClassifier\n",
    "\n",
    "sys.path.append(\"./aux/\")\n",
    "from auxFunctions import *\n",
    "\n",
    "from sklearn.model_selection import train_test_split\n",
    "\n",
    "import time"
   ]
  },
  {
   "cell_type": "markdown",
   "metadata": {},
   "source": [
    "## Load the path to save model while training"
   ]
  },
  {
   "cell_type": "code",
   "execution_count": 7,
   "metadata": {},
   "outputs": [
    {
     "name": "stdout",
     "output_type": "stream",
     "text": [
      "folder already exists\n"
     ]
    }
   ],
   "source": [
    "import os\n",
    "\n",
    "# create experiment's folder\n",
    "tmpGuanaco = \"/home/lbravo/thesis/thesis/work/thesis/\"\n",
    "tmpLocal = \"/home/leo/Desktop/thesis/work/thesis/\"\n",
    "\n",
    "# expPath = \"experiments/\" + number_experiment + \"/seed\" + str(seed) + \"/maxClass\" + str(int(max_elements_per_class/1000)) + \"k\"\n",
    "# this si to use the 15k model but using other max of classes as dataset\n",
    "# expPath = \"experiments/\" + number_experiment + \"/seed\" + str(seed) + \"/maxClass\" + str(15) + \"k\"\n",
    "# 18 is the final model\n",
    "expPath = \"experiments/\" + str(number_experiment) + \"/seed\" + str(seed) + \"/maxClass\" + str(15) + \"k\"\n",
    "\n",
    "folder_path = (tmpGuanaco + expPath) if trainingOnGuanaco else (tmpLocal + expPath)\n",
    "\n",
    "\n",
    "# check if folder exists\n",
    "if not(os.path.isdir(folder_path)):\n",
    "        \n",
    "    # create folder\n",
    "    try:\n",
    "        os.makedirs(folder_path)\n",
    "        \n",
    "    except OSError as error:\n",
    "        print (\"Creation of the directory %s failed\" % folder_path)\n",
    "        print(error)\n",
    "    else:\n",
    "        print (\"Successfully created the directory %s \" % folder_path)\n",
    "else:\n",
    "    print(\"folder already exists\")\n",
    "\n",
    "    \n",
    "    \n",
    "# # define paht to save model while training\n",
    "# pathToSaveModel = (tmpGuanaco + expPath + \"/model\") if trainingOnGuanaco else (tmpLocal + expPath + \"/model\")"
   ]
  },
  {
   "cell_type": "markdown",
   "metadata": {},
   "source": [
    "# Load data"
   ]
  },
  {
   "cell_type": "code",
   "execution_count": 8,
   "metadata": {},
   "outputs": [],
   "source": [
    "# define path to dataset\n",
    "pathToFile = \"/home/shared/astro/PLAsTiCC/\" if trainingOnGuanaco else \"/home/leo/Downloads/plasticData/\""
   ]
  },
  {
   "cell_type": "markdown",
   "metadata": {},
   "source": [
    "## Loading dataset with pytorch tool"
   ]
  },
  {
   "cell_type": "code",
   "execution_count": 9,
   "metadata": {},
   "outputs": [
    {
     "name": "stdout",
     "output_type": "stream",
     "text": [
      "You have selected lazy loading. Light curves will be loaded ondemand from the harddrive\n",
      "Found 2 csv files at given path\n",
      "Loading /home/leo/Downloads/plasticData/plasticc_train_lightcurves.csv\n",
      "Loading /home/leo/Downloads/plasticData/plasticc_test_set_batch1.csv\n"
     ]
    }
   ],
   "source": [
    "# torch_dataset_lazy = get_plasticc_datasets(pathToFile)\n",
    "\n",
    "# Light curves are tensors are now [bands, [mjd, flux, err, mask],\n",
    "# lc_data, lc_label, lc_plasticc_id                              \n",
    "torch_dataset_lazy = get_plasticc_datasets(pathToFile, only_these_labels=only_these_labels, max_elements_per_class = max_elements_per_class)"
   ]
  },
  {
   "cell_type": "markdown",
   "metadata": {},
   "source": [
    "# Create false data"
   ]
  },
  {
   "cell_type": "code",
   "execution_count": 10,
   "metadata": {},
   "outputs": [],
   "source": [
    "# falseData = np.ones(shape = (100, 6, 4, 72))\n",
    "# falseLabels = np.ones(shape = (100,))\n",
    "# falseIdx = np.ones(shape = (100,))\n",
    "# falseDataset = [falseData, falseLabels, falseIdx]\n",
    "\n",
    "\n",
    "# torch_dataset_lazy = falseDataset"
   ]
  },
  {
   "cell_type": "code",
   "execution_count": 11,
   "metadata": {},
   "outputs": [],
   "source": [
    "# indexs = []\n",
    "\n",
    "# 0:92\n",
    "# 1: 88\n",
    "# 2: 65\n",
    "# 5: 16\n",
    "# 39  : 6\n",
    "# 268  : 53\n",
    "\n",
    "# for idx, i in enumerate(torch_dataset_lazy):\n",
    "# #     print(i[1])\n",
    "#     if i[1] == 53:\n",
    "#         print(idx)\n",
    "\n",
    "# 16, 92, 53, 88, 65, 6\n",
    "indexs = [5, 0, 268, 1, 2, 39]\n",
    "\n",
    "# fakeDataset = []\n",
    "\n",
    "# 16, 92, 53, 88, 65, 6\n",
    "dist = [97000, 197000, 1453, 101000, 94000, 1300]\n",
    "dist = dist/np.sum(dist)\n",
    "\n",
    "def createFakeDataset(numSamples):\n",
    "#     print(numSamples)\n",
    "    fakeDataset = []\n",
    "    samples = (numSamples*dist).astype(int)\n",
    "\n",
    "    for i in range(6):\n",
    "\n",
    "        for j in range(samples[i]):\n",
    "\n",
    "            fakeDataset.append(torch_dataset_lazy[indexs[i]])\n",
    "\n",
    "    return fakeDataset"
   ]
  },
  {
   "cell_type": "code",
   "execution_count": 12,
   "metadata": {},
   "outputs": [],
   "source": [
    "# # samples = 30022\n",
    "# print(np.sum((numSamples*dist).astype(int)))"
   ]
  },
  {
   "cell_type": "markdown",
   "metadata": {},
   "source": [
    "## Defining parameters to Autoencoder"
   ]
  },
  {
   "cell_type": "code",
   "execution_count": 13,
   "metadata": {},
   "outputs": [
    {
     "name": "stdout",
     "output_type": "stream",
     "text": [
      "gpu\n",
      "loading saved model\n"
     ]
    }
   ],
   "source": [
    "# check number of parameters\n",
    "# latentDim = 5\n",
    "# hiddenDim = 10\n",
    "# inputDim = 72\n",
    "\n",
    "latentDim = latentDim\n",
    "hiddenDim = hiddenDim\n",
    "inputDim = inputDim\n",
    "\n",
    "# passband = passband\n",
    "\n",
    "expPath_ = \"experiments/18/seed\" + str(seed) + \"/maxClass\" + str(15) + \"k\"\n",
    "pathToSaveModel_ = (tmpGuanaco + expPath_ + \"/model\") if trainingOnGuanaco else (tmpLocal + expPath_ + \"/model\")\n",
    "\n",
    "\n",
    "num_classes = len(only_these_labels)\n",
    "\n",
    "if useGpu:\n",
    "    \n",
    "    print(\"gpu\")\n",
    "    \n",
    "    # loading model\n",
    "    model = torch.load(pathToSaveModel_ + \".txt\").to(device = cuda_device)\n",
    "    \n",
    "    print(\"loading saved model\")\n",
    "    \n",
    "\n",
    "else:\n",
    "    print(\"cpu\")\n",
    "    model = torch.load(pathToSaveModel_ + \".txt\").cpu()"
   ]
  },
  {
   "cell_type": "code",
   "execution_count": 14,
   "metadata": {
    "scrolled": false
   },
   "outputs": [
    {
     "name": "stdout",
     "output_type": "stream",
     "text": [
      "EncoderClassifier(\n",
      "  (pconv1): PartialConv(\n",
      "    (input_conv): Conv1d(6, 64, kernel_size=(3,), stride=(2,))\n",
      "    (mask_conv): Conv1d(6, 64, kernel_size=(3,), stride=(2,), bias=False)\n",
      "  )\n",
      "  (pconv2): PartialConv(\n",
      "    (input_conv): Conv1d(64, 32, kernel_size=(3,), stride=(2,))\n",
      "    (mask_conv): Conv1d(64, 32, kernel_size=(3,), stride=(2,), bias=False)\n",
      "  )\n",
      "  (pconv3): PartialConv(\n",
      "    (input_conv): Conv1d(32, 32, kernel_size=(3,), stride=(2,))\n",
      "    (mask_conv): Conv1d(32, 32, kernel_size=(3,), stride=(2,), bias=False)\n",
      "  )\n",
      "  (hidden1): Linear(in_features=768, out_features=100, bias=True)\n",
      "  (outputLayer): Linear(in_features=100, out_features=6, bias=True)\n",
      "  (activationConv): ReLU()\n",
      "  (activationLinear): Tanh()\n",
      ")\n"
     ]
    }
   ],
   "source": [
    "print(model)"
   ]
  },
  {
   "cell_type": "markdown",
   "metadata": {},
   "source": [
    "# Get own model predictions"
   ]
  },
  {
   "cell_type": "code",
   "execution_count": 15,
   "metadata": {},
   "outputs": [],
   "source": [
    "# %%timeit -n 1 -r 1\n",
    "# iterate on test dataset\n",
    "# for data_ in trainLoader:\n",
    "\n",
    "# def trainModelGPU(trainIdx):\n",
    "def trainModelGPU(dataset):\n",
    "    \n",
    "#     print(\"previous dataloader\")\n",
    "    \n",
    "    # training loader\n",
    "    trainLoader = torch.utils.data.DataLoader(\n",
    "#         torch_dataset_lazy, \n",
    "        dataset,\n",
    "        batch_size = 128, \n",
    "        # to balance classes\n",
    "        sampler=ImbalancedDatasetSampler(\n",
    "#             torch_dataset_lazy,\n",
    "            dataset,\n",
    "#             indices = trainIdx,\n",
    "            seed = seed\n",
    "        ),\n",
    "        # each worker retrieve data from disk, so the data will be ready to be processed by main process. The main process should get the data from disk, so if workers > 0, the workers will get the data (not the main process)\n",
    "        num_workers = 1,\n",
    "\n",
    "        # https://developer.nvidia.com/blog/how-optimize-data-transfers-cuda-cc/\n",
    "        # the dataloader loads the data in pinned memory (instead of pageable memory), avoiding one process (to transfer data from pageable memory to pinned memory, work done by CUDA driver)\n",
    "        pin_memory = True,\n",
    "    )\n",
    "\n",
    "\n",
    "#     print(\"dataloader ready\")\n",
    "\n",
    "    for idx, data_ in enumerate(trainLoader):\n",
    "\n",
    "            # GPU\n",
    "            data = data_[0].to(device = cuda_device)\n",
    "            # print(data.get_device())\n",
    "            data = generateDeltas(data.to(device = cuda_device), passband, includeOtherFeatures).type(torch.FloatTensor).to(device = cuda_device)\n",
    "\n",
    "            # get model output\n",
    "            outputs = model.forward(data, includeDeltaErrors)"
   ]
  },
  {
   "cell_type": "code",
   "execution_count": 16,
   "metadata": {},
   "outputs": [],
   "source": [
    "# def trainModelCPU(trainIdx):\n",
    "def trainModelCPU(dataset):\n",
    "    \n",
    "    \n",
    "    # training loader\n",
    "    trainLoader = torch.utils.data.DataLoader(\n",
    "#         torch_dataset_lazy, \n",
    "        dataset,\n",
    "        batch_size = 128, \n",
    "        # to balance classes\n",
    "        sampler=ImbalancedDatasetSampler(\n",
    "#             torch_dataset_lazy, \n",
    "            dataset,\n",
    "#             indices = trainIdx,\n",
    "            seed = seed\n",
    "        ),\n",
    "        # each worker retrieve data from disk, so the data will be ready to be processed by main process. The main process should get the data from disk, so if workers > 0, the workers will get the data (not the main process)\n",
    "        num_workers = 1,\n",
    "\n",
    "        # https://developer.nvidia.com/blog/how-optimize-data-transfers-cuda-cc/\n",
    "        # the dataloader loads the data in pinned memory (instead of pageable memory), avoiding one process (to transfer data from pageable memory to pinned memory, work done by CUDA driver)\n",
    "        pin_memory = True,\n",
    "    )\n",
    "\n",
    "\n",
    "\n",
    "\n",
    "    for idx, data_ in enumerate(trainLoader):\n",
    "\n",
    "\n",
    "            #CPU\n",
    "            data = data_[0]\n",
    "            data = generateDeltas(data, passband, includeOtherFeatures).type(torch.FloatTensor)\n",
    "\n",
    "            # get model output\n",
    "            outputs = model.forward(data, includeDeltaErrors)"
   ]
  },
  {
   "cell_type": "code",
   "execution_count": 17,
   "metadata": {},
   "outputs": [
    {
     "name": "stdout",
     "output_type": "stream",
     "text": [
      "6543\n",
      "445 ms ± 25.7 ms per loop (mean ± std. dev. of 3 runs, 3 loops each)\n",
      "19632\n",
      "1.25 s ± 8.48 ms per loop (mean ± std. dev. of 3 runs, 3 loops each)\n",
      "32722\n",
      "2.01 s ± 10.6 ms per loop (mean ± std. dev. of 3 runs, 3 loops each)\n",
      "45812\n",
      "2.84 s ± 15.9 ms per loop (mean ± std. dev. of 3 runs, 3 loops each)\n",
      "65449\n",
      "3.95 s ± 16.3 ms per loop (mean ± std. dev. of 3 runs, 3 loops each)\n"
     ]
    }
   ],
   "source": [
    "for sizePercent in sizePercents:\n",
    "        \n",
    "    totalDatasetWorked = 65451 # size used on work\n",
    "#     totalDatasetWorked = 300\n",
    "#     sizePercent = 0.02\n",
    "\n",
    "#     finalIndex = int(totalDatasetWorked*sizePercent)\n",
    "#     print(finalIndex)\n",
    "    \n",
    "#     numSamples = int(totalDatasetWorked*sizePercent)\n",
    "    \n",
    "#     trainIdx = trainIdxOriginal[0:finalIndex]\n",
    "#     print(len(trainIdx))\n",
    "    \n",
    "#     saveLightCurvesIdsBeforeBalancingForExecutionTimeAnalysis(trainIdx, valIdx, testIdx, folder_path, lightCurvesIds, targets, sizePercent)\n",
    "\n",
    "    dataset = createFakeDataset(int(totalDatasetWorked*sizePercent))\n",
    "    print(len(dataset))\n",
    "        \n",
    "    if useGpu: \n",
    "        \n",
    "#         dataset = createFakeDataset(totalDatasetWorked*sizePercent)\n",
    "#         print(len(dataset))\n",
    "#         %timeit -n 10 -r 10 trainModelGPU(trainIdx)\n",
    "#         %timeit -n 10 -r 10 trainModelGPU(dataset)\n",
    "        %timeit -n 3 -r 3 trainModelGPU(dataset)\n",
    "        \n",
    "    else:\n",
    "        \n",
    "#         %timeit -n 10 -r 10 trainModelCPU(trainIdx)\n",
    "        %timeit -n 10 -r 10 trainModelCPU(dataset)"
   ]
  }
 ],
 "metadata": {
  "kernelspec": {
   "display_name": "Python 3",
   "language": "python",
   "name": "python3"
  },
  "language_info": {
   "codemirror_mode": {
    "name": "ipython",
    "version": 3
   },
   "file_extension": ".py",
   "mimetype": "text/x-python",
   "name": "python",
   "nbconvert_exporter": "python",
   "pygments_lexer": "ipython3",
   "version": "3.7.6"
  }
 },
 "nbformat": 4,
 "nbformat_minor": 4
}
